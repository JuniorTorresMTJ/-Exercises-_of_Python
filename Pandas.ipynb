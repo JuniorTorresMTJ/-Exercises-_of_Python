{
  "nbformat": 4,
  "nbformat_minor": 0,
  "metadata": {
    "colab": {
      "name": "Pandas.ipynb",
      "provenance": [],
      "authorship_tag": "ABX9TyO72JoPCv8JKkSKuix2YAeF",
      "include_colab_link": true
    },
    "kernelspec": {
      "name": "python3",
      "display_name": "Python 3"
    }
  },
  "cells": [
    {
      "cell_type": "markdown",
      "metadata": {
        "id": "view-in-github",
        "colab_type": "text"
      },
      "source": [
        "<a href=\"https://colab.research.google.com/github/JuniorTorresMTJ/-Exercises-_of_Python/blob/master/Pandas.ipynb\" target=\"_parent\"><img src=\"https://colab.research.google.com/assets/colab-badge.svg\" alt=\"Open In Colab\"/></a>"
      ]
    },
    {
      "cell_type": "markdown",
      "metadata": {
        "id": "NdGYAjIYQS3A",
        "colab_type": "text"
      },
      "source": [
        "# Criação e Manipulação de Series\n",
        "\n"
      ]
    },
    {
      "cell_type": "code",
      "metadata": {
        "id": "vncMeiSGDAFM",
        "colab_type": "code",
        "colab": {}
      },
      "source": [
        "import pandas as pd\n",
        "from pandas import Series"
      ],
      "execution_count": 12,
      "outputs": []
    },
    {
      "cell_type": "markdown",
      "metadata": {
        "id": "QWuc--VYPhRP",
        "colab_type": "text"
      },
      "source": [
        "Verificando a Versão do Pandas"
      ]
    },
    {
      "cell_type": "code",
      "metadata": {
        "id": "ImPdiiJnJ5UT",
        "colab_type": "code",
        "colab": {
          "base_uri": "https://localhost:8080/",
          "height": 35
        },
        "outputId": "43a596c9-68c9-4abb-daa4-46087d7bcd0d"
      },
      "source": [
        "pd.__version__"
      ],
      "execution_count": 13,
      "outputs": [
        {
          "output_type": "execute_result",
          "data": {
            "application/vnd.google.colaboratory.intrinsic": {
              "type": "string"
            },
            "text/plain": [
              "'1.0.5'"
            ]
          },
          "metadata": {
            "tags": []
          },
          "execution_count": 13
        }
      ]
    },
    {
      "cell_type": "markdown",
      "metadata": {
        "id": "ene4iZjlPkAO",
        "colab_type": "text"
      },
      "source": [
        "Criando uma Series com Index automatico\n",
        "\n"
      ]
    },
    {
      "cell_type": "code",
      "metadata": {
        "id": "kHvrSN1fJ7Wa",
        "colab_type": "code",
        "colab": {}
      },
      "source": [
        "obj = pd.Series([67,78,-56, 13])"
      ],
      "execution_count": 17,
      "outputs": []
    },
    {
      "cell_type": "code",
      "metadata": {
        "id": "NT2Lm7tQKFUP",
        "colab_type": "code",
        "colab": {
          "base_uri": "https://localhost:8080/",
          "height": 100
        },
        "outputId": "9aa1a7a2-6309-4fa1-cfa1-2668b4f561ff"
      },
      "source": [
        "obj"
      ],
      "execution_count": 18,
      "outputs": [
        {
          "output_type": "execute_result",
          "data": {
            "text/plain": [
              "0    67\n",
              "1    78\n",
              "2   -56\n",
              "3    13\n",
              "dtype: int64"
            ]
          },
          "metadata": {
            "tags": []
          },
          "execution_count": 18
        }
      ]
    },
    {
      "cell_type": "markdown",
      "metadata": {
        "id": "aan6lL2pPmT_",
        "colab_type": "text"
      },
      "source": [
        "Verificando o tipo da Serie"
      ]
    },
    {
      "cell_type": "code",
      "metadata": {
        "id": "Z7Js9MWCLVuE",
        "colab_type": "code",
        "colab": {
          "base_uri": "https://localhost:8080/",
          "height": 33
        },
        "outputId": "2bb40728-8b5b-4b00-f8d1-d8d4d6058838"
      },
      "source": [
        "type(obj)"
      ],
      "execution_count": 19,
      "outputs": [
        {
          "output_type": "execute_result",
          "data": {
            "text/plain": [
              "pandas.core.series.Series"
            ]
          },
          "metadata": {
            "tags": []
          },
          "execution_count": 19
        }
      ]
    },
    {
      "cell_type": "markdown",
      "metadata": {
        "id": "T4u8dPdHPpm2",
        "colab_type": "text"
      },
      "source": [
        "Verificando os Valores da Serie"
      ]
    },
    {
      "cell_type": "code",
      "metadata": {
        "id": "fOTiyQhbOiVx",
        "colab_type": "code",
        "colab": {
          "base_uri": "https://localhost:8080/",
          "height": 33
        },
        "outputId": "cbac7f4f-e4cc-4e4b-97fa-e24f30993a11"
      },
      "source": [
        "obj.values"
      ],
      "execution_count": 23,
      "outputs": [
        {
          "output_type": "execute_result",
          "data": {
            "text/plain": [
              "array([ 67,  78, -56,  13])"
            ]
          },
          "metadata": {
            "tags": []
          },
          "execution_count": 23
        }
      ]
    },
    {
      "cell_type": "markdown",
      "metadata": {
        "id": "KsGV_aTbPsmw",
        "colab_type": "text"
      },
      "source": [
        "Imprimindo os Index "
      ]
    },
    {
      "cell_type": "code",
      "metadata": {
        "id": "ggQEgYIGOmTA",
        "colab_type": "code",
        "colab": {
          "base_uri": "https://localhost:8080/",
          "height": 33
        },
        "outputId": "6cfd4f99-83f6-4e68-9362-660645f81e2e"
      },
      "source": [
        "obj.index"
      ],
      "execution_count": 24,
      "outputs": [
        {
          "output_type": "execute_result",
          "data": {
            "text/plain": [
              "RangeIndex(start=0, stop=4, step=1)"
            ]
          },
          "metadata": {
            "tags": []
          },
          "execution_count": 24
        }
      ]
    },
    {
      "cell_type": "markdown",
      "metadata": {
        "id": "cJceYqP-PvX_",
        "colab_type": "text"
      },
      "source": [
        "Especificando os valores e os Index\n"
      ]
    },
    {
      "cell_type": "code",
      "metadata": {
        "id": "6qPEL5Z4Ov5b",
        "colab_type": "code",
        "colab": {}
      },
      "source": [
        "obj2= Series([67,78,-56,13], index = ['a','b','c','d'])"
      ],
      "execution_count": 25,
      "outputs": []
    },
    {
      "cell_type": "code",
      "metadata": {
        "id": "CMCe2HlnPBro",
        "colab_type": "code",
        "colab": {
          "base_uri": "https://localhost:8080/",
          "height": 100
        },
        "outputId": "fbbef783-cba6-43de-e2a6-776bbf307467"
      },
      "source": [
        "obj2"
      ],
      "execution_count": 26,
      "outputs": [
        {
          "output_type": "execute_result",
          "data": {
            "text/plain": [
              "a    67\n",
              "b    78\n",
              "c   -56\n",
              "d    13\n",
              "dtype: int64"
            ]
          },
          "metadata": {
            "tags": []
          },
          "execution_count": 26
        }
      ]
    },
    {
      "cell_type": "markdown",
      "metadata": {
        "id": "7mlEuyjaP-rA",
        "colab_type": "text"
      },
      "source": [
        "Mostrando os Valores\n"
      ]
    },
    {
      "cell_type": "code",
      "metadata": {
        "id": "GiBGqFfnPCbL",
        "colab_type": "code",
        "colab": {
          "base_uri": "https://localhost:8080/",
          "height": 33
        },
        "outputId": "be59eeb6-25d0-43f0-cdeb-fce4a839d300"
      },
      "source": [
        "obj.values"
      ],
      "execution_count": 27,
      "outputs": [
        {
          "output_type": "execute_result",
          "data": {
            "text/plain": [
              "array([ 67,  78, -56,  13])"
            ]
          },
          "metadata": {
            "tags": []
          },
          "execution_count": 27
        }
      ]
    },
    {
      "cell_type": "markdown",
      "metadata": {
        "id": "CfRa70RDQB4v",
        "colab_type": "text"
      },
      "source": [
        "Fazendo um Filtro e mostrando todos os valores maiores que 3"
      ]
    },
    {
      "cell_type": "code",
      "metadata": {
        "id": "bxl08tYLPKur",
        "colab_type": "code",
        "colab": {
          "base_uri": "https://localhost:8080/",
          "height": 84
        },
        "outputId": "e697985c-4bae-4291-e6f6-389e77b34bea"
      },
      "source": [
        "obj2[obj2>3]"
      ],
      "execution_count": 29,
      "outputs": [
        {
          "output_type": "execute_result",
          "data": {
            "text/plain": [
              "a    67\n",
              "b    78\n",
              "d    13\n",
              "dtype: int64"
            ]
          },
          "metadata": {
            "tags": []
          },
          "execution_count": 29
        }
      ]
    },
    {
      "cell_type": "markdown",
      "metadata": {
        "id": "D6yMNqd9QHmQ",
        "colab_type": "text"
      },
      "source": [
        "Mostrar o Valor no indice B"
      ]
    },
    {
      "cell_type": "code",
      "metadata": {
        "id": "tDTU9AzAPMKg",
        "colab_type": "code",
        "colab": {
          "base_uri": "https://localhost:8080/",
          "height": 33
        },
        "outputId": "3c7d39dd-68cf-46fa-c8c4-da2828616f14"
      },
      "source": [
        "obj2['b']"
      ],
      "execution_count": 30,
      "outputs": [
        {
          "output_type": "execute_result",
          "data": {
            "text/plain": [
              "78"
            ]
          },
          "metadata": {
            "tags": []
          },
          "execution_count": 30
        }
      ]
    },
    {
      "cell_type": "markdown",
      "metadata": {
        "id": "EiCJTskbQLM4",
        "colab_type": "text"
      },
      "source": [
        "outra forma de fazer uma consulta\n"
      ]
    },
    {
      "cell_type": "code",
      "metadata": {
        "id": "boCRiaX0PXMU",
        "colab_type": "code",
        "colab": {
          "base_uri": "https://localhost:8080/",
          "height": 33
        },
        "outputId": "aeb4bc08-1ca0-4a85-8b70-fb61dc2599a2"
      },
      "source": [
        "'d' in obj2"
      ],
      "execution_count": 31,
      "outputs": [
        {
          "output_type": "execute_result",
          "data": {
            "text/plain": [
              "True"
            ]
          },
          "metadata": {
            "tags": []
          },
          "execution_count": 31
        }
      ]
    },
    {
      "cell_type": "markdown",
      "metadata": {
        "id": "e1lVH0ZfSXhH",
        "colab_type": "text"
      },
      "source": [
        "Criando um Dicionário\n"
      ]
    },
    {
      "cell_type": "code",
      "metadata": {
        "id": "moKqM-0MPcf0",
        "colab_type": "code",
        "colab": {}
      },
      "source": [
        "dict = {'Futebol':5200, 'Tenis': 120, 'Natação': 698, 'Voleibol': 1550}"
      ],
      "execution_count": 32,
      "outputs": []
    },
    {
      "cell_type": "code",
      "metadata": {
        "id": "UmrG-DyDQykE",
        "colab_type": "code",
        "colab": {}
      },
      "source": [
        "obj3 = Series(dict)"
      ],
      "execution_count": 35,
      "outputs": []
    },
    {
      "cell_type": "code",
      "metadata": {
        "id": "anfu5vtEQ2Jy",
        "colab_type": "code",
        "colab": {
          "base_uri": "https://localhost:8080/",
          "height": 100
        },
        "outputId": "efff3f87-d1c0-4293-a3a0-5b0a57868f9c"
      },
      "source": [
        "obj3"
      ],
      "execution_count": 36,
      "outputs": [
        {
          "output_type": "execute_result",
          "data": {
            "text/plain": [
              "Futebol     5200\n",
              "Tenis        120\n",
              "Natação      698\n",
              "Voleibol    1550\n",
              "dtype: int64"
            ]
          },
          "metadata": {
            "tags": []
          },
          "execution_count": 36
        }
      ]
    },
    {
      "cell_type": "markdown",
      "metadata": {
        "id": "g2ubE6nsSdb3",
        "colab_type": "text"
      },
      "source": [
        "Verificando o tipo\n"
      ]
    },
    {
      "cell_type": "code",
      "metadata": {
        "id": "vJDICHRsQ3n2",
        "colab_type": "code",
        "colab": {
          "base_uri": "https://localhost:8080/",
          "height": 33
        },
        "outputId": "a43c5436-3b1e-424a-896f-5ce6c57b3419"
      },
      "source": [
        "type(obj3)"
      ],
      "execution_count": 37,
      "outputs": [
        {
          "output_type": "execute_result",
          "data": {
            "text/plain": [
              "pandas.core.series.Series"
            ]
          },
          "metadata": {
            "tags": []
          },
          "execution_count": 37
        }
      ]
    },
    {
      "cell_type": "code",
      "metadata": {
        "id": "cciVb9qCQ8nO",
        "colab_type": "code",
        "colab": {}
      },
      "source": [
        "esportes = ['Futebol','Tenis','Natação','Handbol']"
      ],
      "execution_count": 38,
      "outputs": []
    },
    {
      "cell_type": "markdown",
      "metadata": {
        "id": "LZ9K8nipSifm",
        "colab_type": "text"
      },
      "source": [
        "Criando uma série com o indice \"esportes\""
      ]
    },
    {
      "cell_type": "code",
      "metadata": {
        "id": "PUL4tLVPRMQ8",
        "colab_type": "code",
        "colab": {}
      },
      "source": [
        "obj4 = Series(dict, index = esportes)"
      ],
      "execution_count": 39,
      "outputs": []
    },
    {
      "cell_type": "code",
      "metadata": {
        "id": "uHUSlR7XRRfi",
        "colab_type": "code",
        "colab": {
          "base_uri": "https://localhost:8080/",
          "height": 100
        },
        "outputId": "34804ad1-8623-4216-dfd1-ae27a1c299e9"
      },
      "source": [
        "obj4"
      ],
      "execution_count": 40,
      "outputs": [
        {
          "output_type": "execute_result",
          "data": {
            "text/plain": [
              "Futebol    5200.0\n",
              "Tenis       120.0\n",
              "Natação     698.0\n",
              "Handbol       NaN\n",
              "dtype: float64"
            ]
          },
          "metadata": {
            "tags": []
          },
          "execution_count": 40
        }
      ]
    },
    {
      "cell_type": "markdown",
      "metadata": {
        "id": "mAGtv92uSprw",
        "colab_type": "text"
      },
      "source": [
        "Verificados os valores Null"
      ]
    },
    {
      "cell_type": "code",
      "metadata": {
        "id": "BsZ9SLhQRSU6",
        "colab_type": "code",
        "colab": {
          "base_uri": "https://localhost:8080/",
          "height": 100
        },
        "outputId": "cc0323e1-2dfb-4b79-9bfe-cb8bb1d97e3b"
      },
      "source": [
        "pd.isnull(obj4)"
      ],
      "execution_count": 42,
      "outputs": [
        {
          "output_type": "execute_result",
          "data": {
            "text/plain": [
              "Futebol    False\n",
              "Tenis      False\n",
              "Natação    False\n",
              "Handbol     True\n",
              "dtype: bool"
            ]
          },
          "metadata": {
            "tags": []
          },
          "execution_count": 42
        }
      ]
    },
    {
      "cell_type": "markdown",
      "metadata": {
        "id": "IyZispMGSs24",
        "colab_type": "text"
      },
      "source": [
        "Verificando os não nulos"
      ]
    },
    {
      "cell_type": "code",
      "metadata": {
        "id": "v69x7fdMRp3M",
        "colab_type": "code",
        "colab": {
          "base_uri": "https://localhost:8080/",
          "height": 100
        },
        "outputId": "e1850346-b727-4c9a-bfae-d1f1deaed59b"
      },
      "source": [
        "pd.notnull(obj4)"
      ],
      "execution_count": 43,
      "outputs": [
        {
          "output_type": "execute_result",
          "data": {
            "text/plain": [
              "Futebol     True\n",
              "Tenis       True\n",
              "Natação     True\n",
              "Handbol    False\n",
              "dtype: bool"
            ]
          },
          "metadata": {
            "tags": []
          },
          "execution_count": 43
        }
      ]
    },
    {
      "cell_type": "markdown",
      "metadata": {
        "id": "Jp0qYURuSvwX",
        "colab_type": "text"
      },
      "source": [
        "Outra maneira de verificar"
      ]
    },
    {
      "cell_type": "code",
      "metadata": {
        "id": "qctNgQnBRzmy",
        "colab_type": "code",
        "colab": {
          "base_uri": "https://localhost:8080/",
          "height": 100
        },
        "outputId": "6128caee-2c94-4bb7-f188-071f8a10e15c"
      },
      "source": [
        "obj4.isnull()"
      ],
      "execution_count": 44,
      "outputs": [
        {
          "output_type": "execute_result",
          "data": {
            "text/plain": [
              "Futebol    False\n",
              "Tenis      False\n",
              "Natação    False\n",
              "Handbol     True\n",
              "dtype: bool"
            ]
          },
          "metadata": {
            "tags": []
          },
          "execution_count": 44
        }
      ]
    },
    {
      "cell_type": "markdown",
      "metadata": {
        "id": "AQ2ERdBdSz1H",
        "colab_type": "text"
      },
      "source": [
        "Concatenando Series"
      ]
    },
    {
      "cell_type": "code",
      "metadata": {
        "id": "DnT4kZtNR3LA",
        "colab_type": "code",
        "colab": {
          "base_uri": "https://localhost:8080/",
          "height": 117
        },
        "outputId": "39dd3ede-c605-4cdb-b593-a541f4e718dd"
      },
      "source": [
        "obj3 + obj4"
      ],
      "execution_count": 45,
      "outputs": [
        {
          "output_type": "execute_result",
          "data": {
            "text/plain": [
              "Futebol     10400.0\n",
              "Handbol         NaN\n",
              "Natação      1396.0\n",
              "Tenis         240.0\n",
              "Voleibol        NaN\n",
              "dtype: float64"
            ]
          },
          "metadata": {
            "tags": []
          },
          "execution_count": 45
        }
      ]
    },
    {
      "cell_type": "markdown",
      "metadata": {
        "id": "yq3bxxX3S22n",
        "colab_type": "text"
      },
      "source": [
        "Mudando o título"
      ]
    },
    {
      "cell_type": "code",
      "metadata": {
        "id": "oA24wej3R7e8",
        "colab_type": "code",
        "colab": {}
      },
      "source": [
        "obj4.name = 'população'"
      ],
      "execution_count": 46,
      "outputs": []
    },
    {
      "cell_type": "markdown",
      "metadata": {
        "id": "9Gy3t60iS8vG",
        "colab_type": "text"
      },
      "source": [
        "mudando o título do indice"
      ]
    },
    {
      "cell_type": "code",
      "metadata": {
        "id": "mCRnh13rSCjf",
        "colab_type": "code",
        "colab": {}
      },
      "source": [
        "obj4.index.name = 'esporte'"
      ],
      "execution_count": 47,
      "outputs": []
    },
    {
      "cell_type": "code",
      "metadata": {
        "id": "PWJDcxXZSN2l",
        "colab_type": "code",
        "colab": {
          "base_uri": "https://localhost:8080/",
          "height": 117
        },
        "outputId": "54b08124-dd77-4dc9-8c33-57705f3bc89b"
      },
      "source": [
        "obj4"
      ],
      "execution_count": 48,
      "outputs": [
        {
          "output_type": "execute_result",
          "data": {
            "text/plain": [
              "esporte\n",
              "Futebol    5200.0\n",
              "Tenis       120.0\n",
              "Natação     698.0\n",
              "Handbol       NaN\n",
              "Name: população, dtype: float64"
            ]
          },
          "metadata": {
            "tags": []
          },
          "execution_count": 48
        }
      ]
    },
    {
      "cell_type": "markdown",
      "metadata": {
        "id": "bG82l-7rSVZY",
        "colab_type": "text"
      },
      "source": [
        "# Criando e Manipulando um DataFrame"
      ]
    },
    {
      "cell_type": "code",
      "metadata": {
        "id": "f4-Rq215TCY2",
        "colab_type": "code",
        "colab": {}
      },
      "source": [
        "from pandas import DataFrame"
      ],
      "execution_count": 49,
      "outputs": []
    },
    {
      "cell_type": "markdown",
      "metadata": {
        "id": "t5ifZqceU7_Q",
        "colab_type": "text"
      },
      "source": [
        "Criando um DataFrame"
      ]
    },
    {
      "cell_type": "code",
      "metadata": {
        "id": "5WwCGnzDTHqi",
        "colab_type": "code",
        "colab": {}
      },
      "source": [
        "data = {'Estado': ['Santa Catarina', 'Paraná', 'Goiás', 'Bahia', 'Minas Gerais'], \n",
        "        'Ano': [2002, 2003, 2004, 2005, 2006], \n",
        "        'População': [1.5, 1.7, 3.6, 2.4, 2.9]}"
      ],
      "execution_count": 50,
      "outputs": []
    },
    {
      "cell_type": "code",
      "metadata": {
        "id": "sbTZpOOjTkpa",
        "colab_type": "code",
        "colab": {}
      },
      "source": [
        "frame = DataFrame(data)"
      ],
      "execution_count": 51,
      "outputs": []
    },
    {
      "cell_type": "markdown",
      "metadata": {
        "id": "zWSxJhvPU-vn",
        "colab_type": "text"
      },
      "source": [
        "Mudando os títulos das Colunas"
      ]
    },
    {
      "cell_type": "code",
      "metadata": {
        "id": "ZbTq0JJUToSe",
        "colab_type": "code",
        "colab": {
          "base_uri": "https://localhost:8080/",
          "height": 196
        },
        "outputId": "dc26760f-5560-4cc2-b218-97487ba3bf43"
      },
      "source": [
        "DataFrame(data, columns=['Ano', 'Estado','População'])"
      ],
      "execution_count": 52,
      "outputs": [
        {
          "output_type": "execute_result",
          "data": {
            "text/html": [
              "<div>\n",
              "<style scoped>\n",
              "    .dataframe tbody tr th:only-of-type {\n",
              "        vertical-align: middle;\n",
              "    }\n",
              "\n",
              "    .dataframe tbody tr th {\n",
              "        vertical-align: top;\n",
              "    }\n",
              "\n",
              "    .dataframe thead th {\n",
              "        text-align: right;\n",
              "    }\n",
              "</style>\n",
              "<table border=\"1\" class=\"dataframe\">\n",
              "  <thead>\n",
              "    <tr style=\"text-align: right;\">\n",
              "      <th></th>\n",
              "      <th>Ano</th>\n",
              "      <th>Estado</th>\n",
              "      <th>População</th>\n",
              "    </tr>\n",
              "  </thead>\n",
              "  <tbody>\n",
              "    <tr>\n",
              "      <th>0</th>\n",
              "      <td>2002</td>\n",
              "      <td>Santa Catarina</td>\n",
              "      <td>1.5</td>\n",
              "    </tr>\n",
              "    <tr>\n",
              "      <th>1</th>\n",
              "      <td>2003</td>\n",
              "      <td>Paraná</td>\n",
              "      <td>1.7</td>\n",
              "    </tr>\n",
              "    <tr>\n",
              "      <th>2</th>\n",
              "      <td>2004</td>\n",
              "      <td>Goiás</td>\n",
              "      <td>3.6</td>\n",
              "    </tr>\n",
              "    <tr>\n",
              "      <th>3</th>\n",
              "      <td>2005</td>\n",
              "      <td>Bahia</td>\n",
              "      <td>2.4</td>\n",
              "    </tr>\n",
              "    <tr>\n",
              "      <th>4</th>\n",
              "      <td>2006</td>\n",
              "      <td>Minas Gerais</td>\n",
              "      <td>2.9</td>\n",
              "    </tr>\n",
              "  </tbody>\n",
              "</table>\n",
              "</div>"
            ],
            "text/plain": [
              "    Ano          Estado  População\n",
              "0  2002  Santa Catarina        1.5\n",
              "1  2003          Paraná        1.7\n",
              "2  2004           Goiás        3.6\n",
              "3  2005           Bahia        2.4\n",
              "4  2006    Minas Gerais        2.9"
            ]
          },
          "metadata": {
            "tags": []
          },
          "execution_count": 52
        }
      ]
    },
    {
      "cell_type": "markdown",
      "metadata": {
        "id": "wJkpjNy6VD0x",
        "colab_type": "text"
      },
      "source": [
        "Criando outro DataFrame\n"
      ]
    },
    {
      "cell_type": "code",
      "metadata": {
        "id": "GSBjZlmhT2OC",
        "colab_type": "code",
        "colab": {}
      },
      "source": [
        "frame2 = DataFrame(data, columns = ['Ano', 'Estado', 'População', 'Débito'], \n",
        "                   index = ['um', 'dois', 'três', 'quatro', 'cinco'])"
      ],
      "execution_count": 54,
      "outputs": []
    },
    {
      "cell_type": "markdown",
      "metadata": {
        "id": "2TLvjq1QVGfC",
        "colab_type": "text"
      },
      "source": [
        "Imprimindo o DataFrame"
      ]
    },
    {
      "cell_type": "code",
      "metadata": {
        "id": "g2kYgbSbT8qr",
        "colab_type": "code",
        "colab": {
          "base_uri": "https://localhost:8080/",
          "height": 196
        },
        "outputId": "eaad7339-7452-476c-949d-e5ea2c9f8f75"
      },
      "source": [
        "frame2"
      ],
      "execution_count": 55,
      "outputs": [
        {
          "output_type": "execute_result",
          "data": {
            "text/html": [
              "<div>\n",
              "<style scoped>\n",
              "    .dataframe tbody tr th:only-of-type {\n",
              "        vertical-align: middle;\n",
              "    }\n",
              "\n",
              "    .dataframe tbody tr th {\n",
              "        vertical-align: top;\n",
              "    }\n",
              "\n",
              "    .dataframe thead th {\n",
              "        text-align: right;\n",
              "    }\n",
              "</style>\n",
              "<table border=\"1\" class=\"dataframe\">\n",
              "  <thead>\n",
              "    <tr style=\"text-align: right;\">\n",
              "      <th></th>\n",
              "      <th>Ano</th>\n",
              "      <th>Estado</th>\n",
              "      <th>População</th>\n",
              "      <th>Débito</th>\n",
              "    </tr>\n",
              "  </thead>\n",
              "  <tbody>\n",
              "    <tr>\n",
              "      <th>um</th>\n",
              "      <td>2002</td>\n",
              "      <td>Santa Catarina</td>\n",
              "      <td>1.5</td>\n",
              "      <td>NaN</td>\n",
              "    </tr>\n",
              "    <tr>\n",
              "      <th>dois</th>\n",
              "      <td>2003</td>\n",
              "      <td>Paraná</td>\n",
              "      <td>1.7</td>\n",
              "      <td>NaN</td>\n",
              "    </tr>\n",
              "    <tr>\n",
              "      <th>três</th>\n",
              "      <td>2004</td>\n",
              "      <td>Goiás</td>\n",
              "      <td>3.6</td>\n",
              "      <td>NaN</td>\n",
              "    </tr>\n",
              "    <tr>\n",
              "      <th>quatro</th>\n",
              "      <td>2005</td>\n",
              "      <td>Bahia</td>\n",
              "      <td>2.4</td>\n",
              "      <td>NaN</td>\n",
              "    </tr>\n",
              "    <tr>\n",
              "      <th>cinco</th>\n",
              "      <td>2006</td>\n",
              "      <td>Minas Gerais</td>\n",
              "      <td>2.9</td>\n",
              "      <td>NaN</td>\n",
              "    </tr>\n",
              "  </tbody>\n",
              "</table>\n",
              "</div>"
            ],
            "text/plain": [
              "         Ano          Estado  População Débito\n",
              "um      2002  Santa Catarina        1.5    NaN\n",
              "dois    2003          Paraná        1.7    NaN\n",
              "três    2004           Goiás        3.6    NaN\n",
              "quatro  2005           Bahia        2.4    NaN\n",
              "cinco   2006    Minas Gerais        2.9    NaN"
            ]
          },
          "metadata": {
            "tags": []
          },
          "execution_count": 55
        }
      ]
    },
    {
      "cell_type": "markdown",
      "metadata": {
        "id": "ssQ9-IQFVKTS",
        "colab_type": "text"
      },
      "source": [
        "Pegando os dados da coluna Estado"
      ]
    },
    {
      "cell_type": "code",
      "metadata": {
        "id": "yGXpEaCkUB6i",
        "colab_type": "code",
        "colab": {
          "base_uri": "https://localhost:8080/",
          "height": 117
        },
        "outputId": "54039019-9573-4b0c-a9e5-3c0409eba353"
      },
      "source": [
        "frame2['Estado']"
      ],
      "execution_count": 56,
      "outputs": [
        {
          "output_type": "execute_result",
          "data": {
            "text/plain": [
              "um        Santa Catarina\n",
              "dois              Paraná\n",
              "três               Goiás\n",
              "quatro             Bahia\n",
              "cinco       Minas Gerais\n",
              "Name: Estado, dtype: object"
            ]
          },
          "metadata": {
            "tags": []
          },
          "execution_count": 56
        }
      ]
    },
    {
      "cell_type": "markdown",
      "metadata": {
        "id": "QrSO-IgCVQQH",
        "colab_type": "text"
      },
      "source": [
        "Verificando o tipo do DataFrame"
      ]
    },
    {
      "cell_type": "code",
      "metadata": {
        "id": "nohsIVkgUHjw",
        "colab_type": "code",
        "colab": {
          "base_uri": "https://localhost:8080/",
          "height": 33
        },
        "outputId": "ef7abe7c-934b-41de-a96e-dbe90115f1cd"
      },
      "source": [
        "type(frame2)"
      ],
      "execution_count": 57,
      "outputs": [
        {
          "output_type": "execute_result",
          "data": {
            "text/plain": [
              "pandas.core.frame.DataFrame"
            ]
          },
          "metadata": {
            "tags": []
          },
          "execution_count": 57
        }
      ]
    },
    {
      "cell_type": "markdown",
      "metadata": {
        "id": "DLMJQZSiVTOh",
        "colab_type": "text"
      },
      "source": [
        "Verificando o Index"
      ]
    },
    {
      "cell_type": "code",
      "metadata": {
        "id": "UDHZ4rUKUN8o",
        "colab_type": "code",
        "colab": {
          "base_uri": "https://localhost:8080/",
          "height": 33
        },
        "outputId": "0c962348-75d7-4d40-af61-81caee93e961"
      },
      "source": [
        "frame2.index"
      ],
      "execution_count": 58,
      "outputs": [
        {
          "output_type": "execute_result",
          "data": {
            "text/plain": [
              "Index(['um', 'dois', 'três', 'quatro', 'cinco'], dtype='object')"
            ]
          },
          "metadata": {
            "tags": []
          },
          "execution_count": 58
        }
      ]
    },
    {
      "cell_type": "markdown",
      "metadata": {
        "id": "ljavYWaTVVw4",
        "colab_type": "text"
      },
      "source": [
        "Verificando as Colunas"
      ]
    },
    {
      "cell_type": "code",
      "metadata": {
        "id": "Uzg3KVJWUS-i",
        "colab_type": "code",
        "colab": {
          "base_uri": "https://localhost:8080/",
          "height": 33
        },
        "outputId": "69754196-81fd-434c-b2d5-b48d2da87378"
      },
      "source": [
        "frame2.columns"
      ],
      "execution_count": 60,
      "outputs": [
        {
          "output_type": "execute_result",
          "data": {
            "text/plain": [
              "Index(['Ano', 'Estado', 'População', 'Débito'], dtype='object')"
            ]
          },
          "metadata": {
            "tags": []
          },
          "execution_count": 60
        }
      ]
    },
    {
      "cell_type": "markdown",
      "metadata": {
        "id": "5AGo44VMVYE3",
        "colab_type": "text"
      },
      "source": [
        "Verificando os Valores"
      ]
    },
    {
      "cell_type": "code",
      "metadata": {
        "id": "8JJiECYZUWgV",
        "colab_type": "code",
        "colab": {
          "base_uri": "https://localhost:8080/",
          "height": 100
        },
        "outputId": "568d8297-5fea-46aa-edd5-be021fde8d57"
      },
      "source": [
        "frame2.values"
      ],
      "execution_count": 61,
      "outputs": [
        {
          "output_type": "execute_result",
          "data": {
            "text/plain": [
              "array([[2002, 'Santa Catarina', 1.5, nan],\n",
              "       [2003, 'Paraná', 1.7, nan],\n",
              "       [2004, 'Goiás', 3.6, nan],\n",
              "       [2005, 'Bahia', 2.4, nan],\n",
              "       [2006, 'Minas Gerais', 2.9, nan]], dtype=object)"
            ]
          },
          "metadata": {
            "tags": []
          },
          "execution_count": 61
        }
      ]
    },
    {
      "cell_type": "markdown",
      "metadata": {
        "id": "YEEEFV86VaM3",
        "colab_type": "text"
      },
      "source": [
        "Vendo os Tipos de dados de cada coluna"
      ]
    },
    {
      "cell_type": "code",
      "metadata": {
        "id": "hZaeJzitUa91",
        "colab_type": "code",
        "colab": {
          "base_uri": "https://localhost:8080/",
          "height": 84
        },
        "outputId": "29d71b5a-5cba-44cf-b704-f2532ac29b3d"
      },
      "source": [
        "frame.dtypes"
      ],
      "execution_count": 62,
      "outputs": [
        {
          "output_type": "execute_result",
          "data": {
            "text/plain": [
              "Estado        object\n",
              "Ano            int64\n",
              "População    float64\n",
              "dtype: object"
            ]
          },
          "metadata": {
            "tags": []
          },
          "execution_count": 62
        }
      ]
    },
    {
      "cell_type": "markdown",
      "metadata": {
        "id": "_kM2QwsPVfEO",
        "colab_type": "text"
      },
      "source": [
        "Vendo apenas os dados da coluna Ano"
      ]
    },
    {
      "cell_type": "code",
      "metadata": {
        "id": "ynbM2Ke-UgNg",
        "colab_type": "code",
        "colab": {
          "base_uri": "https://localhost:8080/",
          "height": 117
        },
        "outputId": "c21c900d-2fb0-4e14-993c-73c3e922068a"
      },
      "source": [
        "frame2['Ano']"
      ],
      "execution_count": 64,
      "outputs": [
        {
          "output_type": "execute_result",
          "data": {
            "text/plain": [
              "um        2002\n",
              "dois      2003\n",
              "três      2004\n",
              "quatro    2005\n",
              "cinco     2006\n",
              "Name: Ano, dtype: int64"
            ]
          },
          "metadata": {
            "tags": []
          },
          "execution_count": 64
        }
      ]
    },
    {
      "cell_type": "markdown",
      "metadata": {
        "id": "tU7otHBTVitn",
        "colab_type": "text"
      },
      "source": [
        "Vendo de outra forma"
      ]
    },
    {
      "cell_type": "code",
      "metadata": {
        "id": "jswxLx5bUiLB",
        "colab_type": "code",
        "colab": {
          "base_uri": "https://localhost:8080/",
          "height": 117
        },
        "outputId": "6c1ffd4b-96c6-47ed-ff0b-3a7ca899803c"
      },
      "source": [
        "frame2.Ano"
      ],
      "execution_count": 65,
      "outputs": [
        {
          "output_type": "execute_result",
          "data": {
            "text/plain": [
              "um        2002\n",
              "dois      2003\n",
              "três      2004\n",
              "quatro    2005\n",
              "cinco     2006\n",
              "Name: Ano, dtype: int64"
            ]
          },
          "metadata": {
            "tags": []
          },
          "execution_count": 65
        }
      ]
    },
    {
      "cell_type": "markdown",
      "metadata": {
        "id": "sQ9w1ynYVoK_",
        "colab_type": "text"
      },
      "source": [
        "Fazendo Slicing "
      ]
    },
    {
      "cell_type": "code",
      "metadata": {
        "id": "66b2eQbsUm7i",
        "colab_type": "code",
        "colab": {
          "base_uri": "https://localhost:8080/",
          "height": 107
        },
        "outputId": "97c04a2f-b9f9-48bd-e4df-e190c2be2a0c"
      },
      "source": [
        "frame2[:2]"
      ],
      "execution_count": 66,
      "outputs": [
        {
          "output_type": "execute_result",
          "data": {
            "text/html": [
              "<div>\n",
              "<style scoped>\n",
              "    .dataframe tbody tr th:only-of-type {\n",
              "        vertical-align: middle;\n",
              "    }\n",
              "\n",
              "    .dataframe tbody tr th {\n",
              "        vertical-align: top;\n",
              "    }\n",
              "\n",
              "    .dataframe thead th {\n",
              "        text-align: right;\n",
              "    }\n",
              "</style>\n",
              "<table border=\"1\" class=\"dataframe\">\n",
              "  <thead>\n",
              "    <tr style=\"text-align: right;\">\n",
              "      <th></th>\n",
              "      <th>Ano</th>\n",
              "      <th>Estado</th>\n",
              "      <th>População</th>\n",
              "      <th>Débito</th>\n",
              "    </tr>\n",
              "  </thead>\n",
              "  <tbody>\n",
              "    <tr>\n",
              "      <th>um</th>\n",
              "      <td>2002</td>\n",
              "      <td>Santa Catarina</td>\n",
              "      <td>1.5</td>\n",
              "      <td>NaN</td>\n",
              "    </tr>\n",
              "    <tr>\n",
              "      <th>dois</th>\n",
              "      <td>2003</td>\n",
              "      <td>Paraná</td>\n",
              "      <td>1.7</td>\n",
              "      <td>NaN</td>\n",
              "    </tr>\n",
              "  </tbody>\n",
              "</table>\n",
              "</div>"
            ],
            "text/plain": [
              "       Ano          Estado  População Débito\n",
              "um    2002  Santa Catarina        1.5    NaN\n",
              "dois  2003          Paraná        1.7    NaN"
            ]
          },
          "metadata": {
            "tags": []
          },
          "execution_count": 66
        }
      ]
    },
    {
      "cell_type": "markdown",
      "metadata": {
        "id": "QCyf51bJVwTn",
        "colab_type": "text"
      },
      "source": [
        "FIM\n",
        "\n",
        "\n"
      ]
    }
  ]
}