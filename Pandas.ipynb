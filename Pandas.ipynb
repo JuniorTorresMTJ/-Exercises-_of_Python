{
  "nbformat": 4,
  "nbformat_minor": 0,
  "metadata": {
    "colab": {
      "name": "Pandas.ipynb",
      "provenance": [],
      "authorship_tag": "ABX9TyNuWDoSxf+ffIn5/TmUrdhh",
      "include_colab_link": true
    },
    "kernelspec": {
      "name": "python3",
      "display_name": "Python 3"
    }
  },
  "cells": [
    {
      "cell_type": "markdown",
      "metadata": {
        "id": "view-in-github",
        "colab_type": "text"
      },
      "source": [
        "<a href=\"https://colab.research.google.com/github/JuniorTorresMTJ/-Exercises-_of_Python/blob/master/Pandas.ipynb\" target=\"_parent\"><img src=\"https://colab.research.google.com/assets/colab-badge.svg\" alt=\"Open In Colab\"/></a>"
      ]
    },
    {
      "cell_type": "markdown",
      "metadata": {
        "id": "NdGYAjIYQS3A",
        "colab_type": "text"
      },
      "source": [
        "# Criação e Manipulação de Series\n",
        "\n"
      ]
    },
    {
      "cell_type": "code",
      "metadata": {
        "id": "vncMeiSGDAFM",
        "colab_type": "code",
        "colab": {}
      },
      "source": [
        "import pandas as pd\n",
        "from pandas import Series"
      ],
      "execution_count": 4,
      "outputs": []
    },
    {
      "cell_type": "markdown",
      "metadata": {
        "id": "QWuc--VYPhRP",
        "colab_type": "text"
      },
      "source": [
        "Verificando a Versão do Pandas"
      ]
    },
    {
      "cell_type": "code",
      "metadata": {
        "id": "ImPdiiJnJ5UT",
        "colab_type": "code",
        "colab": {
          "base_uri": "https://localhost:8080/",
          "height": 35
        },
        "outputId": "adef19af-2fbb-4470-a338-d4dca2de1f0a"
      },
      "source": [
        "pd.__version__"
      ],
      "execution_count": 5,
      "outputs": [
        {
          "output_type": "execute_result",
          "data": {
            "application/vnd.google.colaboratory.intrinsic": {
              "type": "string"
            },
            "text/plain": [
              "'1.0.5'"
            ]
          },
          "metadata": {
            "tags": []
          },
          "execution_count": 5
        }
      ]
    },
    {
      "cell_type": "markdown",
      "metadata": {
        "id": "ene4iZjlPkAO",
        "colab_type": "text"
      },
      "source": [
        "Criando uma Series com Index automatico\n",
        "\n"
      ]
    },
    {
      "cell_type": "code",
      "metadata": {
        "id": "kHvrSN1fJ7Wa",
        "colab_type": "code",
        "colab": {}
      },
      "source": [
        "obj = pd.Series([67,78,-56, 13])"
      ],
      "execution_count": 6,
      "outputs": []
    },
    {
      "cell_type": "code",
      "metadata": {
        "id": "NT2Lm7tQKFUP",
        "colab_type": "code",
        "colab": {
          "base_uri": "https://localhost:8080/",
          "height": 100
        },
        "outputId": "04215eca-e4f7-4105-df6f-9a7624b3464e"
      },
      "source": [
        "obj"
      ],
      "execution_count": 7,
      "outputs": [
        {
          "output_type": "execute_result",
          "data": {
            "text/plain": [
              "0    67\n",
              "1    78\n",
              "2   -56\n",
              "3    13\n",
              "dtype: int64"
            ]
          },
          "metadata": {
            "tags": []
          },
          "execution_count": 7
        }
      ]
    },
    {
      "cell_type": "markdown",
      "metadata": {
        "id": "aan6lL2pPmT_",
        "colab_type": "text"
      },
      "source": [
        "Verificando o tipo da Serie"
      ]
    },
    {
      "cell_type": "code",
      "metadata": {
        "id": "Z7Js9MWCLVuE",
        "colab_type": "code",
        "colab": {
          "base_uri": "https://localhost:8080/",
          "height": 33
        },
        "outputId": "fe2cad5a-be96-4bd5-d8ba-3bb806a2902a"
      },
      "source": [
        "type(obj)"
      ],
      "execution_count": 8,
      "outputs": [
        {
          "output_type": "execute_result",
          "data": {
            "text/plain": [
              "pandas.core.series.Series"
            ]
          },
          "metadata": {
            "tags": []
          },
          "execution_count": 8
        }
      ]
    },
    {
      "cell_type": "markdown",
      "metadata": {
        "id": "T4u8dPdHPpm2",
        "colab_type": "text"
      },
      "source": [
        "Verificando os Valores da Serie"
      ]
    },
    {
      "cell_type": "code",
      "metadata": {
        "id": "fOTiyQhbOiVx",
        "colab_type": "code",
        "colab": {
          "base_uri": "https://localhost:8080/",
          "height": 33
        },
        "outputId": "6beaaa29-29d3-4fba-f24e-18d262992b23"
      },
      "source": [
        "obj.values"
      ],
      "execution_count": 9,
      "outputs": [
        {
          "output_type": "execute_result",
          "data": {
            "text/plain": [
              "array([ 67,  78, -56,  13])"
            ]
          },
          "metadata": {
            "tags": []
          },
          "execution_count": 9
        }
      ]
    },
    {
      "cell_type": "markdown",
      "metadata": {
        "id": "KsGV_aTbPsmw",
        "colab_type": "text"
      },
      "source": [
        "Imprimindo os Index "
      ]
    },
    {
      "cell_type": "code",
      "metadata": {
        "id": "ggQEgYIGOmTA",
        "colab_type": "code",
        "colab": {
          "base_uri": "https://localhost:8080/",
          "height": 33
        },
        "outputId": "77e26c06-92c6-44a1-a529-1946d8642300"
      },
      "source": [
        "obj.index"
      ],
      "execution_count": 10,
      "outputs": [
        {
          "output_type": "execute_result",
          "data": {
            "text/plain": [
              "RangeIndex(start=0, stop=4, step=1)"
            ]
          },
          "metadata": {
            "tags": []
          },
          "execution_count": 10
        }
      ]
    },
    {
      "cell_type": "markdown",
      "metadata": {
        "id": "cJceYqP-PvX_",
        "colab_type": "text"
      },
      "source": [
        "Especificando os valores e os Index\n"
      ]
    },
    {
      "cell_type": "code",
      "metadata": {
        "id": "6qPEL5Z4Ov5b",
        "colab_type": "code",
        "colab": {}
      },
      "source": [
        "obj2= Series([67,78,-56,13], index = ['a','b','c','d'])"
      ],
      "execution_count": 11,
      "outputs": []
    },
    {
      "cell_type": "code",
      "metadata": {
        "id": "CMCe2HlnPBro",
        "colab_type": "code",
        "colab": {
          "base_uri": "https://localhost:8080/",
          "height": 100
        },
        "outputId": "c5f88b9c-e88b-4f1c-c80e-e6d1ff9cc3dc"
      },
      "source": [
        "obj2"
      ],
      "execution_count": 12,
      "outputs": [
        {
          "output_type": "execute_result",
          "data": {
            "text/plain": [
              "a    67\n",
              "b    78\n",
              "c   -56\n",
              "d    13\n",
              "dtype: int64"
            ]
          },
          "metadata": {
            "tags": []
          },
          "execution_count": 12
        }
      ]
    },
    {
      "cell_type": "markdown",
      "metadata": {
        "id": "7mlEuyjaP-rA",
        "colab_type": "text"
      },
      "source": [
        "Mostrando os Valores\n"
      ]
    },
    {
      "cell_type": "code",
      "metadata": {
        "id": "GiBGqFfnPCbL",
        "colab_type": "code",
        "colab": {
          "base_uri": "https://localhost:8080/",
          "height": 33
        },
        "outputId": "7536b5f2-a4e7-48a7-c59e-81e3b5526204"
      },
      "source": [
        "obj.values"
      ],
      "execution_count": 13,
      "outputs": [
        {
          "output_type": "execute_result",
          "data": {
            "text/plain": [
              "array([ 67,  78, -56,  13])"
            ]
          },
          "metadata": {
            "tags": []
          },
          "execution_count": 13
        }
      ]
    },
    {
      "cell_type": "markdown",
      "metadata": {
        "id": "CfRa70RDQB4v",
        "colab_type": "text"
      },
      "source": [
        "Fazendo um Filtro e mostrando todos os valores maiores que 3"
      ]
    },
    {
      "cell_type": "code",
      "metadata": {
        "id": "bxl08tYLPKur",
        "colab_type": "code",
        "colab": {
          "base_uri": "https://localhost:8080/",
          "height": 84
        },
        "outputId": "e1537796-eda0-431b-8419-88e9b61c0499"
      },
      "source": [
        "obj2[obj2>3]"
      ],
      "execution_count": 14,
      "outputs": [
        {
          "output_type": "execute_result",
          "data": {
            "text/plain": [
              "a    67\n",
              "b    78\n",
              "d    13\n",
              "dtype: int64"
            ]
          },
          "metadata": {
            "tags": []
          },
          "execution_count": 14
        }
      ]
    },
    {
      "cell_type": "markdown",
      "metadata": {
        "id": "D6yMNqd9QHmQ",
        "colab_type": "text"
      },
      "source": [
        "Mostrar o Valor no indice B"
      ]
    },
    {
      "cell_type": "code",
      "metadata": {
        "id": "tDTU9AzAPMKg",
        "colab_type": "code",
        "colab": {
          "base_uri": "https://localhost:8080/",
          "height": 33
        },
        "outputId": "13e10e9d-0478-4748-8eda-8fc0c063bea4"
      },
      "source": [
        "obj2['b']"
      ],
      "execution_count": 15,
      "outputs": [
        {
          "output_type": "execute_result",
          "data": {
            "text/plain": [
              "78"
            ]
          },
          "metadata": {
            "tags": []
          },
          "execution_count": 15
        }
      ]
    },
    {
      "cell_type": "markdown",
      "metadata": {
        "id": "EiCJTskbQLM4",
        "colab_type": "text"
      },
      "source": [
        "outra forma de fazer uma consulta\n"
      ]
    },
    {
      "cell_type": "code",
      "metadata": {
        "id": "boCRiaX0PXMU",
        "colab_type": "code",
        "colab": {
          "base_uri": "https://localhost:8080/",
          "height": 33
        },
        "outputId": "4c07d13a-41d4-4269-840d-c4df40088aec"
      },
      "source": [
        "'d' in obj2"
      ],
      "execution_count": 16,
      "outputs": [
        {
          "output_type": "execute_result",
          "data": {
            "text/plain": [
              "True"
            ]
          },
          "metadata": {
            "tags": []
          },
          "execution_count": 16
        }
      ]
    },
    {
      "cell_type": "markdown",
      "metadata": {
        "id": "e1lVH0ZfSXhH",
        "colab_type": "text"
      },
      "source": [
        "Criando um Dicionário\n"
      ]
    },
    {
      "cell_type": "code",
      "metadata": {
        "id": "moKqM-0MPcf0",
        "colab_type": "code",
        "colab": {}
      },
      "source": [
        "dict = {'Futebol':5200, 'Tenis': 120, 'Natação': 698, 'Voleibol': 1550}"
      ],
      "execution_count": 17,
      "outputs": []
    },
    {
      "cell_type": "code",
      "metadata": {
        "id": "UmrG-DyDQykE",
        "colab_type": "code",
        "colab": {}
      },
      "source": [
        "obj3 = Series(dict)"
      ],
      "execution_count": 18,
      "outputs": []
    },
    {
      "cell_type": "code",
      "metadata": {
        "id": "anfu5vtEQ2Jy",
        "colab_type": "code",
        "colab": {
          "base_uri": "https://localhost:8080/",
          "height": 100
        },
        "outputId": "331e3940-ec2b-43b8-879b-2ded366554d5"
      },
      "source": [
        "obj3"
      ],
      "execution_count": 19,
      "outputs": [
        {
          "output_type": "execute_result",
          "data": {
            "text/plain": [
              "Futebol     5200\n",
              "Tenis        120\n",
              "Natação      698\n",
              "Voleibol    1550\n",
              "dtype: int64"
            ]
          },
          "metadata": {
            "tags": []
          },
          "execution_count": 19
        }
      ]
    },
    {
      "cell_type": "markdown",
      "metadata": {
        "id": "g2ubE6nsSdb3",
        "colab_type": "text"
      },
      "source": [
        "Verificando o tipo\n"
      ]
    },
    {
      "cell_type": "code",
      "metadata": {
        "id": "vJDICHRsQ3n2",
        "colab_type": "code",
        "colab": {
          "base_uri": "https://localhost:8080/",
          "height": 33
        },
        "outputId": "b4017ff7-2609-4d5b-f0c3-7e81b7d2bfcf"
      },
      "source": [
        "type(obj3)"
      ],
      "execution_count": 20,
      "outputs": [
        {
          "output_type": "execute_result",
          "data": {
            "text/plain": [
              "pandas.core.series.Series"
            ]
          },
          "metadata": {
            "tags": []
          },
          "execution_count": 20
        }
      ]
    },
    {
      "cell_type": "code",
      "metadata": {
        "id": "cciVb9qCQ8nO",
        "colab_type": "code",
        "colab": {}
      },
      "source": [
        "esportes = ['Futebol','Tenis','Natação','Handbol']"
      ],
      "execution_count": 21,
      "outputs": []
    },
    {
      "cell_type": "markdown",
      "metadata": {
        "id": "LZ9K8nipSifm",
        "colab_type": "text"
      },
      "source": [
        "Criando uma série com o indice \"esportes\""
      ]
    },
    {
      "cell_type": "code",
      "metadata": {
        "id": "PUL4tLVPRMQ8",
        "colab_type": "code",
        "colab": {}
      },
      "source": [
        "obj4 = Series(dict, index = esportes)"
      ],
      "execution_count": 22,
      "outputs": []
    },
    {
      "cell_type": "code",
      "metadata": {
        "id": "uHUSlR7XRRfi",
        "colab_type": "code",
        "colab": {
          "base_uri": "https://localhost:8080/",
          "height": 100
        },
        "outputId": "24811dc2-75cf-4be2-fd97-0edfbbe1951f"
      },
      "source": [
        "obj4"
      ],
      "execution_count": 23,
      "outputs": [
        {
          "output_type": "execute_result",
          "data": {
            "text/plain": [
              "Futebol    5200.0\n",
              "Tenis       120.0\n",
              "Natação     698.0\n",
              "Handbol       NaN\n",
              "dtype: float64"
            ]
          },
          "metadata": {
            "tags": []
          },
          "execution_count": 23
        }
      ]
    },
    {
      "cell_type": "markdown",
      "metadata": {
        "id": "mAGtv92uSprw",
        "colab_type": "text"
      },
      "source": [
        "Verificados os valores Null"
      ]
    },
    {
      "cell_type": "code",
      "metadata": {
        "id": "BsZ9SLhQRSU6",
        "colab_type": "code",
        "colab": {
          "base_uri": "https://localhost:8080/",
          "height": 100
        },
        "outputId": "f01d6a1d-40a6-4938-930e-d515612f6252"
      },
      "source": [
        "pd.isnull(obj4)"
      ],
      "execution_count": 24,
      "outputs": [
        {
          "output_type": "execute_result",
          "data": {
            "text/plain": [
              "Futebol    False\n",
              "Tenis      False\n",
              "Natação    False\n",
              "Handbol     True\n",
              "dtype: bool"
            ]
          },
          "metadata": {
            "tags": []
          },
          "execution_count": 24
        }
      ]
    },
    {
      "cell_type": "markdown",
      "metadata": {
        "id": "IyZispMGSs24",
        "colab_type": "text"
      },
      "source": [
        "Verificando os não nulos"
      ]
    },
    {
      "cell_type": "code",
      "metadata": {
        "id": "v69x7fdMRp3M",
        "colab_type": "code",
        "colab": {
          "base_uri": "https://localhost:8080/",
          "height": 100
        },
        "outputId": "eca6238b-45f8-4061-e03d-c1ae805c62c1"
      },
      "source": [
        "pd.notnull(obj4)"
      ],
      "execution_count": 25,
      "outputs": [
        {
          "output_type": "execute_result",
          "data": {
            "text/plain": [
              "Futebol     True\n",
              "Tenis       True\n",
              "Natação     True\n",
              "Handbol    False\n",
              "dtype: bool"
            ]
          },
          "metadata": {
            "tags": []
          },
          "execution_count": 25
        }
      ]
    },
    {
      "cell_type": "markdown",
      "metadata": {
        "id": "Jp0qYURuSvwX",
        "colab_type": "text"
      },
      "source": [
        "Outra maneira de verificar"
      ]
    },
    {
      "cell_type": "code",
      "metadata": {
        "id": "qctNgQnBRzmy",
        "colab_type": "code",
        "colab": {
          "base_uri": "https://localhost:8080/",
          "height": 100
        },
        "outputId": "225ba53d-90a4-444f-e3f1-5dcf9d7e1a8f"
      },
      "source": [
        "obj4.isnull()"
      ],
      "execution_count": 26,
      "outputs": [
        {
          "output_type": "execute_result",
          "data": {
            "text/plain": [
              "Futebol    False\n",
              "Tenis      False\n",
              "Natação    False\n",
              "Handbol     True\n",
              "dtype: bool"
            ]
          },
          "metadata": {
            "tags": []
          },
          "execution_count": 26
        }
      ]
    },
    {
      "cell_type": "markdown",
      "metadata": {
        "id": "AQ2ERdBdSz1H",
        "colab_type": "text"
      },
      "source": [
        "Concatenando Series"
      ]
    },
    {
      "cell_type": "code",
      "metadata": {
        "id": "DnT4kZtNR3LA",
        "colab_type": "code",
        "colab": {
          "base_uri": "https://localhost:8080/",
          "height": 117
        },
        "outputId": "0f460b82-4312-4123-9378-d212446beddb"
      },
      "source": [
        "obj3 + obj4"
      ],
      "execution_count": 27,
      "outputs": [
        {
          "output_type": "execute_result",
          "data": {
            "text/plain": [
              "Futebol     10400.0\n",
              "Handbol         NaN\n",
              "Natação      1396.0\n",
              "Tenis         240.0\n",
              "Voleibol        NaN\n",
              "dtype: float64"
            ]
          },
          "metadata": {
            "tags": []
          },
          "execution_count": 27
        }
      ]
    },
    {
      "cell_type": "markdown",
      "metadata": {
        "id": "yq3bxxX3S22n",
        "colab_type": "text"
      },
      "source": [
        "Mudando o título"
      ]
    },
    {
      "cell_type": "code",
      "metadata": {
        "id": "oA24wej3R7e8",
        "colab_type": "code",
        "colab": {}
      },
      "source": [
        "obj4.name = 'população'"
      ],
      "execution_count": 28,
      "outputs": []
    },
    {
      "cell_type": "markdown",
      "metadata": {
        "id": "9Gy3t60iS8vG",
        "colab_type": "text"
      },
      "source": [
        "mudando o título do indice"
      ]
    },
    {
      "cell_type": "code",
      "metadata": {
        "id": "mCRnh13rSCjf",
        "colab_type": "code",
        "colab": {}
      },
      "source": [
        "obj4.index.name = 'esporte'"
      ],
      "execution_count": 29,
      "outputs": []
    },
    {
      "cell_type": "code",
      "metadata": {
        "id": "PWJDcxXZSN2l",
        "colab_type": "code",
        "colab": {
          "base_uri": "https://localhost:8080/",
          "height": 117
        },
        "outputId": "c13011b8-8225-4b33-d0e6-cb7fcd7b6442"
      },
      "source": [
        "obj4"
      ],
      "execution_count": 30,
      "outputs": [
        {
          "output_type": "execute_result",
          "data": {
            "text/plain": [
              "esporte\n",
              "Futebol    5200.0\n",
              "Tenis       120.0\n",
              "Natação     698.0\n",
              "Handbol       NaN\n",
              "Name: população, dtype: float64"
            ]
          },
          "metadata": {
            "tags": []
          },
          "execution_count": 30
        }
      ]
    },
    {
      "cell_type": "markdown",
      "metadata": {
        "id": "bG82l-7rSVZY",
        "colab_type": "text"
      },
      "source": [
        "# Criando e Manipulando um DataFrame"
      ]
    },
    {
      "cell_type": "code",
      "metadata": {
        "id": "f4-Rq215TCY2",
        "colab_type": "code",
        "colab": {}
      },
      "source": [
        "from pandas import DataFrame"
      ],
      "execution_count": 31,
      "outputs": []
    },
    {
      "cell_type": "markdown",
      "metadata": {
        "id": "t5ifZqceU7_Q",
        "colab_type": "text"
      },
      "source": [
        "Criando um DataFrame"
      ]
    },
    {
      "cell_type": "code",
      "metadata": {
        "id": "5WwCGnzDTHqi",
        "colab_type": "code",
        "colab": {}
      },
      "source": [
        "data = {'Estado': ['Santa Catarina', 'Paraná', 'Goiás', 'Bahia', 'Minas Gerais'], \n",
        "        'Ano': [2002, 2003, 2004, 2005, 2006], \n",
        "        'População': [1.5, 1.7, 3.6, 2.4, 2.9]}"
      ],
      "execution_count": 32,
      "outputs": []
    },
    {
      "cell_type": "code",
      "metadata": {
        "id": "sbTZpOOjTkpa",
        "colab_type": "code",
        "colab": {}
      },
      "source": [
        "frame = DataFrame(data)"
      ],
      "execution_count": 33,
      "outputs": []
    },
    {
      "cell_type": "markdown",
      "metadata": {
        "id": "zWSxJhvPU-vn",
        "colab_type": "text"
      },
      "source": [
        "Mudando os títulos das Colunas"
      ]
    },
    {
      "cell_type": "code",
      "metadata": {
        "id": "ZbTq0JJUToSe",
        "colab_type": "code",
        "colab": {
          "base_uri": "https://localhost:8080/",
          "height": 196
        },
        "outputId": "030c28ca-e846-400a-d015-f7ff07b0e283"
      },
      "source": [
        "DataFrame(data, columns=['Ano', 'Estado','População'])"
      ],
      "execution_count": 34,
      "outputs": [
        {
          "output_type": "execute_result",
          "data": {
            "text/html": [
              "<div>\n",
              "<style scoped>\n",
              "    .dataframe tbody tr th:only-of-type {\n",
              "        vertical-align: middle;\n",
              "    }\n",
              "\n",
              "    .dataframe tbody tr th {\n",
              "        vertical-align: top;\n",
              "    }\n",
              "\n",
              "    .dataframe thead th {\n",
              "        text-align: right;\n",
              "    }\n",
              "</style>\n",
              "<table border=\"1\" class=\"dataframe\">\n",
              "  <thead>\n",
              "    <tr style=\"text-align: right;\">\n",
              "      <th></th>\n",
              "      <th>Ano</th>\n",
              "      <th>Estado</th>\n",
              "      <th>População</th>\n",
              "    </tr>\n",
              "  </thead>\n",
              "  <tbody>\n",
              "    <tr>\n",
              "      <th>0</th>\n",
              "      <td>2002</td>\n",
              "      <td>Santa Catarina</td>\n",
              "      <td>1.5</td>\n",
              "    </tr>\n",
              "    <tr>\n",
              "      <th>1</th>\n",
              "      <td>2003</td>\n",
              "      <td>Paraná</td>\n",
              "      <td>1.7</td>\n",
              "    </tr>\n",
              "    <tr>\n",
              "      <th>2</th>\n",
              "      <td>2004</td>\n",
              "      <td>Goiás</td>\n",
              "      <td>3.6</td>\n",
              "    </tr>\n",
              "    <tr>\n",
              "      <th>3</th>\n",
              "      <td>2005</td>\n",
              "      <td>Bahia</td>\n",
              "      <td>2.4</td>\n",
              "    </tr>\n",
              "    <tr>\n",
              "      <th>4</th>\n",
              "      <td>2006</td>\n",
              "      <td>Minas Gerais</td>\n",
              "      <td>2.9</td>\n",
              "    </tr>\n",
              "  </tbody>\n",
              "</table>\n",
              "</div>"
            ],
            "text/plain": [
              "    Ano          Estado  População\n",
              "0  2002  Santa Catarina        1.5\n",
              "1  2003          Paraná        1.7\n",
              "2  2004           Goiás        3.6\n",
              "3  2005           Bahia        2.4\n",
              "4  2006    Minas Gerais        2.9"
            ]
          },
          "metadata": {
            "tags": []
          },
          "execution_count": 34
        }
      ]
    },
    {
      "cell_type": "markdown",
      "metadata": {
        "id": "wJkpjNy6VD0x",
        "colab_type": "text"
      },
      "source": [
        "Criando outro DataFrame\n"
      ]
    },
    {
      "cell_type": "code",
      "metadata": {
        "id": "GSBjZlmhT2OC",
        "colab_type": "code",
        "colab": {}
      },
      "source": [
        "frame2 = DataFrame(data, columns = ['Ano', 'Estado', 'População', 'Débito'], \n",
        "                   index = ['um', 'dois', 'três', 'quatro', 'cinco'])"
      ],
      "execution_count": 35,
      "outputs": []
    },
    {
      "cell_type": "markdown",
      "metadata": {
        "id": "2TLvjq1QVGfC",
        "colab_type": "text"
      },
      "source": [
        "Imprimindo o DataFrame"
      ]
    },
    {
      "cell_type": "code",
      "metadata": {
        "id": "g2kYgbSbT8qr",
        "colab_type": "code",
        "colab": {
          "base_uri": "https://localhost:8080/",
          "height": 196
        },
        "outputId": "59918bf4-9a3d-4b7a-c110-f719b353a6df"
      },
      "source": [
        "frame2"
      ],
      "execution_count": 36,
      "outputs": [
        {
          "output_type": "execute_result",
          "data": {
            "text/html": [
              "<div>\n",
              "<style scoped>\n",
              "    .dataframe tbody tr th:only-of-type {\n",
              "        vertical-align: middle;\n",
              "    }\n",
              "\n",
              "    .dataframe tbody tr th {\n",
              "        vertical-align: top;\n",
              "    }\n",
              "\n",
              "    .dataframe thead th {\n",
              "        text-align: right;\n",
              "    }\n",
              "</style>\n",
              "<table border=\"1\" class=\"dataframe\">\n",
              "  <thead>\n",
              "    <tr style=\"text-align: right;\">\n",
              "      <th></th>\n",
              "      <th>Ano</th>\n",
              "      <th>Estado</th>\n",
              "      <th>População</th>\n",
              "      <th>Débito</th>\n",
              "    </tr>\n",
              "  </thead>\n",
              "  <tbody>\n",
              "    <tr>\n",
              "      <th>um</th>\n",
              "      <td>2002</td>\n",
              "      <td>Santa Catarina</td>\n",
              "      <td>1.5</td>\n",
              "      <td>NaN</td>\n",
              "    </tr>\n",
              "    <tr>\n",
              "      <th>dois</th>\n",
              "      <td>2003</td>\n",
              "      <td>Paraná</td>\n",
              "      <td>1.7</td>\n",
              "      <td>NaN</td>\n",
              "    </tr>\n",
              "    <tr>\n",
              "      <th>três</th>\n",
              "      <td>2004</td>\n",
              "      <td>Goiás</td>\n",
              "      <td>3.6</td>\n",
              "      <td>NaN</td>\n",
              "    </tr>\n",
              "    <tr>\n",
              "      <th>quatro</th>\n",
              "      <td>2005</td>\n",
              "      <td>Bahia</td>\n",
              "      <td>2.4</td>\n",
              "      <td>NaN</td>\n",
              "    </tr>\n",
              "    <tr>\n",
              "      <th>cinco</th>\n",
              "      <td>2006</td>\n",
              "      <td>Minas Gerais</td>\n",
              "      <td>2.9</td>\n",
              "      <td>NaN</td>\n",
              "    </tr>\n",
              "  </tbody>\n",
              "</table>\n",
              "</div>"
            ],
            "text/plain": [
              "         Ano          Estado  População Débito\n",
              "um      2002  Santa Catarina        1.5    NaN\n",
              "dois    2003          Paraná        1.7    NaN\n",
              "três    2004           Goiás        3.6    NaN\n",
              "quatro  2005           Bahia        2.4    NaN\n",
              "cinco   2006    Minas Gerais        2.9    NaN"
            ]
          },
          "metadata": {
            "tags": []
          },
          "execution_count": 36
        }
      ]
    },
    {
      "cell_type": "markdown",
      "metadata": {
        "id": "ssQ9-IQFVKTS",
        "colab_type": "text"
      },
      "source": [
        "Pegando os dados da coluna Estado"
      ]
    },
    {
      "cell_type": "code",
      "metadata": {
        "id": "yGXpEaCkUB6i",
        "colab_type": "code",
        "colab": {
          "base_uri": "https://localhost:8080/",
          "height": 117
        },
        "outputId": "e8e3b42f-fc89-4f47-804b-f430d758eb9e"
      },
      "source": [
        "frame2['Estado']"
      ],
      "execution_count": 37,
      "outputs": [
        {
          "output_type": "execute_result",
          "data": {
            "text/plain": [
              "um        Santa Catarina\n",
              "dois              Paraná\n",
              "três               Goiás\n",
              "quatro             Bahia\n",
              "cinco       Minas Gerais\n",
              "Name: Estado, dtype: object"
            ]
          },
          "metadata": {
            "tags": []
          },
          "execution_count": 37
        }
      ]
    },
    {
      "cell_type": "markdown",
      "metadata": {
        "id": "QrSO-IgCVQQH",
        "colab_type": "text"
      },
      "source": [
        "Verificando o tipo do DataFrame"
      ]
    },
    {
      "cell_type": "code",
      "metadata": {
        "id": "nohsIVkgUHjw",
        "colab_type": "code",
        "colab": {
          "base_uri": "https://localhost:8080/",
          "height": 33
        },
        "outputId": "c0be3eb1-b0e8-4803-a730-d3c812215ba2"
      },
      "source": [
        "type(frame2)"
      ],
      "execution_count": 38,
      "outputs": [
        {
          "output_type": "execute_result",
          "data": {
            "text/plain": [
              "pandas.core.frame.DataFrame"
            ]
          },
          "metadata": {
            "tags": []
          },
          "execution_count": 38
        }
      ]
    },
    {
      "cell_type": "markdown",
      "metadata": {
        "id": "DLMJQZSiVTOh",
        "colab_type": "text"
      },
      "source": [
        "Verificando o Index"
      ]
    },
    {
      "cell_type": "code",
      "metadata": {
        "id": "UDHZ4rUKUN8o",
        "colab_type": "code",
        "colab": {
          "base_uri": "https://localhost:8080/",
          "height": 33
        },
        "outputId": "2f403a93-1e39-4d39-fcf7-f8713cc12504"
      },
      "source": [
        "frame2.index"
      ],
      "execution_count": 39,
      "outputs": [
        {
          "output_type": "execute_result",
          "data": {
            "text/plain": [
              "Index(['um', 'dois', 'três', 'quatro', 'cinco'], dtype='object')"
            ]
          },
          "metadata": {
            "tags": []
          },
          "execution_count": 39
        }
      ]
    },
    {
      "cell_type": "markdown",
      "metadata": {
        "id": "ljavYWaTVVw4",
        "colab_type": "text"
      },
      "source": [
        "Verificando as Colunas"
      ]
    },
    {
      "cell_type": "code",
      "metadata": {
        "id": "Uzg3KVJWUS-i",
        "colab_type": "code",
        "colab": {
          "base_uri": "https://localhost:8080/",
          "height": 33
        },
        "outputId": "a86f2f7b-05ec-4ba8-b197-749612dd4e78"
      },
      "source": [
        "frame2.columns"
      ],
      "execution_count": 40,
      "outputs": [
        {
          "output_type": "execute_result",
          "data": {
            "text/plain": [
              "Index(['Ano', 'Estado', 'População', 'Débito'], dtype='object')"
            ]
          },
          "metadata": {
            "tags": []
          },
          "execution_count": 40
        }
      ]
    },
    {
      "cell_type": "markdown",
      "metadata": {
        "id": "5AGo44VMVYE3",
        "colab_type": "text"
      },
      "source": [
        "Verificando os Valores"
      ]
    },
    {
      "cell_type": "code",
      "metadata": {
        "id": "8JJiECYZUWgV",
        "colab_type": "code",
        "colab": {
          "base_uri": "https://localhost:8080/",
          "height": 100
        },
        "outputId": "0c308b80-ee76-4b7f-b781-1b1aa383348e"
      },
      "source": [
        "frame2.values"
      ],
      "execution_count": 41,
      "outputs": [
        {
          "output_type": "execute_result",
          "data": {
            "text/plain": [
              "array([[2002, 'Santa Catarina', 1.5, nan],\n",
              "       [2003, 'Paraná', 1.7, nan],\n",
              "       [2004, 'Goiás', 3.6, nan],\n",
              "       [2005, 'Bahia', 2.4, nan],\n",
              "       [2006, 'Minas Gerais', 2.9, nan]], dtype=object)"
            ]
          },
          "metadata": {
            "tags": []
          },
          "execution_count": 41
        }
      ]
    },
    {
      "cell_type": "markdown",
      "metadata": {
        "id": "YEEEFV86VaM3",
        "colab_type": "text"
      },
      "source": [
        "Vendo os Tipos de dados de cada coluna"
      ]
    },
    {
      "cell_type": "code",
      "metadata": {
        "id": "hZaeJzitUa91",
        "colab_type": "code",
        "colab": {
          "base_uri": "https://localhost:8080/",
          "height": 84
        },
        "outputId": "fd078c01-bdd6-4be6-e642-542a8cb0e6e9"
      },
      "source": [
        "frame.dtypes"
      ],
      "execution_count": 42,
      "outputs": [
        {
          "output_type": "execute_result",
          "data": {
            "text/plain": [
              "Estado        object\n",
              "Ano            int64\n",
              "População    float64\n",
              "dtype: object"
            ]
          },
          "metadata": {
            "tags": []
          },
          "execution_count": 42
        }
      ]
    },
    {
      "cell_type": "markdown",
      "metadata": {
        "id": "_kM2QwsPVfEO",
        "colab_type": "text"
      },
      "source": [
        "Vendo apenas os dados da coluna Ano"
      ]
    },
    {
      "cell_type": "code",
      "metadata": {
        "id": "ynbM2Ke-UgNg",
        "colab_type": "code",
        "colab": {
          "base_uri": "https://localhost:8080/",
          "height": 117
        },
        "outputId": "7d98999a-e362-4055-d96a-24877d7aa0c2"
      },
      "source": [
        "frame2['Ano']"
      ],
      "execution_count": 43,
      "outputs": [
        {
          "output_type": "execute_result",
          "data": {
            "text/plain": [
              "um        2002\n",
              "dois      2003\n",
              "três      2004\n",
              "quatro    2005\n",
              "cinco     2006\n",
              "Name: Ano, dtype: int64"
            ]
          },
          "metadata": {
            "tags": []
          },
          "execution_count": 43
        }
      ]
    },
    {
      "cell_type": "markdown",
      "metadata": {
        "id": "tU7otHBTVitn",
        "colab_type": "text"
      },
      "source": [
        "Vendo de outra forma"
      ]
    },
    {
      "cell_type": "code",
      "metadata": {
        "id": "jswxLx5bUiLB",
        "colab_type": "code",
        "colab": {
          "base_uri": "https://localhost:8080/",
          "height": 117
        },
        "outputId": "5fe58518-c8e3-4a01-9b33-b42028b4adbb"
      },
      "source": [
        "frame2.Ano"
      ],
      "execution_count": 44,
      "outputs": [
        {
          "output_type": "execute_result",
          "data": {
            "text/plain": [
              "um        2002\n",
              "dois      2003\n",
              "três      2004\n",
              "quatro    2005\n",
              "cinco     2006\n",
              "Name: Ano, dtype: int64"
            ]
          },
          "metadata": {
            "tags": []
          },
          "execution_count": 44
        }
      ]
    },
    {
      "cell_type": "markdown",
      "metadata": {
        "id": "sQ9w1ynYVoK_",
        "colab_type": "text"
      },
      "source": [
        "Fazendo Slicing "
      ]
    },
    {
      "cell_type": "code",
      "metadata": {
        "id": "66b2eQbsUm7i",
        "colab_type": "code",
        "colab": {
          "base_uri": "https://localhost:8080/",
          "height": 107
        },
        "outputId": "4f490e48-c8f9-495e-e669-3d5763744bc9"
      },
      "source": [
        "frame2[:2]"
      ],
      "execution_count": 45,
      "outputs": [
        {
          "output_type": "execute_result",
          "data": {
            "text/html": [
              "<div>\n",
              "<style scoped>\n",
              "    .dataframe tbody tr th:only-of-type {\n",
              "        vertical-align: middle;\n",
              "    }\n",
              "\n",
              "    .dataframe tbody tr th {\n",
              "        vertical-align: top;\n",
              "    }\n",
              "\n",
              "    .dataframe thead th {\n",
              "        text-align: right;\n",
              "    }\n",
              "</style>\n",
              "<table border=\"1\" class=\"dataframe\">\n",
              "  <thead>\n",
              "    <tr style=\"text-align: right;\">\n",
              "      <th></th>\n",
              "      <th>Ano</th>\n",
              "      <th>Estado</th>\n",
              "      <th>População</th>\n",
              "      <th>Débito</th>\n",
              "    </tr>\n",
              "  </thead>\n",
              "  <tbody>\n",
              "    <tr>\n",
              "      <th>um</th>\n",
              "      <td>2002</td>\n",
              "      <td>Santa Catarina</td>\n",
              "      <td>1.5</td>\n",
              "      <td>NaN</td>\n",
              "    </tr>\n",
              "    <tr>\n",
              "      <th>dois</th>\n",
              "      <td>2003</td>\n",
              "      <td>Paraná</td>\n",
              "      <td>1.7</td>\n",
              "      <td>NaN</td>\n",
              "    </tr>\n",
              "  </tbody>\n",
              "</table>\n",
              "</div>"
            ],
            "text/plain": [
              "       Ano          Estado  População Débito\n",
              "um    2002  Santa Catarina        1.5    NaN\n",
              "dois  2003          Paraná        1.7    NaN"
            ]
          },
          "metadata": {
            "tags": []
          },
          "execution_count": 45
        }
      ]
    },
    {
      "cell_type": "code",
      "metadata": {
        "id": "o0s9Gqz9vQ79",
        "colab_type": "code",
        "colab": {}
      },
      "source": [
        "import numpy as np\n",
        "\n",
        "\n",
        "frame2['Débito']= np.arange(5.)"
      ],
      "execution_count": 46,
      "outputs": []
    },
    {
      "cell_type": "code",
      "metadata": {
        "id": "MmlltdmPvQOh",
        "colab_type": "code",
        "colab": {
          "base_uri": "https://localhost:8080/",
          "height": 196
        },
        "outputId": "5cbc2675-87ed-4eed-b372-cdc7072acf73"
      },
      "source": [
        "frame2"
      ],
      "execution_count": 47,
      "outputs": [
        {
          "output_type": "execute_result",
          "data": {
            "text/html": [
              "<div>\n",
              "<style scoped>\n",
              "    .dataframe tbody tr th:only-of-type {\n",
              "        vertical-align: middle;\n",
              "    }\n",
              "\n",
              "    .dataframe tbody tr th {\n",
              "        vertical-align: top;\n",
              "    }\n",
              "\n",
              "    .dataframe thead th {\n",
              "        text-align: right;\n",
              "    }\n",
              "</style>\n",
              "<table border=\"1\" class=\"dataframe\">\n",
              "  <thead>\n",
              "    <tr style=\"text-align: right;\">\n",
              "      <th></th>\n",
              "      <th>Ano</th>\n",
              "      <th>Estado</th>\n",
              "      <th>População</th>\n",
              "      <th>Débito</th>\n",
              "    </tr>\n",
              "  </thead>\n",
              "  <tbody>\n",
              "    <tr>\n",
              "      <th>um</th>\n",
              "      <td>2002</td>\n",
              "      <td>Santa Catarina</td>\n",
              "      <td>1.5</td>\n",
              "      <td>0.0</td>\n",
              "    </tr>\n",
              "    <tr>\n",
              "      <th>dois</th>\n",
              "      <td>2003</td>\n",
              "      <td>Paraná</td>\n",
              "      <td>1.7</td>\n",
              "      <td>1.0</td>\n",
              "    </tr>\n",
              "    <tr>\n",
              "      <th>três</th>\n",
              "      <td>2004</td>\n",
              "      <td>Goiás</td>\n",
              "      <td>3.6</td>\n",
              "      <td>2.0</td>\n",
              "    </tr>\n",
              "    <tr>\n",
              "      <th>quatro</th>\n",
              "      <td>2005</td>\n",
              "      <td>Bahia</td>\n",
              "      <td>2.4</td>\n",
              "      <td>3.0</td>\n",
              "    </tr>\n",
              "    <tr>\n",
              "      <th>cinco</th>\n",
              "      <td>2006</td>\n",
              "      <td>Minas Gerais</td>\n",
              "      <td>2.9</td>\n",
              "      <td>4.0</td>\n",
              "    </tr>\n",
              "  </tbody>\n",
              "</table>\n",
              "</div>"
            ],
            "text/plain": [
              "         Ano          Estado  População  Débito\n",
              "um      2002  Santa Catarina        1.5     0.0\n",
              "dois    2003          Paraná        1.7     1.0\n",
              "três    2004           Goiás        3.6     2.0\n",
              "quatro  2005           Bahia        2.4     3.0\n",
              "cinco   2006    Minas Gerais        2.9     4.0"
            ]
          },
          "metadata": {
            "tags": []
          },
          "execution_count": 47
        }
      ]
    },
    {
      "cell_type": "code",
      "metadata": {
        "id": "UybMMzQVvzqo",
        "colab_type": "code",
        "colab": {
          "base_uri": "https://localhost:8080/",
          "height": 100
        },
        "outputId": "a36140c2-b212-4d21-ea00-d9b5edb3fd31"
      },
      "source": [
        "frame2.values"
      ],
      "execution_count": 48,
      "outputs": [
        {
          "output_type": "execute_result",
          "data": {
            "text/plain": [
              "array([[2002, 'Santa Catarina', 1.5, 0.0],\n",
              "       [2003, 'Paraná', 1.7, 1.0],\n",
              "       [2004, 'Goiás', 3.6, 2.0],\n",
              "       [2005, 'Bahia', 2.4, 3.0],\n",
              "       [2006, 'Minas Gerais', 2.9, 4.0]], dtype=object)"
            ]
          },
          "metadata": {
            "tags": []
          },
          "execution_count": 48
        }
      ]
    },
    {
      "cell_type": "code",
      "metadata": {
        "id": "WzxoMCyNv3Yl",
        "colab_type": "code",
        "colab": {
          "base_uri": "https://localhost:8080/",
          "height": 286
        },
        "outputId": "d5fd6a12-6e75-4285-bab4-9bb41f0564c6"
      },
      "source": [
        "frame2.describe()\n",
        "\n",
        "#STD é o desvio Padrão"
      ],
      "execution_count": 49,
      "outputs": [
        {
          "output_type": "execute_result",
          "data": {
            "text/html": [
              "<div>\n",
              "<style scoped>\n",
              "    .dataframe tbody tr th:only-of-type {\n",
              "        vertical-align: middle;\n",
              "    }\n",
              "\n",
              "    .dataframe tbody tr th {\n",
              "        vertical-align: top;\n",
              "    }\n",
              "\n",
              "    .dataframe thead th {\n",
              "        text-align: right;\n",
              "    }\n",
              "</style>\n",
              "<table border=\"1\" class=\"dataframe\">\n",
              "  <thead>\n",
              "    <tr style=\"text-align: right;\">\n",
              "      <th></th>\n",
              "      <th>Ano</th>\n",
              "      <th>População</th>\n",
              "      <th>Débito</th>\n",
              "    </tr>\n",
              "  </thead>\n",
              "  <tbody>\n",
              "    <tr>\n",
              "      <th>count</th>\n",
              "      <td>5.000000</td>\n",
              "      <td>5.000000</td>\n",
              "      <td>5.000000</td>\n",
              "    </tr>\n",
              "    <tr>\n",
              "      <th>mean</th>\n",
              "      <td>2004.000000</td>\n",
              "      <td>2.420000</td>\n",
              "      <td>2.000000</td>\n",
              "    </tr>\n",
              "    <tr>\n",
              "      <th>std</th>\n",
              "      <td>1.581139</td>\n",
              "      <td>0.864292</td>\n",
              "      <td>1.581139</td>\n",
              "    </tr>\n",
              "    <tr>\n",
              "      <th>min</th>\n",
              "      <td>2002.000000</td>\n",
              "      <td>1.500000</td>\n",
              "      <td>0.000000</td>\n",
              "    </tr>\n",
              "    <tr>\n",
              "      <th>25%</th>\n",
              "      <td>2003.000000</td>\n",
              "      <td>1.700000</td>\n",
              "      <td>1.000000</td>\n",
              "    </tr>\n",
              "    <tr>\n",
              "      <th>50%</th>\n",
              "      <td>2004.000000</td>\n",
              "      <td>2.400000</td>\n",
              "      <td>2.000000</td>\n",
              "    </tr>\n",
              "    <tr>\n",
              "      <th>75%</th>\n",
              "      <td>2005.000000</td>\n",
              "      <td>2.900000</td>\n",
              "      <td>3.000000</td>\n",
              "    </tr>\n",
              "    <tr>\n",
              "      <th>max</th>\n",
              "      <td>2006.000000</td>\n",
              "      <td>3.600000</td>\n",
              "      <td>4.000000</td>\n",
              "    </tr>\n",
              "  </tbody>\n",
              "</table>\n",
              "</div>"
            ],
            "text/plain": [
              "               Ano  População    Débito\n",
              "count     5.000000   5.000000  5.000000\n",
              "mean   2004.000000   2.420000  2.000000\n",
              "std       1.581139   0.864292  1.581139\n",
              "min    2002.000000   1.500000  0.000000\n",
              "25%    2003.000000   1.700000  1.000000\n",
              "50%    2004.000000   2.400000  2.000000\n",
              "75%    2005.000000   2.900000  3.000000\n",
              "max    2006.000000   3.600000  4.000000"
            ]
          },
          "metadata": {
            "tags": []
          },
          "execution_count": 49
        }
      ]
    },
    {
      "cell_type": "markdown",
      "metadata": {
        "id": "a5Es5G9AwXkd",
        "colab_type": "text"
      },
      "source": [
        "Fazendo um Slicing"
      ]
    },
    {
      "cell_type": "code",
      "metadata": {
        "id": "fo6h3C3uv5wN",
        "colab_type": "code",
        "colab": {
          "base_uri": "https://localhost:8080/",
          "height": 137
        },
        "outputId": "57e5e3ad-2fad-4abf-e682-57d4cefdabd7"
      },
      "source": [
        "frame2['dois':'quatro']"
      ],
      "execution_count": 50,
      "outputs": [
        {
          "output_type": "execute_result",
          "data": {
            "text/html": [
              "<div>\n",
              "<style scoped>\n",
              "    .dataframe tbody tr th:only-of-type {\n",
              "        vertical-align: middle;\n",
              "    }\n",
              "\n",
              "    .dataframe tbody tr th {\n",
              "        vertical-align: top;\n",
              "    }\n",
              "\n",
              "    .dataframe thead th {\n",
              "        text-align: right;\n",
              "    }\n",
              "</style>\n",
              "<table border=\"1\" class=\"dataframe\">\n",
              "  <thead>\n",
              "    <tr style=\"text-align: right;\">\n",
              "      <th></th>\n",
              "      <th>Ano</th>\n",
              "      <th>Estado</th>\n",
              "      <th>População</th>\n",
              "      <th>Débito</th>\n",
              "    </tr>\n",
              "  </thead>\n",
              "  <tbody>\n",
              "    <tr>\n",
              "      <th>dois</th>\n",
              "      <td>2003</td>\n",
              "      <td>Paraná</td>\n",
              "      <td>1.7</td>\n",
              "      <td>1.0</td>\n",
              "    </tr>\n",
              "    <tr>\n",
              "      <th>três</th>\n",
              "      <td>2004</td>\n",
              "      <td>Goiás</td>\n",
              "      <td>3.6</td>\n",
              "      <td>2.0</td>\n",
              "    </tr>\n",
              "    <tr>\n",
              "      <th>quatro</th>\n",
              "      <td>2005</td>\n",
              "      <td>Bahia</td>\n",
              "      <td>2.4</td>\n",
              "      <td>3.0</td>\n",
              "    </tr>\n",
              "  </tbody>\n",
              "</table>\n",
              "</div>"
            ],
            "text/plain": [
              "         Ano  Estado  População  Débito\n",
              "dois    2003  Paraná        1.7     1.0\n",
              "três    2004   Goiás        3.6     2.0\n",
              "quatro  2005   Bahia        2.4     3.0"
            ]
          },
          "metadata": {
            "tags": []
          },
          "execution_count": 50
        }
      ]
    },
    {
      "cell_type": "markdown",
      "metadata": {
        "id": "FAjipVUown_P",
        "colab_type": "text"
      },
      "source": [
        "Localizando Registros dentro do Dataframe\n"
      ]
    },
    {
      "cell_type": "code",
      "metadata": {
        "id": "0mD47tASwB1q",
        "colab_type": "code",
        "colab": {
          "base_uri": "https://localhost:8080/",
          "height": 100
        },
        "outputId": "aabd1a5c-a32c-4281-86cf-4af9d52fc3d5"
      },
      "source": [
        "frame2.loc['quatro']"
      ],
      "execution_count": 51,
      "outputs": [
        {
          "output_type": "execute_result",
          "data": {
            "text/plain": [
              "Ano           2005\n",
              "Estado       Bahia\n",
              "População      2.4\n",
              "Débito           3\n",
              "Name: quatro, dtype: object"
            ]
          },
          "metadata": {
            "tags": []
          },
          "execution_count": 51
        }
      ]
    },
    {
      "cell_type": "markdown",
      "metadata": {
        "id": "0T9Vq200xg-w",
        "colab_type": "text"
      },
      "source": [
        "Localização pelo índice\n"
      ]
    },
    {
      "cell_type": "code",
      "metadata": {
        "id": "1Hyg5W_MwG1e",
        "colab_type": "code",
        "colab": {
          "base_uri": "https://localhost:8080/",
          "height": 100
        },
        "outputId": "2cf68504-3b92-4a75-ff34-5b8a72220209"
      },
      "source": [
        "frame2.iloc[2]"
      ],
      "execution_count": 52,
      "outputs": [
        {
          "output_type": "execute_result",
          "data": {
            "text/plain": [
              "Ano           2004\n",
              "Estado       Goiás\n",
              "População      3.6\n",
              "Débito           2\n",
              "Name: três, dtype: object"
            ]
          },
          "metadata": {
            "tags": []
          },
          "execution_count": 52
        }
      ]
    },
    {
      "cell_type": "code",
      "metadata": {
        "id": "iDAZZWwxw71A",
        "colab_type": "code",
        "colab": {}
      },
      "source": [
        "#criando um dicionário\n",
        "web_stats = {'Dias':[1, 2, 3 , 4, 5, 6, 7],\n",
        "             'Visitantes':[45,23,67,78,23,12,14],\n",
        "             'Taxas':[11,22,23,44,55,66,77]}"
      ],
      "execution_count": 53,
      "outputs": []
    },
    {
      "cell_type": "code",
      "metadata": {
        "id": "D2VpGkZpxTbB",
        "colab_type": "code",
        "colab": {}
      },
      "source": [
        "df= pd.DataFrame(web_stats)"
      ],
      "execution_count": 54,
      "outputs": []
    },
    {
      "cell_type": "code",
      "metadata": {
        "id": "o8EUXDRVxXcV",
        "colab_type": "code",
        "colab": {
          "base_uri": "https://localhost:8080/",
          "height": 150
        },
        "outputId": "affaf3cf-d5ef-46fb-bbca-8dfb39a9f451"
      },
      "source": [
        "print(df)"
      ],
      "execution_count": 55,
      "outputs": [
        {
          "output_type": "stream",
          "text": [
            "   Dias  Visitantes  Taxas\n",
            "0     1          45     11\n",
            "1     2          23     22\n",
            "2     3          67     23\n",
            "3     4          78     44\n",
            "4     5          23     55\n",
            "5     6          12     66\n",
            "6     7          14     77\n"
          ],
          "name": "stdout"
        }
      ]
    },
    {
      "cell_type": "markdown",
      "metadata": {
        "id": "Zcuf1nsXx85s",
        "colab_type": "text"
      },
      "source": [
        "Como a dias é uma sequência de números, vou deixa-lá como meu index. Para isso precisa usar a função set_index"
      ]
    },
    {
      "cell_type": "code",
      "metadata": {
        "id": "cIhzyOMlxYYz",
        "colab_type": "code",
        "colab": {
          "base_uri": "https://localhost:8080/",
          "height": 167
        },
        "outputId": "e2030a53-774c-47c7-cade-6f7e49e4e4d9"
      },
      "source": [
        "print(df.set_index('Dias'))"
      ],
      "execution_count": 56,
      "outputs": [
        {
          "output_type": "stream",
          "text": [
            "      Visitantes  Taxas\n",
            "Dias                   \n",
            "1             45     11\n",
            "2             23     22\n",
            "3             67     23\n",
            "4             78     44\n",
            "5             23     55\n",
            "6             12     66\n",
            "7             14     77\n"
          ],
          "name": "stdout"
        }
      ]
    },
    {
      "cell_type": "markdown",
      "metadata": {
        "id": "OvdLovI2yFhl",
        "colab_type": "text"
      },
      "source": [
        "Para visualizar apenas as primeiras linhas, utiliza-se a função head(), por default, a função head são 5 primeiras linhas, mas se você colocar um número poderá ser mais que 5"
      ]
    },
    {
      "cell_type": "code",
      "metadata": {
        "id": "jNaTaSB5yClZ",
        "colab_type": "code",
        "colab": {
          "base_uri": "https://localhost:8080/",
          "height": 196
        },
        "outputId": "7548b511-c99d-4e6e-ff6e-64b162508e46"
      },
      "source": [
        "df.head()"
      ],
      "execution_count": 57,
      "outputs": [
        {
          "output_type": "execute_result",
          "data": {
            "text/html": [
              "<div>\n",
              "<style scoped>\n",
              "    .dataframe tbody tr th:only-of-type {\n",
              "        vertical-align: middle;\n",
              "    }\n",
              "\n",
              "    .dataframe tbody tr th {\n",
              "        vertical-align: top;\n",
              "    }\n",
              "\n",
              "    .dataframe thead th {\n",
              "        text-align: right;\n",
              "    }\n",
              "</style>\n",
              "<table border=\"1\" class=\"dataframe\">\n",
              "  <thead>\n",
              "    <tr style=\"text-align: right;\">\n",
              "      <th></th>\n",
              "      <th>Dias</th>\n",
              "      <th>Visitantes</th>\n",
              "      <th>Taxas</th>\n",
              "    </tr>\n",
              "  </thead>\n",
              "  <tbody>\n",
              "    <tr>\n",
              "      <th>0</th>\n",
              "      <td>1</td>\n",
              "      <td>45</td>\n",
              "      <td>11</td>\n",
              "    </tr>\n",
              "    <tr>\n",
              "      <th>1</th>\n",
              "      <td>2</td>\n",
              "      <td>23</td>\n",
              "      <td>22</td>\n",
              "    </tr>\n",
              "    <tr>\n",
              "      <th>2</th>\n",
              "      <td>3</td>\n",
              "      <td>67</td>\n",
              "      <td>23</td>\n",
              "    </tr>\n",
              "    <tr>\n",
              "      <th>3</th>\n",
              "      <td>4</td>\n",
              "      <td>78</td>\n",
              "      <td>44</td>\n",
              "    </tr>\n",
              "    <tr>\n",
              "      <th>4</th>\n",
              "      <td>5</td>\n",
              "      <td>23</td>\n",
              "      <td>55</td>\n",
              "    </tr>\n",
              "  </tbody>\n",
              "</table>\n",
              "</div>"
            ],
            "text/plain": [
              "   Dias  Visitantes  Taxas\n",
              "0     1          45     11\n",
              "1     2          23     22\n",
              "2     3          67     23\n",
              "3     4          78     44\n",
              "4     5          23     55"
            ]
          },
          "metadata": {
            "tags": []
          },
          "execution_count": 57
        }
      ]
    },
    {
      "cell_type": "code",
      "metadata": {
        "id": "R5gnMbd5ydcR",
        "colab_type": "code",
        "colab": {
          "base_uri": "https://localhost:8080/",
          "height": 256
        },
        "outputId": "57bf978b-fe46-4734-e941-c23254145c13"
      },
      "source": [
        "df.head(7)"
      ],
      "execution_count": 58,
      "outputs": [
        {
          "output_type": "execute_result",
          "data": {
            "text/html": [
              "<div>\n",
              "<style scoped>\n",
              "    .dataframe tbody tr th:only-of-type {\n",
              "        vertical-align: middle;\n",
              "    }\n",
              "\n",
              "    .dataframe tbody tr th {\n",
              "        vertical-align: top;\n",
              "    }\n",
              "\n",
              "    .dataframe thead th {\n",
              "        text-align: right;\n",
              "    }\n",
              "</style>\n",
              "<table border=\"1\" class=\"dataframe\">\n",
              "  <thead>\n",
              "    <tr style=\"text-align: right;\">\n",
              "      <th></th>\n",
              "      <th>Dias</th>\n",
              "      <th>Visitantes</th>\n",
              "      <th>Taxas</th>\n",
              "    </tr>\n",
              "  </thead>\n",
              "  <tbody>\n",
              "    <tr>\n",
              "      <th>0</th>\n",
              "      <td>1</td>\n",
              "      <td>45</td>\n",
              "      <td>11</td>\n",
              "    </tr>\n",
              "    <tr>\n",
              "      <th>1</th>\n",
              "      <td>2</td>\n",
              "      <td>23</td>\n",
              "      <td>22</td>\n",
              "    </tr>\n",
              "    <tr>\n",
              "      <th>2</th>\n",
              "      <td>3</td>\n",
              "      <td>67</td>\n",
              "      <td>23</td>\n",
              "    </tr>\n",
              "    <tr>\n",
              "      <th>3</th>\n",
              "      <td>4</td>\n",
              "      <td>78</td>\n",
              "      <td>44</td>\n",
              "    </tr>\n",
              "    <tr>\n",
              "      <th>4</th>\n",
              "      <td>5</td>\n",
              "      <td>23</td>\n",
              "      <td>55</td>\n",
              "    </tr>\n",
              "    <tr>\n",
              "      <th>5</th>\n",
              "      <td>6</td>\n",
              "      <td>12</td>\n",
              "      <td>66</td>\n",
              "    </tr>\n",
              "    <tr>\n",
              "      <th>6</th>\n",
              "      <td>7</td>\n",
              "      <td>14</td>\n",
              "      <td>77</td>\n",
              "    </tr>\n",
              "  </tbody>\n",
              "</table>\n",
              "</div>"
            ],
            "text/plain": [
              "   Dias  Visitantes  Taxas\n",
              "0     1          45     11\n",
              "1     2          23     22\n",
              "2     3          67     23\n",
              "3     4          78     44\n",
              "4     5          23     55\n",
              "5     6          12     66\n",
              "6     7          14     77"
            ]
          },
          "metadata": {
            "tags": []
          },
          "execution_count": 58
        }
      ]
    },
    {
      "cell_type": "code",
      "metadata": {
        "id": "g_wAZuEFygzP",
        "colab_type": "code",
        "colab": {
          "base_uri": "https://localhost:8080/",
          "height": 150
        },
        "outputId": "43000c58-e586-4c19-fcaf-2ebfb9cc9e91"
      },
      "source": [
        "print(df['Visitantes'])"
      ],
      "execution_count": 59,
      "outputs": [
        {
          "output_type": "stream",
          "text": [
            "0    45\n",
            "1    23\n",
            "2    67\n",
            "3    78\n",
            "4    23\n",
            "5    12\n",
            "6    14\n",
            "Name: Visitantes, dtype: int64\n"
          ],
          "name": "stdout"
        }
      ]
    },
    {
      "cell_type": "markdown",
      "metadata": {
        "id": "eaNlBuIPzUpt",
        "colab_type": "text"
      },
      "source": [
        "Visualizando apenas uma coluna\n"
      ]
    },
    {
      "cell_type": "code",
      "metadata": {
        "id": "ULeW6bxsyn37",
        "colab_type": "code",
        "colab": {
          "base_uri": "https://localhost:8080/",
          "height": 150
        },
        "outputId": "5f38213a-de6d-46d3-a05c-41873db1f6a2"
      },
      "source": [
        "df['Visitantes']"
      ],
      "execution_count": 60,
      "outputs": [
        {
          "output_type": "execute_result",
          "data": {
            "text/plain": [
              "0    45\n",
              "1    23\n",
              "2    67\n",
              "3    78\n",
              "4    23\n",
              "5    12\n",
              "6    14\n",
              "Name: Visitantes, dtype: int64"
            ]
          },
          "metadata": {
            "tags": []
          },
          "execution_count": 60
        }
      ]
    },
    {
      "cell_type": "markdown",
      "metadata": {
        "id": "cVyoaIU8zSiB",
        "colab_type": "text"
      },
      "source": [
        "Visualizando mais de uma coluna\n"
      ]
    },
    {
      "cell_type": "code",
      "metadata": {
        "id": "LmChZTDNyx8A",
        "colab_type": "code",
        "colab": {
          "base_uri": "https://localhost:8080/",
          "height": 256
        },
        "outputId": "15b3ead5-2253-4e4e-9cee-72c72049bb66"
      },
      "source": [
        "df[['Visitantes', 'Taxas']]"
      ],
      "execution_count": 61,
      "outputs": [
        {
          "output_type": "execute_result",
          "data": {
            "text/html": [
              "<div>\n",
              "<style scoped>\n",
              "    .dataframe tbody tr th:only-of-type {\n",
              "        vertical-align: middle;\n",
              "    }\n",
              "\n",
              "    .dataframe tbody tr th {\n",
              "        vertical-align: top;\n",
              "    }\n",
              "\n",
              "    .dataframe thead th {\n",
              "        text-align: right;\n",
              "    }\n",
              "</style>\n",
              "<table border=\"1\" class=\"dataframe\">\n",
              "  <thead>\n",
              "    <tr style=\"text-align: right;\">\n",
              "      <th></th>\n",
              "      <th>Visitantes</th>\n",
              "      <th>Taxas</th>\n",
              "    </tr>\n",
              "  </thead>\n",
              "  <tbody>\n",
              "    <tr>\n",
              "      <th>0</th>\n",
              "      <td>45</td>\n",
              "      <td>11</td>\n",
              "    </tr>\n",
              "    <tr>\n",
              "      <th>1</th>\n",
              "      <td>23</td>\n",
              "      <td>22</td>\n",
              "    </tr>\n",
              "    <tr>\n",
              "      <th>2</th>\n",
              "      <td>67</td>\n",
              "      <td>23</td>\n",
              "    </tr>\n",
              "    <tr>\n",
              "      <th>3</th>\n",
              "      <td>78</td>\n",
              "      <td>44</td>\n",
              "    </tr>\n",
              "    <tr>\n",
              "      <th>4</th>\n",
              "      <td>23</td>\n",
              "      <td>55</td>\n",
              "    </tr>\n",
              "    <tr>\n",
              "      <th>5</th>\n",
              "      <td>12</td>\n",
              "      <td>66</td>\n",
              "    </tr>\n",
              "    <tr>\n",
              "      <th>6</th>\n",
              "      <td>14</td>\n",
              "      <td>77</td>\n",
              "    </tr>\n",
              "  </tbody>\n",
              "</table>\n",
              "</div>"
            ],
            "text/plain": [
              "   Visitantes  Taxas\n",
              "0          45     11\n",
              "1          23     22\n",
              "2          67     23\n",
              "3          78     44\n",
              "4          23     55\n",
              "5          12     66\n",
              "6          14     77"
            ]
          },
          "metadata": {
            "tags": []
          },
          "execution_count": 61
        }
      ]
    },
    {
      "cell_type": "markdown",
      "metadata": {
        "id": "gglUr96LzO9g",
        "colab_type": "text"
      },
      "source": [
        "Mudando a ordem de visualização"
      ]
    },
    {
      "cell_type": "code",
      "metadata": {
        "id": "HjVe_mPby2cV",
        "colab_type": "code",
        "colab": {
          "base_uri": "https://localhost:8080/",
          "height": 256
        },
        "outputId": "ddcbe3cc-da3a-4382-ae2b-125eb84c5630"
      },
      "source": [
        "df[['Taxas','Visitantes']]"
      ],
      "execution_count": 62,
      "outputs": [
        {
          "output_type": "execute_result",
          "data": {
            "text/html": [
              "<div>\n",
              "<style scoped>\n",
              "    .dataframe tbody tr th:only-of-type {\n",
              "        vertical-align: middle;\n",
              "    }\n",
              "\n",
              "    .dataframe tbody tr th {\n",
              "        vertical-align: top;\n",
              "    }\n",
              "\n",
              "    .dataframe thead th {\n",
              "        text-align: right;\n",
              "    }\n",
              "</style>\n",
              "<table border=\"1\" class=\"dataframe\">\n",
              "  <thead>\n",
              "    <tr style=\"text-align: right;\">\n",
              "      <th></th>\n",
              "      <th>Taxas</th>\n",
              "      <th>Visitantes</th>\n",
              "    </tr>\n",
              "  </thead>\n",
              "  <tbody>\n",
              "    <tr>\n",
              "      <th>0</th>\n",
              "      <td>11</td>\n",
              "      <td>45</td>\n",
              "    </tr>\n",
              "    <tr>\n",
              "      <th>1</th>\n",
              "      <td>22</td>\n",
              "      <td>23</td>\n",
              "    </tr>\n",
              "    <tr>\n",
              "      <th>2</th>\n",
              "      <td>23</td>\n",
              "      <td>67</td>\n",
              "    </tr>\n",
              "    <tr>\n",
              "      <th>3</th>\n",
              "      <td>44</td>\n",
              "      <td>78</td>\n",
              "    </tr>\n",
              "    <tr>\n",
              "      <th>4</th>\n",
              "      <td>55</td>\n",
              "      <td>23</td>\n",
              "    </tr>\n",
              "    <tr>\n",
              "      <th>5</th>\n",
              "      <td>66</td>\n",
              "      <td>12</td>\n",
              "    </tr>\n",
              "    <tr>\n",
              "      <th>6</th>\n",
              "      <td>77</td>\n",
              "      <td>14</td>\n",
              "    </tr>\n",
              "  </tbody>\n",
              "</table>\n",
              "</div>"
            ],
            "text/plain": [
              "   Taxas  Visitantes\n",
              "0     11          45\n",
              "1     22          23\n",
              "2     23          67\n",
              "3     44          78\n",
              "4     55          23\n",
              "5     66          12\n",
              "6     77          14"
            ]
          },
          "metadata": {
            "tags": []
          },
          "execution_count": 62
        }
      ]
    },
    {
      "cell_type": "markdown",
      "metadata": {
        "id": "Pod3MOAb1lIP",
        "colab_type": "text"
      },
      "source": [
        "# Manipulando Arquivos\n"
      ]
    },
    {
      "cell_type": "markdown",
      "metadata": {
        "id": "loMDJRTZ2bEV",
        "colab_type": "text"
      },
      "source": [
        "Usuando função read_csv\n"
      ]
    },
    {
      "cell_type": "code",
      "metadata": {
        "id": "7iARPzBtzNXi",
        "colab_type": "code",
        "colab": {}
      },
      "source": [
        "df= pd.read_csv('https://raw.githubusercontent.com/dsacademybr/PythonFundamentos/master/Cap08/Notebooks/salarios.csv')"
      ],
      "execution_count": 63,
      "outputs": []
    },
    {
      "cell_type": "code",
      "metadata": {
        "id": "8Lu-VoOE2FLZ",
        "colab_type": "code",
        "colab": {
          "base_uri": "https://localhost:8080/",
          "height": 404
        },
        "outputId": "53ea3f2b-30cc-42a4-cf80-1b86632672e1"
      },
      "source": [
        "df"
      ],
      "execution_count": 64,
      "outputs": [
        {
          "output_type": "execute_result",
          "data": {
            "text/html": [
              "<div>\n",
              "<style scoped>\n",
              "    .dataframe tbody tr th:only-of-type {\n",
              "        vertical-align: middle;\n",
              "    }\n",
              "\n",
              "    .dataframe tbody tr th {\n",
              "        vertical-align: top;\n",
              "    }\n",
              "\n",
              "    .dataframe thead th {\n",
              "        text-align: right;\n",
              "    }\n",
              "</style>\n",
              "<table border=\"1\" class=\"dataframe\">\n",
              "  <thead>\n",
              "    <tr style=\"text-align: right;\">\n",
              "      <th></th>\n",
              "      <th>Name</th>\n",
              "      <th>Position Title</th>\n",
              "      <th>Department</th>\n",
              "      <th>Employee Annual Salary</th>\n",
              "    </tr>\n",
              "  </thead>\n",
              "  <tbody>\n",
              "    <tr>\n",
              "      <th>0</th>\n",
              "      <td>AARON,  ELVIA J</td>\n",
              "      <td>WATER RATE TAKER</td>\n",
              "      <td>WATER MGMNT</td>\n",
              "      <td>$88965.00</td>\n",
              "    </tr>\n",
              "    <tr>\n",
              "      <th>1</th>\n",
              "      <td>AARON,  JEFFERY M</td>\n",
              "      <td>POLICE OFFICER</td>\n",
              "      <td>POLICE</td>\n",
              "      <td>$80778.00</td>\n",
              "    </tr>\n",
              "    <tr>\n",
              "      <th>2</th>\n",
              "      <td>AARON,  KARINA</td>\n",
              "      <td>POLICE OFFICER</td>\n",
              "      <td>POLICE</td>\n",
              "      <td>$80778.00</td>\n",
              "    </tr>\n",
              "    <tr>\n",
              "      <th>3</th>\n",
              "      <td>AARON,  KIMBERLEI R</td>\n",
              "      <td>CHIEF CONTRACT EXPEDITER</td>\n",
              "      <td>GENERAL SERVICES</td>\n",
              "      <td>$84780.00</td>\n",
              "    </tr>\n",
              "    <tr>\n",
              "      <th>4</th>\n",
              "      <td>ABAD JR,  VICENTE M</td>\n",
              "      <td>CIVIL ENGINEER IV</td>\n",
              "      <td>WATER MGMNT</td>\n",
              "      <td>$104736.00</td>\n",
              "    </tr>\n",
              "    <tr>\n",
              "      <th>...</th>\n",
              "      <td>...</td>\n",
              "      <td>...</td>\n",
              "      <td>...</td>\n",
              "      <td>...</td>\n",
              "    </tr>\n",
              "    <tr>\n",
              "      <th>32177</th>\n",
              "      <td>ZYGOWICZ,  PETER J</td>\n",
              "      <td>POLICE OFFICER</td>\n",
              "      <td>POLICE</td>\n",
              "      <td>$86520.00</td>\n",
              "    </tr>\n",
              "    <tr>\n",
              "      <th>32178</th>\n",
              "      <td>ZYMANTAS,  MARK E</td>\n",
              "      <td>POLICE OFFICER</td>\n",
              "      <td>POLICE</td>\n",
              "      <td>$83616.00</td>\n",
              "    </tr>\n",
              "    <tr>\n",
              "      <th>32179</th>\n",
              "      <td>ZYRKOWSKI,  CARLO E</td>\n",
              "      <td>POLICE OFFICER</td>\n",
              "      <td>POLICE</td>\n",
              "      <td>$86520.00</td>\n",
              "    </tr>\n",
              "    <tr>\n",
              "      <th>32180</th>\n",
              "      <td>ZYSKOWSKI,  DARIUSZ</td>\n",
              "      <td>CHIEF DATA BASE ANALYST</td>\n",
              "      <td>DoIT</td>\n",
              "      <td>$110352.00</td>\n",
              "    </tr>\n",
              "    <tr>\n",
              "      <th>32181</th>\n",
              "      <td>NaN</td>\n",
              "      <td>NaN</td>\n",
              "      <td>NaN</td>\n",
              "      <td>NaN</td>\n",
              "    </tr>\n",
              "  </tbody>\n",
              "</table>\n",
              "<p>32182 rows × 4 columns</p>\n",
              "</div>"
            ],
            "text/plain": [
              "                      Name  ... Employee Annual Salary\n",
              "0          AARON,  ELVIA J  ...              $88965.00\n",
              "1        AARON,  JEFFERY M  ...              $80778.00\n",
              "2           AARON,  KARINA  ...              $80778.00\n",
              "3      AARON,  KIMBERLEI R  ...              $84780.00\n",
              "4      ABAD JR,  VICENTE M  ...             $104736.00\n",
              "...                    ...  ...                    ...\n",
              "32177   ZYGOWICZ,  PETER J  ...              $86520.00\n",
              "32178    ZYMANTAS,  MARK E  ...              $83616.00\n",
              "32179  ZYRKOWSKI,  CARLO E  ...              $86520.00\n",
              "32180  ZYSKOWSKI,  DARIUSZ  ...             $110352.00\n",
              "32181                  NaN  ...                    NaN\n",
              "\n",
              "[32182 rows x 4 columns]"
            ]
          },
          "metadata": {
            "tags": []
          },
          "execution_count": 64
        }
      ]
    },
    {
      "cell_type": "markdown",
      "metadata": {
        "id": "ZKQ9WCmU2ZNg",
        "colab_type": "text"
      },
      "source": [
        "Usando read_table"
      ]
    },
    {
      "cell_type": "code",
      "metadata": {
        "id": "LC7LZEqA2F37",
        "colab_type": "code",
        "colab": {}
      },
      "source": [
        "df = pd.read_table('https://raw.githubusercontent.com/dsacademybr/PythonFundamentos/master/Cap08/Notebooks/salarios.csv', sep = ',')"
      ],
      "execution_count": 65,
      "outputs": []
    },
    {
      "cell_type": "code",
      "metadata": {
        "id": "8PsTPDQ32QtL",
        "colab_type": "code",
        "colab": {
          "base_uri": "https://localhost:8080/",
          "height": 404
        },
        "outputId": "ec9b58fb-d16a-489f-eae3-1fa9b4f899c3"
      },
      "source": [
        "df"
      ],
      "execution_count": 66,
      "outputs": [
        {
          "output_type": "execute_result",
          "data": {
            "text/html": [
              "<div>\n",
              "<style scoped>\n",
              "    .dataframe tbody tr th:only-of-type {\n",
              "        vertical-align: middle;\n",
              "    }\n",
              "\n",
              "    .dataframe tbody tr th {\n",
              "        vertical-align: top;\n",
              "    }\n",
              "\n",
              "    .dataframe thead th {\n",
              "        text-align: right;\n",
              "    }\n",
              "</style>\n",
              "<table border=\"1\" class=\"dataframe\">\n",
              "  <thead>\n",
              "    <tr style=\"text-align: right;\">\n",
              "      <th></th>\n",
              "      <th>Name</th>\n",
              "      <th>Position Title</th>\n",
              "      <th>Department</th>\n",
              "      <th>Employee Annual Salary</th>\n",
              "    </tr>\n",
              "  </thead>\n",
              "  <tbody>\n",
              "    <tr>\n",
              "      <th>0</th>\n",
              "      <td>AARON,  ELVIA J</td>\n",
              "      <td>WATER RATE TAKER</td>\n",
              "      <td>WATER MGMNT</td>\n",
              "      <td>$88965.00</td>\n",
              "    </tr>\n",
              "    <tr>\n",
              "      <th>1</th>\n",
              "      <td>AARON,  JEFFERY M</td>\n",
              "      <td>POLICE OFFICER</td>\n",
              "      <td>POLICE</td>\n",
              "      <td>$80778.00</td>\n",
              "    </tr>\n",
              "    <tr>\n",
              "      <th>2</th>\n",
              "      <td>AARON,  KARINA</td>\n",
              "      <td>POLICE OFFICER</td>\n",
              "      <td>POLICE</td>\n",
              "      <td>$80778.00</td>\n",
              "    </tr>\n",
              "    <tr>\n",
              "      <th>3</th>\n",
              "      <td>AARON,  KIMBERLEI R</td>\n",
              "      <td>CHIEF CONTRACT EXPEDITER</td>\n",
              "      <td>GENERAL SERVICES</td>\n",
              "      <td>$84780.00</td>\n",
              "    </tr>\n",
              "    <tr>\n",
              "      <th>4</th>\n",
              "      <td>ABAD JR,  VICENTE M</td>\n",
              "      <td>CIVIL ENGINEER IV</td>\n",
              "      <td>WATER MGMNT</td>\n",
              "      <td>$104736.00</td>\n",
              "    </tr>\n",
              "    <tr>\n",
              "      <th>...</th>\n",
              "      <td>...</td>\n",
              "      <td>...</td>\n",
              "      <td>...</td>\n",
              "      <td>...</td>\n",
              "    </tr>\n",
              "    <tr>\n",
              "      <th>32177</th>\n",
              "      <td>ZYGOWICZ,  PETER J</td>\n",
              "      <td>POLICE OFFICER</td>\n",
              "      <td>POLICE</td>\n",
              "      <td>$86520.00</td>\n",
              "    </tr>\n",
              "    <tr>\n",
              "      <th>32178</th>\n",
              "      <td>ZYMANTAS,  MARK E</td>\n",
              "      <td>POLICE OFFICER</td>\n",
              "      <td>POLICE</td>\n",
              "      <td>$83616.00</td>\n",
              "    </tr>\n",
              "    <tr>\n",
              "      <th>32179</th>\n",
              "      <td>ZYRKOWSKI,  CARLO E</td>\n",
              "      <td>POLICE OFFICER</td>\n",
              "      <td>POLICE</td>\n",
              "      <td>$86520.00</td>\n",
              "    </tr>\n",
              "    <tr>\n",
              "      <th>32180</th>\n",
              "      <td>ZYSKOWSKI,  DARIUSZ</td>\n",
              "      <td>CHIEF DATA BASE ANALYST</td>\n",
              "      <td>DoIT</td>\n",
              "      <td>$110352.00</td>\n",
              "    </tr>\n",
              "    <tr>\n",
              "      <th>32181</th>\n",
              "      <td>NaN</td>\n",
              "      <td>NaN</td>\n",
              "      <td>NaN</td>\n",
              "      <td>NaN</td>\n",
              "    </tr>\n",
              "  </tbody>\n",
              "</table>\n",
              "<p>32182 rows × 4 columns</p>\n",
              "</div>"
            ],
            "text/plain": [
              "                      Name  ... Employee Annual Salary\n",
              "0          AARON,  ELVIA J  ...              $88965.00\n",
              "1        AARON,  JEFFERY M  ...              $80778.00\n",
              "2           AARON,  KARINA  ...              $80778.00\n",
              "3      AARON,  KIMBERLEI R  ...              $84780.00\n",
              "4      ABAD JR,  VICENTE M  ...             $104736.00\n",
              "...                    ...  ...                    ...\n",
              "32177   ZYGOWICZ,  PETER J  ...              $86520.00\n",
              "32178    ZYMANTAS,  MARK E  ...              $83616.00\n",
              "32179  ZYRKOWSKI,  CARLO E  ...              $86520.00\n",
              "32180  ZYSKOWSKI,  DARIUSZ  ...             $110352.00\n",
              "32181                  NaN  ...                    NaN\n",
              "\n",
              "[32182 rows x 4 columns]"
            ]
          },
          "metadata": {
            "tags": []
          },
          "execution_count": 66
        }
      ]
    },
    {
      "cell_type": "markdown",
      "metadata": {
        "id": "0RNitwd32mQF",
        "colab_type": "text"
      },
      "source": [
        "Para usar no Windons use !type e no Mac ou Linux use !head"
      ]
    },
    {
      "cell_type": "code",
      "metadata": {
        "id": "6RWcWvDr2Rea",
        "colab_type": "code",
        "colab": {
          "base_uri": "https://localhost:8080/",
          "height": 33
        },
        "outputId": "96663f6d-95a6-460c-ac06-5c57b5017f04"
      },
      "source": [
        "!head salarios.csv"
      ],
      "execution_count": 67,
      "outputs": [
        {
          "output_type": "stream",
          "text": [
            "head: cannot open 'salarios.csv' for reading: No such file or directory\n"
          ],
          "name": "stdout"
        }
      ]
    },
    {
      "cell_type": "markdown",
      "metadata": {
        "id": "LUwNoZ6L26Qe",
        "colab_type": "text"
      },
      "source": [
        "Mudando os títulos das colunas\n"
      ]
    },
    {
      "cell_type": "code",
      "metadata": {
        "id": "pIQud1yZ2kQl",
        "colab_type": "code",
        "colab": {}
      },
      "source": [
        "df= pd.read_csv('https://raw.githubusercontent.com/dsacademybr/PythonFundamentos/master/Cap08/Notebooks/salarios.csv', names = ['a', 'b', 'c', 'd'])"
      ],
      "execution_count": 68,
      "outputs": []
    },
    {
      "cell_type": "code",
      "metadata": {
        "id": "NXDlpTqa3LDx",
        "colab_type": "code",
        "colab": {
          "base_uri": "https://localhost:8080/",
          "height": 196
        },
        "outputId": "34cbb89a-e198-4cdc-cc52-de523962ca19"
      },
      "source": [
        "df.head()"
      ],
      "execution_count": 69,
      "outputs": [
        {
          "output_type": "execute_result",
          "data": {
            "text/html": [
              "<div>\n",
              "<style scoped>\n",
              "    .dataframe tbody tr th:only-of-type {\n",
              "        vertical-align: middle;\n",
              "    }\n",
              "\n",
              "    .dataframe tbody tr th {\n",
              "        vertical-align: top;\n",
              "    }\n",
              "\n",
              "    .dataframe thead th {\n",
              "        text-align: right;\n",
              "    }\n",
              "</style>\n",
              "<table border=\"1\" class=\"dataframe\">\n",
              "  <thead>\n",
              "    <tr style=\"text-align: right;\">\n",
              "      <th></th>\n",
              "      <th>a</th>\n",
              "      <th>b</th>\n",
              "      <th>c</th>\n",
              "      <th>d</th>\n",
              "    </tr>\n",
              "  </thead>\n",
              "  <tbody>\n",
              "    <tr>\n",
              "      <th>0</th>\n",
              "      <td>Name</td>\n",
              "      <td>Position Title</td>\n",
              "      <td>Department</td>\n",
              "      <td>Employee Annual Salary</td>\n",
              "    </tr>\n",
              "    <tr>\n",
              "      <th>1</th>\n",
              "      <td>AARON,  ELVIA J</td>\n",
              "      <td>WATER RATE TAKER</td>\n",
              "      <td>WATER MGMNT</td>\n",
              "      <td>$88965.00</td>\n",
              "    </tr>\n",
              "    <tr>\n",
              "      <th>2</th>\n",
              "      <td>AARON,  JEFFERY M</td>\n",
              "      <td>POLICE OFFICER</td>\n",
              "      <td>POLICE</td>\n",
              "      <td>$80778.00</td>\n",
              "    </tr>\n",
              "    <tr>\n",
              "      <th>3</th>\n",
              "      <td>AARON,  KARINA</td>\n",
              "      <td>POLICE OFFICER</td>\n",
              "      <td>POLICE</td>\n",
              "      <td>$80778.00</td>\n",
              "    </tr>\n",
              "    <tr>\n",
              "      <th>4</th>\n",
              "      <td>AARON,  KIMBERLEI R</td>\n",
              "      <td>CHIEF CONTRACT EXPEDITER</td>\n",
              "      <td>GENERAL SERVICES</td>\n",
              "      <td>$84780.00</td>\n",
              "    </tr>\n",
              "  </tbody>\n",
              "</table>\n",
              "</div>"
            ],
            "text/plain": [
              "                     a  ...                       d\n",
              "0                 Name  ...  Employee Annual Salary\n",
              "1      AARON,  ELVIA J  ...               $88965.00\n",
              "2    AARON,  JEFFERY M  ...               $80778.00\n",
              "3       AARON,  KARINA  ...               $80778.00\n",
              "4  AARON,  KIMBERLEI R  ...               $84780.00\n",
              "\n",
              "[5 rows x 4 columns]"
            ]
          },
          "metadata": {
            "tags": []
          },
          "execution_count": 69
        }
      ]
    },
    {
      "cell_type": "code",
      "metadata": {
        "id": "tS5wCoSa3QcP",
        "colab_type": "code",
        "colab": {}
      },
      "source": [
        "import sys"
      ],
      "execution_count": 70,
      "outputs": []
    },
    {
      "cell_type": "markdown",
      "metadata": {
        "id": "UEhC-OWh4FQa",
        "colab_type": "text"
      },
      "source": [
        "Comando para salvar toda a manipulação em um arquivo CSV separados por pipeline"
      ]
    },
    {
      "cell_type": "code",
      "metadata": {
        "id": "swJjx89h3m5t",
        "colab_type": "code",
        "colab": {
          "base_uri": "https://localhost:8080/",
          "height": 161
        },
        "outputId": "f7fd7fc4-204f-451c-ce0f-2466df632f06"
      },
      "source": [
        "data.to_csv(sys.stdout, sep ='|')"
      ],
      "execution_count": 71,
      "outputs": [
        {
          "output_type": "error",
          "ename": "AttributeError",
          "evalue": "ignored",
          "traceback": [
            "\u001b[0;31m---------------------------------------------------------------------------\u001b[0m",
            "\u001b[0;31mAttributeError\u001b[0m                            Traceback (most recent call last)",
            "\u001b[0;32m<ipython-input-71-8c56bf215e18>\u001b[0m in \u001b[0;36m<module>\u001b[0;34m()\u001b[0m\n\u001b[0;32m----> 1\u001b[0;31m \u001b[0mdata\u001b[0m\u001b[0;34m.\u001b[0m\u001b[0mto_csv\u001b[0m\u001b[0;34m(\u001b[0m\u001b[0msys\u001b[0m\u001b[0;34m.\u001b[0m\u001b[0mstdout\u001b[0m\u001b[0;34m,\u001b[0m \u001b[0msep\u001b[0m \u001b[0;34m=\u001b[0m\u001b[0;34m'|'\u001b[0m\u001b[0;34m)\u001b[0m\u001b[0;34m\u001b[0m\u001b[0;34m\u001b[0m\u001b[0m\n\u001b[0m",
            "\u001b[0;31mAttributeError\u001b[0m: 'dict' object has no attribute 'to_csv'"
          ]
        }
      ]
    },
    {
      "cell_type": "markdown",
      "metadata": {
        "id": "89YT4Cih4vsp",
        "colab_type": "text"
      },
      "source": [
        "Criando um DataFrame com o index são as datas e com dados randomicos. "
      ]
    },
    {
      "cell_type": "code",
      "metadata": {
        "id": "EvLXyh8l4N5U",
        "colab_type": "code",
        "colab": {
          "base_uri": "https://localhost:8080/",
          "height": 345
        },
        "outputId": "1dd2a5f5-4e78-4525-9bfd-be5ac6d9ae4a"
      },
      "source": [
        "#Criando um DataFrame\n",
        "\n",
        "dates = pd.date_range('20200101', periods=10)\n",
        "#range de 10 datas iniciando com 20200101\n",
        "df = pd.DataFrame(np.random.randn(10,4), index = dates, columns=list('ABCD'))\n",
        "#gerando dados randomicos para popular a tabela, com indice sendo as datas e as colunas com títulos A,B,C,D\n",
        "df"
      ],
      "execution_count": 72,
      "outputs": [
        {
          "output_type": "execute_result",
          "data": {
            "text/html": [
              "<div>\n",
              "<style scoped>\n",
              "    .dataframe tbody tr th:only-of-type {\n",
              "        vertical-align: middle;\n",
              "    }\n",
              "\n",
              "    .dataframe tbody tr th {\n",
              "        vertical-align: top;\n",
              "    }\n",
              "\n",
              "    .dataframe thead th {\n",
              "        text-align: right;\n",
              "    }\n",
              "</style>\n",
              "<table border=\"1\" class=\"dataframe\">\n",
              "  <thead>\n",
              "    <tr style=\"text-align: right;\">\n",
              "      <th></th>\n",
              "      <th>A</th>\n",
              "      <th>B</th>\n",
              "      <th>C</th>\n",
              "      <th>D</th>\n",
              "    </tr>\n",
              "  </thead>\n",
              "  <tbody>\n",
              "    <tr>\n",
              "      <th>2020-01-01</th>\n",
              "      <td>-0.514742</td>\n",
              "      <td>1.189368</td>\n",
              "      <td>-1.234922</td>\n",
              "      <td>-0.427078</td>\n",
              "    </tr>\n",
              "    <tr>\n",
              "      <th>2020-01-02</th>\n",
              "      <td>0.285987</td>\n",
              "      <td>-1.219906</td>\n",
              "      <td>-0.629855</td>\n",
              "      <td>-0.729692</td>\n",
              "    </tr>\n",
              "    <tr>\n",
              "      <th>2020-01-03</th>\n",
              "      <td>0.368457</td>\n",
              "      <td>0.806774</td>\n",
              "      <td>-0.719708</td>\n",
              "      <td>1.146834</td>\n",
              "    </tr>\n",
              "    <tr>\n",
              "      <th>2020-01-04</th>\n",
              "      <td>0.259693</td>\n",
              "      <td>-1.024081</td>\n",
              "      <td>-1.273581</td>\n",
              "      <td>0.186159</td>\n",
              "    </tr>\n",
              "    <tr>\n",
              "      <th>2020-01-05</th>\n",
              "      <td>-0.216906</td>\n",
              "      <td>-1.202601</td>\n",
              "      <td>1.322059</td>\n",
              "      <td>0.544987</td>\n",
              "    </tr>\n",
              "    <tr>\n",
              "      <th>2020-01-06</th>\n",
              "      <td>-0.110172</td>\n",
              "      <td>-0.615912</td>\n",
              "      <td>0.725049</td>\n",
              "      <td>-0.600717</td>\n",
              "    </tr>\n",
              "    <tr>\n",
              "      <th>2020-01-07</th>\n",
              "      <td>-0.824089</td>\n",
              "      <td>0.854024</td>\n",
              "      <td>1.566522</td>\n",
              "      <td>-0.258219</td>\n",
              "    </tr>\n",
              "    <tr>\n",
              "      <th>2020-01-08</th>\n",
              "      <td>-0.795549</td>\n",
              "      <td>0.125922</td>\n",
              "      <td>-0.278659</td>\n",
              "      <td>-0.926240</td>\n",
              "    </tr>\n",
              "    <tr>\n",
              "      <th>2020-01-09</th>\n",
              "      <td>0.508782</td>\n",
              "      <td>1.423732</td>\n",
              "      <td>-1.294831</td>\n",
              "      <td>1.541932</td>\n",
              "    </tr>\n",
              "    <tr>\n",
              "      <th>2020-01-10</th>\n",
              "      <td>-0.441359</td>\n",
              "      <td>-1.517260</td>\n",
              "      <td>1.502723</td>\n",
              "      <td>-0.209454</td>\n",
              "    </tr>\n",
              "  </tbody>\n",
              "</table>\n",
              "</div>"
            ],
            "text/plain": [
              "                   A         B         C         D\n",
              "2020-01-01 -0.514742  1.189368 -1.234922 -0.427078\n",
              "2020-01-02  0.285987 -1.219906 -0.629855 -0.729692\n",
              "2020-01-03  0.368457  0.806774 -0.719708  1.146834\n",
              "2020-01-04  0.259693 -1.024081 -1.273581  0.186159\n",
              "2020-01-05 -0.216906 -1.202601  1.322059  0.544987\n",
              "2020-01-06 -0.110172 -0.615912  0.725049 -0.600717\n",
              "2020-01-07 -0.824089  0.854024  1.566522 -0.258219\n",
              "2020-01-08 -0.795549  0.125922 -0.278659 -0.926240\n",
              "2020-01-09  0.508782  1.423732 -1.294831  1.541932\n",
              "2020-01-10 -0.441359 -1.517260  1.502723 -0.209454"
            ]
          },
          "metadata": {
            "tags": []
          },
          "execution_count": 72
        }
      ]
    },
    {
      "cell_type": "markdown",
      "metadata": {
        "id": "pgXDb99kOyGL",
        "colab_type": "text"
      },
      "source": [
        "Mostrando a contagem, média, desvio padrão, minimo, máximo e os quartis\n"
      ]
    },
    {
      "cell_type": "code",
      "metadata": {
        "id": "28g4ERUBOW5i",
        "colab_type": "code",
        "colab": {
          "base_uri": "https://localhost:8080/",
          "height": 286
        },
        "outputId": "bfe430b2-eaac-4436-de0d-19ef32af8f59"
      },
      "source": [
        "df.describe()"
      ],
      "execution_count": 73,
      "outputs": [
        {
          "output_type": "execute_result",
          "data": {
            "text/html": [
              "<div>\n",
              "<style scoped>\n",
              "    .dataframe tbody tr th:only-of-type {\n",
              "        vertical-align: middle;\n",
              "    }\n",
              "\n",
              "    .dataframe tbody tr th {\n",
              "        vertical-align: top;\n",
              "    }\n",
              "\n",
              "    .dataframe thead th {\n",
              "        text-align: right;\n",
              "    }\n",
              "</style>\n",
              "<table border=\"1\" class=\"dataframe\">\n",
              "  <thead>\n",
              "    <tr style=\"text-align: right;\">\n",
              "      <th></th>\n",
              "      <th>A</th>\n",
              "      <th>B</th>\n",
              "      <th>C</th>\n",
              "      <th>D</th>\n",
              "    </tr>\n",
              "  </thead>\n",
              "  <tbody>\n",
              "    <tr>\n",
              "      <th>count</th>\n",
              "      <td>10.000000</td>\n",
              "      <td>10.000000</td>\n",
              "      <td>10.000000</td>\n",
              "      <td>10.000000</td>\n",
              "    </tr>\n",
              "    <tr>\n",
              "      <th>mean</th>\n",
              "      <td>-0.147990</td>\n",
              "      <td>-0.117994</td>\n",
              "      <td>-0.031520</td>\n",
              "      <td>0.026851</td>\n",
              "    </tr>\n",
              "    <tr>\n",
              "      <th>std</th>\n",
              "      <td>0.489422</td>\n",
              "      <td>1.123638</td>\n",
              "      <td>1.192185</td>\n",
              "      <td>0.820665</td>\n",
              "    </tr>\n",
              "    <tr>\n",
              "      <th>min</th>\n",
              "      <td>-0.824089</td>\n",
              "      <td>-1.517260</td>\n",
              "      <td>-1.294831</td>\n",
              "      <td>-0.926240</td>\n",
              "    </tr>\n",
              "    <tr>\n",
              "      <th>25%</th>\n",
              "      <td>-0.496396</td>\n",
              "      <td>-1.157971</td>\n",
              "      <td>-1.106118</td>\n",
              "      <td>-0.557307</td>\n",
              "    </tr>\n",
              "    <tr>\n",
              "      <th>50%</th>\n",
              "      <td>-0.163539</td>\n",
              "      <td>-0.244995</td>\n",
              "      <td>-0.454257</td>\n",
              "      <td>-0.233837</td>\n",
              "    </tr>\n",
              "    <tr>\n",
              "      <th>75%</th>\n",
              "      <td>0.279413</td>\n",
              "      <td>0.842212</td>\n",
              "      <td>1.172806</td>\n",
              "      <td>0.455280</td>\n",
              "    </tr>\n",
              "    <tr>\n",
              "      <th>max</th>\n",
              "      <td>0.508782</td>\n",
              "      <td>1.423732</td>\n",
              "      <td>1.566522</td>\n",
              "      <td>1.541932</td>\n",
              "    </tr>\n",
              "  </tbody>\n",
              "</table>\n",
              "</div>"
            ],
            "text/plain": [
              "               A          B          C          D\n",
              "count  10.000000  10.000000  10.000000  10.000000\n",
              "mean   -0.147990  -0.117994  -0.031520   0.026851\n",
              "std     0.489422   1.123638   1.192185   0.820665\n",
              "min    -0.824089  -1.517260  -1.294831  -0.926240\n",
              "25%    -0.496396  -1.157971  -1.106118  -0.557307\n",
              "50%    -0.163539  -0.244995  -0.454257  -0.233837\n",
              "75%     0.279413   0.842212   1.172806   0.455280\n",
              "max     0.508782   1.423732   1.566522   1.541932"
            ]
          },
          "metadata": {
            "tags": []
          },
          "execution_count": 73
        }
      ]
    },
    {
      "cell_type": "markdown",
      "metadata": {
        "id": "QdpaFpOHOumb",
        "colab_type": "text"
      },
      "source": [
        "Calculando a Média de todas as colunas\n"
      ]
    },
    {
      "cell_type": "code",
      "metadata": {
        "id": "aUVuCaHMObMC",
        "colab_type": "code",
        "colab": {
          "base_uri": "https://localhost:8080/",
          "height": 100
        },
        "outputId": "421fc6df-2ac6-4fd1-e065-87083cf19893"
      },
      "source": [
        "df.mean()"
      ],
      "execution_count": 74,
      "outputs": [
        {
          "output_type": "execute_result",
          "data": {
            "text/plain": [
              "A   -0.147990\n",
              "B   -0.117994\n",
              "C   -0.031520\n",
              "D    0.026851\n",
              "dtype: float64"
            ]
          },
          "metadata": {
            "tags": []
          },
          "execution_count": 74
        }
      ]
    },
    {
      "cell_type": "markdown",
      "metadata": {
        "id": "lT-b-YTOPG4U",
        "colab_type": "text"
      },
      "source": [
        "Criando um pivot, Calculando as médias de todas as linhas"
      ]
    },
    {
      "cell_type": "code",
      "metadata": {
        "id": "fJUxSzgiO_rB",
        "colab_type": "code",
        "colab": {
          "base_uri": "https://localhost:8080/",
          "height": 201
        },
        "outputId": "751c4048-a477-4ade-db6c-7a1f243d134b"
      },
      "source": [
        "df.mean(1)"
      ],
      "execution_count": 75,
      "outputs": [
        {
          "output_type": "execute_result",
          "data": {
            "text/plain": [
              "2020-01-01   -0.246843\n",
              "2020-01-02   -0.573367\n",
              "2020-01-03    0.400589\n",
              "2020-01-04   -0.462953\n",
              "2020-01-05    0.111885\n",
              "2020-01-06   -0.150438\n",
              "2020-01-07    0.334559\n",
              "2020-01-08   -0.468631\n",
              "2020-01-09    0.544904\n",
              "2020-01-10   -0.166338\n",
              "Freq: D, dtype: float64"
            ]
          },
          "metadata": {
            "tags": []
          },
          "execution_count": 75
        }
      ]
    },
    {
      "cell_type": "code",
      "metadata": {
        "id": "f_rCBbzZO_iI",
        "colab_type": "code",
        "colab": {
          "base_uri": "https://localhost:8080/",
          "height": 345
        },
        "outputId": "91713f5c-eaac-4dfb-907e-2d390ee19a8c"
      },
      "source": [
        "df.apply(np.cumsum)"
      ],
      "execution_count": 76,
      "outputs": [
        {
          "output_type": "execute_result",
          "data": {
            "text/html": [
              "<div>\n",
              "<style scoped>\n",
              "    .dataframe tbody tr th:only-of-type {\n",
              "        vertical-align: middle;\n",
              "    }\n",
              "\n",
              "    .dataframe tbody tr th {\n",
              "        vertical-align: top;\n",
              "    }\n",
              "\n",
              "    .dataframe thead th {\n",
              "        text-align: right;\n",
              "    }\n",
              "</style>\n",
              "<table border=\"1\" class=\"dataframe\">\n",
              "  <thead>\n",
              "    <tr style=\"text-align: right;\">\n",
              "      <th></th>\n",
              "      <th>A</th>\n",
              "      <th>B</th>\n",
              "      <th>C</th>\n",
              "      <th>D</th>\n",
              "    </tr>\n",
              "  </thead>\n",
              "  <tbody>\n",
              "    <tr>\n",
              "      <th>2020-01-01</th>\n",
              "      <td>-0.514742</td>\n",
              "      <td>1.189368</td>\n",
              "      <td>-1.234922</td>\n",
              "      <td>-0.427078</td>\n",
              "    </tr>\n",
              "    <tr>\n",
              "      <th>2020-01-02</th>\n",
              "      <td>-0.228755</td>\n",
              "      <td>-0.030538</td>\n",
              "      <td>-1.864777</td>\n",
              "      <td>-1.156770</td>\n",
              "    </tr>\n",
              "    <tr>\n",
              "      <th>2020-01-03</th>\n",
              "      <td>0.139702</td>\n",
              "      <td>0.776236</td>\n",
              "      <td>-2.584485</td>\n",
              "      <td>-0.009936</td>\n",
              "    </tr>\n",
              "    <tr>\n",
              "      <th>2020-01-04</th>\n",
              "      <td>0.399394</td>\n",
              "      <td>-0.247845</td>\n",
              "      <td>-3.858066</td>\n",
              "      <td>0.176223</td>\n",
              "    </tr>\n",
              "    <tr>\n",
              "      <th>2020-01-05</th>\n",
              "      <td>0.182489</td>\n",
              "      <td>-1.450447</td>\n",
              "      <td>-2.536008</td>\n",
              "      <td>0.721210</td>\n",
              "    </tr>\n",
              "    <tr>\n",
              "      <th>2020-01-06</th>\n",
              "      <td>0.072317</td>\n",
              "      <td>-2.066359</td>\n",
              "      <td>-1.810959</td>\n",
              "      <td>0.120493</td>\n",
              "    </tr>\n",
              "    <tr>\n",
              "      <th>2020-01-07</th>\n",
              "      <td>-0.751773</td>\n",
              "      <td>-1.212334</td>\n",
              "      <td>-0.244437</td>\n",
              "      <td>-0.137727</td>\n",
              "    </tr>\n",
              "    <tr>\n",
              "      <th>2020-01-08</th>\n",
              "      <td>-1.547321</td>\n",
              "      <td>-1.086412</td>\n",
              "      <td>-0.523096</td>\n",
              "      <td>-1.063967</td>\n",
              "    </tr>\n",
              "    <tr>\n",
              "      <th>2020-01-09</th>\n",
              "      <td>-1.038539</td>\n",
              "      <td>0.337320</td>\n",
              "      <td>-1.817927</td>\n",
              "      <td>0.477965</td>\n",
              "    </tr>\n",
              "    <tr>\n",
              "      <th>2020-01-10</th>\n",
              "      <td>-1.479899</td>\n",
              "      <td>-1.179940</td>\n",
              "      <td>-0.315205</td>\n",
              "      <td>0.268511</td>\n",
              "    </tr>\n",
              "  </tbody>\n",
              "</table>\n",
              "</div>"
            ],
            "text/plain": [
              "                   A         B         C         D\n",
              "2020-01-01 -0.514742  1.189368 -1.234922 -0.427078\n",
              "2020-01-02 -0.228755 -0.030538 -1.864777 -1.156770\n",
              "2020-01-03  0.139702  0.776236 -2.584485 -0.009936\n",
              "2020-01-04  0.399394 -0.247845 -3.858066  0.176223\n",
              "2020-01-05  0.182489 -1.450447 -2.536008  0.721210\n",
              "2020-01-06  0.072317 -2.066359 -1.810959  0.120493\n",
              "2020-01-07 -0.751773 -1.212334 -0.244437 -0.137727\n",
              "2020-01-08 -1.547321 -1.086412 -0.523096 -1.063967\n",
              "2020-01-09 -1.038539  0.337320 -1.817927  0.477965\n",
              "2020-01-10 -1.479899 -1.179940 -0.315205  0.268511"
            ]
          },
          "metadata": {
            "tags": []
          },
          "execution_count": 76
        }
      ]
    },
    {
      "cell_type": "code",
      "metadata": {
        "id": "tREvK1HvPNw1",
        "colab_type": "code",
        "colab": {
          "base_uri": "https://localhost:8080/",
          "height": 107
        },
        "outputId": "39ff8569-bd58-4c12-91c4-dcee9d932689"
      },
      "source": [
        "left= pd.DataFrame({'chave':['chave1', 'chave2'], 'coluna1':[1,2]})\n",
        "right= pd.DataFrame({'chave':['chave1', 'chave2'], 'coluna2':[1,2]})\n",
        "pd.merge(left, right, on='chave')"
      ],
      "execution_count": 78,
      "outputs": [
        {
          "output_type": "execute_result",
          "data": {
            "text/html": [
              "<div>\n",
              "<style scoped>\n",
              "    .dataframe tbody tr th:only-of-type {\n",
              "        vertical-align: middle;\n",
              "    }\n",
              "\n",
              "    .dataframe tbody tr th {\n",
              "        vertical-align: top;\n",
              "    }\n",
              "\n",
              "    .dataframe thead th {\n",
              "        text-align: right;\n",
              "    }\n",
              "</style>\n",
              "<table border=\"1\" class=\"dataframe\">\n",
              "  <thead>\n",
              "    <tr style=\"text-align: right;\">\n",
              "      <th></th>\n",
              "      <th>chave</th>\n",
              "      <th>coluna1</th>\n",
              "      <th>coluna2</th>\n",
              "    </tr>\n",
              "  </thead>\n",
              "  <tbody>\n",
              "    <tr>\n",
              "      <th>0</th>\n",
              "      <td>chave1</td>\n",
              "      <td>1</td>\n",
              "      <td>1</td>\n",
              "    </tr>\n",
              "    <tr>\n",
              "      <th>1</th>\n",
              "      <td>chave2</td>\n",
              "      <td>2</td>\n",
              "      <td>2</td>\n",
              "    </tr>\n",
              "  </tbody>\n",
              "</table>\n",
              "</div>"
            ],
            "text/plain": [
              "    chave  coluna1  coluna2\n",
              "0  chave1        1        1\n",
              "1  chave2        2        2"
            ]
          },
          "metadata": {
            "tags": []
          },
          "execution_count": 78
        }
      ]
    },
    {
      "cell_type": "code",
      "metadata": {
        "id": "i0UaGZE5Pqhi",
        "colab_type": "code",
        "colab": {}
      },
      "source": [
        "df = pd.DataFrame(np.random.randn(8,4), columns=['A', 'B', 'C', 'D'])"
      ],
      "execution_count": 79,
      "outputs": []
    },
    {
      "cell_type": "code",
      "metadata": {
        "id": "S8qgHvbIP7vB",
        "colab_type": "code",
        "colab": {
          "base_uri": "https://localhost:8080/",
          "height": 286
        },
        "outputId": "efd206af-32df-4b6a-8af4-d2d15232dfd7"
      },
      "source": [
        "df"
      ],
      "execution_count": 80,
      "outputs": [
        {
          "output_type": "execute_result",
          "data": {
            "text/html": [
              "<div>\n",
              "<style scoped>\n",
              "    .dataframe tbody tr th:only-of-type {\n",
              "        vertical-align: middle;\n",
              "    }\n",
              "\n",
              "    .dataframe tbody tr th {\n",
              "        vertical-align: top;\n",
              "    }\n",
              "\n",
              "    .dataframe thead th {\n",
              "        text-align: right;\n",
              "    }\n",
              "</style>\n",
              "<table border=\"1\" class=\"dataframe\">\n",
              "  <thead>\n",
              "    <tr style=\"text-align: right;\">\n",
              "      <th></th>\n",
              "      <th>A</th>\n",
              "      <th>B</th>\n",
              "      <th>C</th>\n",
              "      <th>D</th>\n",
              "    </tr>\n",
              "  </thead>\n",
              "  <tbody>\n",
              "    <tr>\n",
              "      <th>0</th>\n",
              "      <td>0.525736</td>\n",
              "      <td>0.615929</td>\n",
              "      <td>-0.102128</td>\n",
              "      <td>1.261331</td>\n",
              "    </tr>\n",
              "    <tr>\n",
              "      <th>1</th>\n",
              "      <td>0.883309</td>\n",
              "      <td>0.062469</td>\n",
              "      <td>-0.140981</td>\n",
              "      <td>-0.292400</td>\n",
              "    </tr>\n",
              "    <tr>\n",
              "      <th>2</th>\n",
              "      <td>-0.371821</td>\n",
              "      <td>1.297864</td>\n",
              "      <td>1.125766</td>\n",
              "      <td>0.375972</td>\n",
              "    </tr>\n",
              "    <tr>\n",
              "      <th>3</th>\n",
              "      <td>1.134849</td>\n",
              "      <td>0.012069</td>\n",
              "      <td>0.683683</td>\n",
              "      <td>0.552850</td>\n",
              "    </tr>\n",
              "    <tr>\n",
              "      <th>4</th>\n",
              "      <td>-0.360807</td>\n",
              "      <td>-1.068122</td>\n",
              "      <td>0.281365</td>\n",
              "      <td>-0.079412</td>\n",
              "    </tr>\n",
              "    <tr>\n",
              "      <th>5</th>\n",
              "      <td>-0.681267</td>\n",
              "      <td>-0.177844</td>\n",
              "      <td>0.724240</td>\n",
              "      <td>-0.582323</td>\n",
              "    </tr>\n",
              "    <tr>\n",
              "      <th>6</th>\n",
              "      <td>-0.114433</td>\n",
              "      <td>0.126960</td>\n",
              "      <td>0.823987</td>\n",
              "      <td>-1.034596</td>\n",
              "    </tr>\n",
              "    <tr>\n",
              "      <th>7</th>\n",
              "      <td>0.874245</td>\n",
              "      <td>0.566269</td>\n",
              "      <td>-0.563545</td>\n",
              "      <td>-0.614047</td>\n",
              "    </tr>\n",
              "  </tbody>\n",
              "</table>\n",
              "</div>"
            ],
            "text/plain": [
              "          A         B         C         D\n",
              "0  0.525736  0.615929 -0.102128  1.261331\n",
              "1  0.883309  0.062469 -0.140981 -0.292400\n",
              "2 -0.371821  1.297864  1.125766  0.375972\n",
              "3  1.134849  0.012069  0.683683  0.552850\n",
              "4 -0.360807 -1.068122  0.281365 -0.079412\n",
              "5 -0.681267 -0.177844  0.724240 -0.582323\n",
              "6 -0.114433  0.126960  0.823987 -1.034596\n",
              "7  0.874245  0.566269 -0.563545 -0.614047"
            ]
          },
          "metadata": {
            "tags": []
          },
          "execution_count": 80
        }
      ]
    },
    {
      "cell_type": "code",
      "metadata": {
        "id": "X_dRl8sKP8xc",
        "colab_type": "code",
        "colab": {}
      },
      "source": [
        "s = df.iloc[3]"
      ],
      "execution_count": 83,
      "outputs": []
    },
    {
      "cell_type": "code",
      "metadata": {
        "id": "cSISy9FZQAc1",
        "colab_type": "code",
        "colab": {
          "base_uri": "https://localhost:8080/",
          "height": 316
        },
        "outputId": "7edd4030-1baa-4e1c-8177-a9421b40047b"
      },
      "source": [
        "df.append(s, ignore_index=True)"
      ],
      "execution_count": 84,
      "outputs": [
        {
          "output_type": "execute_result",
          "data": {
            "text/html": [
              "<div>\n",
              "<style scoped>\n",
              "    .dataframe tbody tr th:only-of-type {\n",
              "        vertical-align: middle;\n",
              "    }\n",
              "\n",
              "    .dataframe tbody tr th {\n",
              "        vertical-align: top;\n",
              "    }\n",
              "\n",
              "    .dataframe thead th {\n",
              "        text-align: right;\n",
              "    }\n",
              "</style>\n",
              "<table border=\"1\" class=\"dataframe\">\n",
              "  <thead>\n",
              "    <tr style=\"text-align: right;\">\n",
              "      <th></th>\n",
              "      <th>A</th>\n",
              "      <th>B</th>\n",
              "      <th>C</th>\n",
              "      <th>D</th>\n",
              "    </tr>\n",
              "  </thead>\n",
              "  <tbody>\n",
              "    <tr>\n",
              "      <th>0</th>\n",
              "      <td>0.525736</td>\n",
              "      <td>0.615929</td>\n",
              "      <td>-0.102128</td>\n",
              "      <td>1.261331</td>\n",
              "    </tr>\n",
              "    <tr>\n",
              "      <th>1</th>\n",
              "      <td>0.883309</td>\n",
              "      <td>0.062469</td>\n",
              "      <td>-0.140981</td>\n",
              "      <td>-0.292400</td>\n",
              "    </tr>\n",
              "    <tr>\n",
              "      <th>2</th>\n",
              "      <td>-0.371821</td>\n",
              "      <td>1.297864</td>\n",
              "      <td>1.125766</td>\n",
              "      <td>0.375972</td>\n",
              "    </tr>\n",
              "    <tr>\n",
              "      <th>3</th>\n",
              "      <td>1.134849</td>\n",
              "      <td>0.012069</td>\n",
              "      <td>0.683683</td>\n",
              "      <td>0.552850</td>\n",
              "    </tr>\n",
              "    <tr>\n",
              "      <th>4</th>\n",
              "      <td>-0.360807</td>\n",
              "      <td>-1.068122</td>\n",
              "      <td>0.281365</td>\n",
              "      <td>-0.079412</td>\n",
              "    </tr>\n",
              "    <tr>\n",
              "      <th>5</th>\n",
              "      <td>-0.681267</td>\n",
              "      <td>-0.177844</td>\n",
              "      <td>0.724240</td>\n",
              "      <td>-0.582323</td>\n",
              "    </tr>\n",
              "    <tr>\n",
              "      <th>6</th>\n",
              "      <td>-0.114433</td>\n",
              "      <td>0.126960</td>\n",
              "      <td>0.823987</td>\n",
              "      <td>-1.034596</td>\n",
              "    </tr>\n",
              "    <tr>\n",
              "      <th>7</th>\n",
              "      <td>0.874245</td>\n",
              "      <td>0.566269</td>\n",
              "      <td>-0.563545</td>\n",
              "      <td>-0.614047</td>\n",
              "    </tr>\n",
              "    <tr>\n",
              "      <th>8</th>\n",
              "      <td>1.134849</td>\n",
              "      <td>0.012069</td>\n",
              "      <td>0.683683</td>\n",
              "      <td>0.552850</td>\n",
              "    </tr>\n",
              "  </tbody>\n",
              "</table>\n",
              "</div>"
            ],
            "text/plain": [
              "          A         B         C         D\n",
              "0  0.525736  0.615929 -0.102128  1.261331\n",
              "1  0.883309  0.062469 -0.140981 -0.292400\n",
              "2 -0.371821  1.297864  1.125766  0.375972\n",
              "3  1.134849  0.012069  0.683683  0.552850\n",
              "4 -0.360807 -1.068122  0.281365 -0.079412\n",
              "5 -0.681267 -0.177844  0.724240 -0.582323\n",
              "6 -0.114433  0.126960  0.823987 -1.034596\n",
              "7  0.874245  0.566269 -0.563545 -0.614047\n",
              "8  1.134849  0.012069  0.683683  0.552850"
            ]
          },
          "metadata": {
            "tags": []
          },
          "execution_count": 84
        }
      ]
    },
    {
      "cell_type": "markdown",
      "metadata": {
        "id": "Q5_4aX5NQVO5",
        "colab_type": "text"
      },
      "source": [
        "# Time Series "
      ]
    },
    {
      "cell_type": "markdown",
      "metadata": {
        "id": "ebk84LiwRN_X",
        "colab_type": "text"
      },
      "source": [
        "Series é um Dataframe com uma coluna de dados  (índice e dados)\n"
      ]
    },
    {
      "cell_type": "markdown",
      "metadata": {
        "id": "z0KIQhUtQzc9",
        "colab_type": "text"
      },
      "source": [
        "Criando um range de datas com frequência em segundos\n"
      ]
    },
    {
      "cell_type": "code",
      "metadata": {
        "id": "PuBeyHA8QL6b",
        "colab_type": "code",
        "colab": {}
      },
      "source": [
        "rng = pd.date_range('1/1/2020', periods = 50, freq = 'S')"
      ],
      "execution_count": 86,
      "outputs": []
    },
    {
      "cell_type": "code",
      "metadata": {
        "id": "KeKYkSqJQj79",
        "colab_type": "code",
        "colab": {}
      },
      "source": [
        "ts = pd.Series(np.random.randint(0,500,len(rng)), index = rng)"
      ],
      "execution_count": 87,
      "outputs": []
    },
    {
      "cell_type": "code",
      "metadata": {
        "id": "kShOZCguQt_O",
        "colab_type": "code",
        "colab": {
          "base_uri": "https://localhost:8080/",
          "height": 870
        },
        "outputId": "57b16ad1-9151-4c94-be90-05e255e56646"
      },
      "source": [
        "ts"
      ],
      "execution_count": 88,
      "outputs": [
        {
          "output_type": "execute_result",
          "data": {
            "text/plain": [
              "2020-01-01 00:00:00    304\n",
              "2020-01-01 00:00:01    190\n",
              "2020-01-01 00:00:02    382\n",
              "2020-01-01 00:00:03    181\n",
              "2020-01-01 00:00:04     13\n",
              "2020-01-01 00:00:05    112\n",
              "2020-01-01 00:00:06    473\n",
              "2020-01-01 00:00:07    261\n",
              "2020-01-01 00:00:08    243\n",
              "2020-01-01 00:00:09    462\n",
              "2020-01-01 00:00:10    114\n",
              "2020-01-01 00:00:11    490\n",
              "2020-01-01 00:00:12     26\n",
              "2020-01-01 00:00:13    448\n",
              "2020-01-01 00:00:14    138\n",
              "2020-01-01 00:00:15    399\n",
              "2020-01-01 00:00:16    243\n",
              "2020-01-01 00:00:17     60\n",
              "2020-01-01 00:00:18    176\n",
              "2020-01-01 00:00:19    341\n",
              "2020-01-01 00:00:20    221\n",
              "2020-01-01 00:00:21    344\n",
              "2020-01-01 00:00:22    225\n",
              "2020-01-01 00:00:23    448\n",
              "2020-01-01 00:00:24    240\n",
              "2020-01-01 00:00:25    420\n",
              "2020-01-01 00:00:26    407\n",
              "2020-01-01 00:00:27    233\n",
              "2020-01-01 00:00:28    288\n",
              "2020-01-01 00:00:29    147\n",
              "2020-01-01 00:00:30    261\n",
              "2020-01-01 00:00:31    219\n",
              "2020-01-01 00:00:32     31\n",
              "2020-01-01 00:00:33    390\n",
              "2020-01-01 00:00:34    180\n",
              "2020-01-01 00:00:35    474\n",
              "2020-01-01 00:00:36    423\n",
              "2020-01-01 00:00:37    461\n",
              "2020-01-01 00:00:38    495\n",
              "2020-01-01 00:00:39    261\n",
              "2020-01-01 00:00:40    222\n",
              "2020-01-01 00:00:41     42\n",
              "2020-01-01 00:00:42    202\n",
              "2020-01-01 00:00:43    353\n",
              "2020-01-01 00:00:44    402\n",
              "2020-01-01 00:00:45    365\n",
              "2020-01-01 00:00:46    191\n",
              "2020-01-01 00:00:47    275\n",
              "2020-01-01 00:00:48    359\n",
              "2020-01-01 00:00:49      8\n",
              "Freq: S, dtype: int64"
            ]
          },
          "metadata": {
            "tags": []
          },
          "execution_count": 88
        }
      ]
    },
    {
      "cell_type": "code",
      "metadata": {
        "id": "aNXxVyruQug4",
        "colab_type": "code",
        "colab": {}
      },
      "source": [
        "rng = pd.date_range('1/1/2020', periods = 5, freq = 'M')\n",
        "ts = pd.Series(np.random.randint(len(rng)), index = rng)"
      ],
      "execution_count": 89,
      "outputs": []
    },
    {
      "cell_type": "code",
      "metadata": {
        "id": "yjDgZm4xRBoB",
        "colab_type": "code",
        "colab": {
          "base_uri": "https://localhost:8080/",
          "height": 117
        },
        "outputId": "b7785705-6e70-4a86-ec95-0bb9b28b8345"
      },
      "source": [
        "ts"
      ],
      "execution_count": 90,
      "outputs": [
        {
          "output_type": "execute_result",
          "data": {
            "text/plain": [
              "2020-01-31    0\n",
              "2020-02-29    0\n",
              "2020-03-31    0\n",
              "2020-04-30    0\n",
              "2020-05-31    0\n",
              "Freq: M, dtype: int64"
            ]
          },
          "metadata": {
            "tags": []
          },
          "execution_count": 90
        }
      ]
    },
    {
      "cell_type": "markdown",
      "metadata": {
        "id": "K8V2yCXzSH1e",
        "colab_type": "text"
      },
      "source": [
        "# Plotting"
      ]
    },
    {
      "cell_type": "code",
      "metadata": {
        "id": "KATBXhSiRCeP",
        "colab_type": "code",
        "colab": {}
      },
      "source": [
        "import matplotlib.pyplot as ptt\n",
        "from matplotlib import style "
      ],
      "execution_count": 91,
      "outputs": []
    },
    {
      "cell_type": "code",
      "metadata": {
        "id": "DWURDhvTRtoa",
        "colab_type": "code",
        "colab": {
          "base_uri": "https://localhost:8080/",
          "height": 294
        },
        "outputId": "98969165-b6db-4ede-914b-2b1af596dc53"
      },
      "source": [
        "ts = pd.Series(np.random.randn(500), index = pd.date_range('1/1/2020', periods = 500))\n",
        "ts = ts.cumsum()\n",
        "ts.plot()"
      ],
      "execution_count": 92,
      "outputs": [
        {
          "output_type": "execute_result",
          "data": {
            "text/plain": [
              "<matplotlib.axes._subplots.AxesSubplot at 0x7f885a64aa58>"
            ]
          },
          "metadata": {
            "tags": []
          },
          "execution_count": 92
        },
        {
          "output_type": "display_data",
          "data": {
            "image/png": "[encoded data removed]",
            "text/plain": [
              "<Figure size 432x288 with 1 Axes>"
            ]
          },
          "metadata": {
            "tags": [],
            "needs_background": "light"
          }
        }
      ]
    },
    {
      "cell_type": "code",
      "metadata": {
        "id": "Z7pPbLa_SGhs",
        "colab_type": "code",
        "colab": {
          "base_uri": "https://localhost:8080/",
          "height": 294
        },
        "outputId": "01924db0-ec76-4825-e956-754afeae39f3"
      },
      "source": [
        "df = pd.DataFrame (np.random.randn(500, 4), index = ts.index, columns=['A','B','C','D'])\n",
        "df = df.cumsum()\n",
        "df.plot()"
      ],
      "execution_count": 102,
      "outputs": [
        {
          "output_type": "execute_result",
          "data": {
            "text/plain": [
              "<matplotlib.axes._subplots.AxesSubplot at 0x7f885a023278>"
            ]
          },
          "metadata": {
            "tags": []
          },
          "execution_count": 102
        },
        {
          "output_type": "display_data",
          "data": {
            "image/png": "[encoded data removed]",
            "text/plain": [
              "<Figure size 432x288 with 1 Axes>"
            ]
          },
          "metadata": {
            "tags": [],
            "needs_background": "light"
          }
        }
      ]
    },
    {
      "cell_type": "code",
      "metadata": {
        "id": "kTgkbtT_Sbnj",
        "colab_type": "code",
        "colab": {}
      },
      "source": [
        ""
      ],
      "execution_count": null,
      "outputs": []
    }
  ]
}