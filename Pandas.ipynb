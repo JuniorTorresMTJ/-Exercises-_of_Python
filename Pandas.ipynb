{
  "nbformat": 4,
  "nbformat_minor": 0,
  "metadata": {
    "colab": {
      "name": "Pandas.ipynb",
      "provenance": [],
      "authorship_tag": "ABX9TyMvszo0DnwMC1aQ5ih4gjmP",
      "include_colab_link": true
    },
    "kernelspec": {
      "name": "python3",
      "display_name": "Python 3"
    }
  },
  "cells": [
    {
      "cell_type": "markdown",
      "metadata": {
        "id": "view-in-github",
        "colab_type": "text"
      },
      "source": [
        "<a href=\"https://colab.research.google.com/github/JuniorTorresMTJ/-Exercises-_of_Python/blob/master/Pandas.ipynb\" target=\"_parent\"><img src=\"https://colab.research.google.com/assets/colab-badge.svg\" alt=\"Open In Colab\"/></a>"
      ]
    },
    {
      "cell_type": "markdown",
      "metadata": {
        "id": "NdGYAjIYQS3A",
        "colab_type": "text"
      },
      "source": [
        "# Criação e Manipulação de Series\n",
        "\n"
      ]
    },
    {
      "cell_type": "code",
      "metadata": {
        "id": "vncMeiSGDAFM",
        "colab_type": "code",
        "colab": {}
      },
      "source": [
        "import pandas as pd\n",
        "from pandas import Series"
      ],
      "execution_count": 3,
      "outputs": []
    },
    {
      "cell_type": "markdown",
      "metadata": {
        "id": "QWuc--VYPhRP",
        "colab_type": "text"
      },
      "source": [
        "Verificando a Versão do Pandas"
      ]
    },
    {
      "cell_type": "code",
      "metadata": {
        "id": "ImPdiiJnJ5UT",
        "colab_type": "code",
        "colab": {
          "base_uri": "https://localhost:8080/",
          "height": 35
        },
        "outputId": "009beb4f-8f13-4206-f466-7985dac0f058"
      },
      "source": [
        "pd.__version__"
      ],
      "execution_count": 4,
      "outputs": [
        {
          "output_type": "execute_result",
          "data": {
            "application/vnd.google.colaboratory.intrinsic": {
              "type": "string"
            },
            "text/plain": [
              "'1.0.5'"
            ]
          },
          "metadata": {
            "tags": []
          },
          "execution_count": 4
        }
      ]
    },
    {
      "cell_type": "markdown",
      "metadata": {
        "id": "ene4iZjlPkAO",
        "colab_type": "text"
      },
      "source": [
        "Criando uma Series com Index automatico\n",
        "\n"
      ]
    },
    {
      "cell_type": "code",
      "metadata": {
        "id": "kHvrSN1fJ7Wa",
        "colab_type": "code",
        "colab": {}
      },
      "source": [
        "obj = pd.Series([67,78,-56, 13])"
      ],
      "execution_count": 5,
      "outputs": []
    },
    {
      "cell_type": "code",
      "metadata": {
        "id": "NT2Lm7tQKFUP",
        "colab_type": "code",
        "colab": {
          "base_uri": "https://localhost:8080/",
          "height": 100
        },
        "outputId": "77d5189a-a28b-432f-cbd3-5d74a7b9f2c1"
      },
      "source": [
        "obj"
      ],
      "execution_count": 6,
      "outputs": [
        {
          "output_type": "execute_result",
          "data": {
            "text/plain": [
              "0    67\n",
              "1    78\n",
              "2   -56\n",
              "3    13\n",
              "dtype: int64"
            ]
          },
          "metadata": {
            "tags": []
          },
          "execution_count": 6
        }
      ]
    },
    {
      "cell_type": "markdown",
      "metadata": {
        "id": "aan6lL2pPmT_",
        "colab_type": "text"
      },
      "source": [
        "Verificando o tipo da Serie"
      ]
    },
    {
      "cell_type": "code",
      "metadata": {
        "id": "Z7Js9MWCLVuE",
        "colab_type": "code",
        "colab": {
          "base_uri": "https://localhost:8080/",
          "height": 33
        },
        "outputId": "d7d2d53a-4a17-458d-ecec-c6ee60ab832c"
      },
      "source": [
        "type(obj)"
      ],
      "execution_count": 7,
      "outputs": [
        {
          "output_type": "execute_result",
          "data": {
            "text/plain": [
              "pandas.core.series.Series"
            ]
          },
          "metadata": {
            "tags": []
          },
          "execution_count": 7
        }
      ]
    },
    {
      "cell_type": "markdown",
      "metadata": {
        "id": "T4u8dPdHPpm2",
        "colab_type": "text"
      },
      "source": [
        "Verificando os Valores da Serie"
      ]
    },
    {
      "cell_type": "code",
      "metadata": {
        "id": "fOTiyQhbOiVx",
        "colab_type": "code",
        "colab": {
          "base_uri": "https://localhost:8080/",
          "height": 33
        },
        "outputId": "7f1a6f29-541d-4f09-aae4-ba7804b55972"
      },
      "source": [
        "obj.values"
      ],
      "execution_count": 8,
      "outputs": [
        {
          "output_type": "execute_result",
          "data": {
            "text/plain": [
              "array([ 67,  78, -56,  13])"
            ]
          },
          "metadata": {
            "tags": []
          },
          "execution_count": 8
        }
      ]
    },
    {
      "cell_type": "markdown",
      "metadata": {
        "id": "KsGV_aTbPsmw",
        "colab_type": "text"
      },
      "source": [
        "Imprimindo os Index "
      ]
    },
    {
      "cell_type": "code",
      "metadata": {
        "id": "ggQEgYIGOmTA",
        "colab_type": "code",
        "colab": {
          "base_uri": "https://localhost:8080/",
          "height": 33
        },
        "outputId": "8cd8c02e-6880-4c1d-bc50-eb0093fb2361"
      },
      "source": [
        "obj.index"
      ],
      "execution_count": 9,
      "outputs": [
        {
          "output_type": "execute_result",
          "data": {
            "text/plain": [
              "RangeIndex(start=0, stop=4, step=1)"
            ]
          },
          "metadata": {
            "tags": []
          },
          "execution_count": 9
        }
      ]
    },
    {
      "cell_type": "markdown",
      "metadata": {
        "id": "cJceYqP-PvX_",
        "colab_type": "text"
      },
      "source": [
        "Especificando os valores e os Index\n"
      ]
    },
    {
      "cell_type": "code",
      "metadata": {
        "id": "6qPEL5Z4Ov5b",
        "colab_type": "code",
        "colab": {}
      },
      "source": [
        "obj2= Series([67,78,-56,13], index = ['a','b','c','d'])"
      ],
      "execution_count": 10,
      "outputs": []
    },
    {
      "cell_type": "code",
      "metadata": {
        "id": "CMCe2HlnPBro",
        "colab_type": "code",
        "colab": {
          "base_uri": "https://localhost:8080/",
          "height": 100
        },
        "outputId": "39511149-8a64-4643-aa09-64156a04d792"
      },
      "source": [
        "obj2"
      ],
      "execution_count": 11,
      "outputs": [
        {
          "output_type": "execute_result",
          "data": {
            "text/plain": [
              "a    67\n",
              "b    78\n",
              "c   -56\n",
              "d    13\n",
              "dtype: int64"
            ]
          },
          "metadata": {
            "tags": []
          },
          "execution_count": 11
        }
      ]
    },
    {
      "cell_type": "markdown",
      "metadata": {
        "id": "7mlEuyjaP-rA",
        "colab_type": "text"
      },
      "source": [
        "Mostrando os Valores\n"
      ]
    },
    {
      "cell_type": "code",
      "metadata": {
        "id": "GiBGqFfnPCbL",
        "colab_type": "code",
        "colab": {
          "base_uri": "https://localhost:8080/",
          "height": 33
        },
        "outputId": "16f69902-4c67-4550-e172-ca5484ebe76a"
      },
      "source": [
        "obj.values"
      ],
      "execution_count": 12,
      "outputs": [
        {
          "output_type": "execute_result",
          "data": {
            "text/plain": [
              "array([ 67,  78, -56,  13])"
            ]
          },
          "metadata": {
            "tags": []
          },
          "execution_count": 12
        }
      ]
    },
    {
      "cell_type": "markdown",
      "metadata": {
        "id": "CfRa70RDQB4v",
        "colab_type": "text"
      },
      "source": [
        "Fazendo um Filtro e mostrando todos os valores maiores que 3"
      ]
    },
    {
      "cell_type": "code",
      "metadata": {
        "id": "bxl08tYLPKur",
        "colab_type": "code",
        "colab": {
          "base_uri": "https://localhost:8080/",
          "height": 84
        },
        "outputId": "5fedd61b-2db8-4f13-dad2-c779e3efa0a3"
      },
      "source": [
        "obj2[obj2>3]"
      ],
      "execution_count": 13,
      "outputs": [
        {
          "output_type": "execute_result",
          "data": {
            "text/plain": [
              "a    67\n",
              "b    78\n",
              "d    13\n",
              "dtype: int64"
            ]
          },
          "metadata": {
            "tags": []
          },
          "execution_count": 13
        }
      ]
    },
    {
      "cell_type": "markdown",
      "metadata": {
        "id": "D6yMNqd9QHmQ",
        "colab_type": "text"
      },
      "source": [
        "Mostrar o Valor no indice B"
      ]
    },
    {
      "cell_type": "code",
      "metadata": {
        "id": "tDTU9AzAPMKg",
        "colab_type": "code",
        "colab": {
          "base_uri": "https://localhost:8080/",
          "height": 33
        },
        "outputId": "3a778351-1b27-44fc-9ee0-c30cb7221994"
      },
      "source": [
        "obj2['b']"
      ],
      "execution_count": 14,
      "outputs": [
        {
          "output_type": "execute_result",
          "data": {
            "text/plain": [
              "78"
            ]
          },
          "metadata": {
            "tags": []
          },
          "execution_count": 14
        }
      ]
    },
    {
      "cell_type": "markdown",
      "metadata": {
        "id": "EiCJTskbQLM4",
        "colab_type": "text"
      },
      "source": [
        "outra forma de fazer uma consulta\n"
      ]
    },
    {
      "cell_type": "code",
      "metadata": {
        "id": "boCRiaX0PXMU",
        "colab_type": "code",
        "colab": {
          "base_uri": "https://localhost:8080/",
          "height": 33
        },
        "outputId": "1d0c6eb3-3331-4312-d7af-a6a9c0cf757e"
      },
      "source": [
        "'d' in obj2"
      ],
      "execution_count": 15,
      "outputs": [
        {
          "output_type": "execute_result",
          "data": {
            "text/plain": [
              "True"
            ]
          },
          "metadata": {
            "tags": []
          },
          "execution_count": 15
        }
      ]
    },
    {
      "cell_type": "markdown",
      "metadata": {
        "id": "e1lVH0ZfSXhH",
        "colab_type": "text"
      },
      "source": [
        "Criando um Dicionário\n"
      ]
    },
    {
      "cell_type": "code",
      "metadata": {
        "id": "moKqM-0MPcf0",
        "colab_type": "code",
        "colab": {}
      },
      "source": [
        "dict = {'Futebol':5200, 'Tenis': 120, 'Natação': 698, 'Voleibol': 1550}"
      ],
      "execution_count": 16,
      "outputs": []
    },
    {
      "cell_type": "code",
      "metadata": {
        "id": "UmrG-DyDQykE",
        "colab_type": "code",
        "colab": {}
      },
      "source": [
        "obj3 = Series(dict)"
      ],
      "execution_count": 17,
      "outputs": []
    },
    {
      "cell_type": "code",
      "metadata": {
        "id": "anfu5vtEQ2Jy",
        "colab_type": "code",
        "colab": {
          "base_uri": "https://localhost:8080/",
          "height": 100
        },
        "outputId": "82499d05-83e4-4baf-f7b2-24d2db12195f"
      },
      "source": [
        "obj3"
      ],
      "execution_count": 18,
      "outputs": [
        {
          "output_type": "execute_result",
          "data": {
            "text/plain": [
              "Futebol     5200\n",
              "Tenis        120\n",
              "Natação      698\n",
              "Voleibol    1550\n",
              "dtype: int64"
            ]
          },
          "metadata": {
            "tags": []
          },
          "execution_count": 18
        }
      ]
    },
    {
      "cell_type": "markdown",
      "metadata": {
        "id": "g2ubE6nsSdb3",
        "colab_type": "text"
      },
      "source": [
        "Verificando o tipo\n"
      ]
    },
    {
      "cell_type": "code",
      "metadata": {
        "id": "vJDICHRsQ3n2",
        "colab_type": "code",
        "colab": {
          "base_uri": "https://localhost:8080/",
          "height": 33
        },
        "outputId": "3d38e4c6-0e6d-4bb0-fd54-e06885b14023"
      },
      "source": [
        "type(obj3)"
      ],
      "execution_count": 19,
      "outputs": [
        {
          "output_type": "execute_result",
          "data": {
            "text/plain": [
              "pandas.core.series.Series"
            ]
          },
          "metadata": {
            "tags": []
          },
          "execution_count": 19
        }
      ]
    },
    {
      "cell_type": "code",
      "metadata": {
        "id": "cciVb9qCQ8nO",
        "colab_type": "code",
        "colab": {}
      },
      "source": [
        "esportes = ['Futebol','Tenis','Natação','Handbol']"
      ],
      "execution_count": 20,
      "outputs": []
    },
    {
      "cell_type": "markdown",
      "metadata": {
        "id": "LZ9K8nipSifm",
        "colab_type": "text"
      },
      "source": [
        "Criando uma série com o indice \"esportes\""
      ]
    },
    {
      "cell_type": "code",
      "metadata": {
        "id": "PUL4tLVPRMQ8",
        "colab_type": "code",
        "colab": {}
      },
      "source": [
        "obj4 = Series(dict, index = esportes)"
      ],
      "execution_count": 21,
      "outputs": []
    },
    {
      "cell_type": "code",
      "metadata": {
        "id": "uHUSlR7XRRfi",
        "colab_type": "code",
        "colab": {
          "base_uri": "https://localhost:8080/",
          "height": 100
        },
        "outputId": "3dfa9320-3d10-444a-d809-b05519e1049c"
      },
      "source": [
        "obj4"
      ],
      "execution_count": 22,
      "outputs": [
        {
          "output_type": "execute_result",
          "data": {
            "text/plain": [
              "Futebol    5200.0\n",
              "Tenis       120.0\n",
              "Natação     698.0\n",
              "Handbol       NaN\n",
              "dtype: float64"
            ]
          },
          "metadata": {
            "tags": []
          },
          "execution_count": 22
        }
      ]
    },
    {
      "cell_type": "markdown",
      "metadata": {
        "id": "mAGtv92uSprw",
        "colab_type": "text"
      },
      "source": [
        "Verificados os valores Null"
      ]
    },
    {
      "cell_type": "code",
      "metadata": {
        "id": "BsZ9SLhQRSU6",
        "colab_type": "code",
        "colab": {
          "base_uri": "https://localhost:8080/",
          "height": 100
        },
        "outputId": "5b9f7e55-56d6-415d-f16c-8c93eda72aba"
      },
      "source": [
        "pd.isnull(obj4)"
      ],
      "execution_count": 23,
      "outputs": [
        {
          "output_type": "execute_result",
          "data": {
            "text/plain": [
              "Futebol    False\n",
              "Tenis      False\n",
              "Natação    False\n",
              "Handbol     True\n",
              "dtype: bool"
            ]
          },
          "metadata": {
            "tags": []
          },
          "execution_count": 23
        }
      ]
    },
    {
      "cell_type": "markdown",
      "metadata": {
        "id": "IyZispMGSs24",
        "colab_type": "text"
      },
      "source": [
        "Verificando os não nulos"
      ]
    },
    {
      "cell_type": "code",
      "metadata": {
        "id": "v69x7fdMRp3M",
        "colab_type": "code",
        "colab": {
          "base_uri": "https://localhost:8080/",
          "height": 100
        },
        "outputId": "3cbda657-c141-42c8-b58c-d2458e6ede84"
      },
      "source": [
        "pd.notnull(obj4)"
      ],
      "execution_count": 24,
      "outputs": [
        {
          "output_type": "execute_result",
          "data": {
            "text/plain": [
              "Futebol     True\n",
              "Tenis       True\n",
              "Natação     True\n",
              "Handbol    False\n",
              "dtype: bool"
            ]
          },
          "metadata": {
            "tags": []
          },
          "execution_count": 24
        }
      ]
    },
    {
      "cell_type": "markdown",
      "metadata": {
        "id": "Jp0qYURuSvwX",
        "colab_type": "text"
      },
      "source": [
        "Outra maneira de verificar"
      ]
    },
    {
      "cell_type": "code",
      "metadata": {
        "id": "qctNgQnBRzmy",
        "colab_type": "code",
        "colab": {
          "base_uri": "https://localhost:8080/",
          "height": 100
        },
        "outputId": "aec53d19-8e39-4c29-e0f9-0a33579df191"
      },
      "source": [
        "obj4.isnull()"
      ],
      "execution_count": 25,
      "outputs": [
        {
          "output_type": "execute_result",
          "data": {
            "text/plain": [
              "Futebol    False\n",
              "Tenis      False\n",
              "Natação    False\n",
              "Handbol     True\n",
              "dtype: bool"
            ]
          },
          "metadata": {
            "tags": []
          },
          "execution_count": 25
        }
      ]
    },
    {
      "cell_type": "markdown",
      "metadata": {
        "id": "AQ2ERdBdSz1H",
        "colab_type": "text"
      },
      "source": [
        "Concatenando Series"
      ]
    },
    {
      "cell_type": "code",
      "metadata": {
        "id": "DnT4kZtNR3LA",
        "colab_type": "code",
        "colab": {
          "base_uri": "https://localhost:8080/",
          "height": 117
        },
        "outputId": "86b419f9-4e91-4d26-dd9e-8591cdbb49db"
      },
      "source": [
        "obj3 + obj4"
      ],
      "execution_count": 26,
      "outputs": [
        {
          "output_type": "execute_result",
          "data": {
            "text/plain": [
              "Futebol     10400.0\n",
              "Handbol         NaN\n",
              "Natação      1396.0\n",
              "Tenis         240.0\n",
              "Voleibol        NaN\n",
              "dtype: float64"
            ]
          },
          "metadata": {
            "tags": []
          },
          "execution_count": 26
        }
      ]
    },
    {
      "cell_type": "markdown",
      "metadata": {
        "id": "yq3bxxX3S22n",
        "colab_type": "text"
      },
      "source": [
        "Mudando o título"
      ]
    },
    {
      "cell_type": "code",
      "metadata": {
        "id": "oA24wej3R7e8",
        "colab_type": "code",
        "colab": {}
      },
      "source": [
        "obj4.name = 'população'"
      ],
      "execution_count": 27,
      "outputs": []
    },
    {
      "cell_type": "markdown",
      "metadata": {
        "id": "9Gy3t60iS8vG",
        "colab_type": "text"
      },
      "source": [
        "mudando o título do indice"
      ]
    },
    {
      "cell_type": "code",
      "metadata": {
        "id": "mCRnh13rSCjf",
        "colab_type": "code",
        "colab": {}
      },
      "source": [
        "obj4.index.name = 'esporte'"
      ],
      "execution_count": 28,
      "outputs": []
    },
    {
      "cell_type": "code",
      "metadata": {
        "id": "PWJDcxXZSN2l",
        "colab_type": "code",
        "colab": {
          "base_uri": "https://localhost:8080/",
          "height": 117
        },
        "outputId": "e6866ae2-e592-455d-c088-ebde36be40ad"
      },
      "source": [
        "obj4"
      ],
      "execution_count": 29,
      "outputs": [
        {
          "output_type": "execute_result",
          "data": {
            "text/plain": [
              "esporte\n",
              "Futebol    5200.0\n",
              "Tenis       120.0\n",
              "Natação     698.0\n",
              "Handbol       NaN\n",
              "Name: população, dtype: float64"
            ]
          },
          "metadata": {
            "tags": []
          },
          "execution_count": 29
        }
      ]
    },
    {
      "cell_type": "markdown",
      "metadata": {
        "id": "bG82l-7rSVZY",
        "colab_type": "text"
      },
      "source": [
        "# Criando e Manipulando um DataFrame"
      ]
    },
    {
      "cell_type": "code",
      "metadata": {
        "id": "f4-Rq215TCY2",
        "colab_type": "code",
        "colab": {}
      },
      "source": [
        "from pandas import DataFrame"
      ],
      "execution_count": 30,
      "outputs": []
    },
    {
      "cell_type": "markdown",
      "metadata": {
        "id": "t5ifZqceU7_Q",
        "colab_type": "text"
      },
      "source": [
        "Criando um DataFrame"
      ]
    },
    {
      "cell_type": "code",
      "metadata": {
        "id": "5WwCGnzDTHqi",
        "colab_type": "code",
        "colab": {}
      },
      "source": [
        "data = {'Estado': ['Santa Catarina', 'Paraná', 'Goiás', 'Bahia', 'Minas Gerais'], \n",
        "        'Ano': [2002, 2003, 2004, 2005, 2006], \n",
        "        'População': [1.5, 1.7, 3.6, 2.4, 2.9]}"
      ],
      "execution_count": 31,
      "outputs": []
    },
    {
      "cell_type": "code",
      "metadata": {
        "id": "sbTZpOOjTkpa",
        "colab_type": "code",
        "colab": {}
      },
      "source": [
        "frame = DataFrame(data)"
      ],
      "execution_count": 32,
      "outputs": []
    },
    {
      "cell_type": "markdown",
      "metadata": {
        "id": "zWSxJhvPU-vn",
        "colab_type": "text"
      },
      "source": [
        "Mudando os títulos das Colunas"
      ]
    },
    {
      "cell_type": "code",
      "metadata": {
        "id": "ZbTq0JJUToSe",
        "colab_type": "code",
        "colab": {
          "base_uri": "https://localhost:8080/",
          "height": 196
        },
        "outputId": "4e64bdd8-1579-470c-85be-ea1be5fc5c40"
      },
      "source": [
        "DataFrame(data, columns=['Ano', 'Estado','População'])"
      ],
      "execution_count": 33,
      "outputs": [
        {
          "output_type": "execute_result",
          "data": {
            "text/html": [
              "<div>\n",
              "<style scoped>\n",
              "    .dataframe tbody tr th:only-of-type {\n",
              "        vertical-align: middle;\n",
              "    }\n",
              "\n",
              "    .dataframe tbody tr th {\n",
              "        vertical-align: top;\n",
              "    }\n",
              "\n",
              "    .dataframe thead th {\n",
              "        text-align: right;\n",
              "    }\n",
              "</style>\n",
              "<table border=\"1\" class=\"dataframe\">\n",
              "  <thead>\n",
              "    <tr style=\"text-align: right;\">\n",
              "      <th></th>\n",
              "      <th>Ano</th>\n",
              "      <th>Estado</th>\n",
              "      <th>População</th>\n",
              "    </tr>\n",
              "  </thead>\n",
              "  <tbody>\n",
              "    <tr>\n",
              "      <th>0</th>\n",
              "      <td>2002</td>\n",
              "      <td>Santa Catarina</td>\n",
              "      <td>1.5</td>\n",
              "    </tr>\n",
              "    <tr>\n",
              "      <th>1</th>\n",
              "      <td>2003</td>\n",
              "      <td>Paraná</td>\n",
              "      <td>1.7</td>\n",
              "    </tr>\n",
              "    <tr>\n",
              "      <th>2</th>\n",
              "      <td>2004</td>\n",
              "      <td>Goiás</td>\n",
              "      <td>3.6</td>\n",
              "    </tr>\n",
              "    <tr>\n",
              "      <th>3</th>\n",
              "      <td>2005</td>\n",
              "      <td>Bahia</td>\n",
              "      <td>2.4</td>\n",
              "    </tr>\n",
              "    <tr>\n",
              "      <th>4</th>\n",
              "      <td>2006</td>\n",
              "      <td>Minas Gerais</td>\n",
              "      <td>2.9</td>\n",
              "    </tr>\n",
              "  </tbody>\n",
              "</table>\n",
              "</div>"
            ],
            "text/plain": [
              "    Ano          Estado  População\n",
              "0  2002  Santa Catarina        1.5\n",
              "1  2003          Paraná        1.7\n",
              "2  2004           Goiás        3.6\n",
              "3  2005           Bahia        2.4\n",
              "4  2006    Minas Gerais        2.9"
            ]
          },
          "metadata": {
            "tags": []
          },
          "execution_count": 33
        }
      ]
    },
    {
      "cell_type": "markdown",
      "metadata": {
        "id": "wJkpjNy6VD0x",
        "colab_type": "text"
      },
      "source": [
        "Criando outro DataFrame\n"
      ]
    },
    {
      "cell_type": "code",
      "metadata": {
        "id": "GSBjZlmhT2OC",
        "colab_type": "code",
        "colab": {}
      },
      "source": [
        "frame2 = DataFrame(data, columns = ['Ano', 'Estado', 'População', 'Débito'], \n",
        "                   index = ['um', 'dois', 'três', 'quatro', 'cinco'])"
      ],
      "execution_count": 34,
      "outputs": []
    },
    {
      "cell_type": "markdown",
      "metadata": {
        "id": "2TLvjq1QVGfC",
        "colab_type": "text"
      },
      "source": [
        "Imprimindo o DataFrame"
      ]
    },
    {
      "cell_type": "code",
      "metadata": {
        "id": "g2kYgbSbT8qr",
        "colab_type": "code",
        "colab": {
          "base_uri": "https://localhost:8080/",
          "height": 196
        },
        "outputId": "aa77a274-1c88-47d7-f9c0-401e4767e079"
      },
      "source": [
        "frame2"
      ],
      "execution_count": 35,
      "outputs": [
        {
          "output_type": "execute_result",
          "data": {
            "text/html": [
              "<div>\n",
              "<style scoped>\n",
              "    .dataframe tbody tr th:only-of-type {\n",
              "        vertical-align: middle;\n",
              "    }\n",
              "\n",
              "    .dataframe tbody tr th {\n",
              "        vertical-align: top;\n",
              "    }\n",
              "\n",
              "    .dataframe thead th {\n",
              "        text-align: right;\n",
              "    }\n",
              "</style>\n",
              "<table border=\"1\" class=\"dataframe\">\n",
              "  <thead>\n",
              "    <tr style=\"text-align: right;\">\n",
              "      <th></th>\n",
              "      <th>Ano</th>\n",
              "      <th>Estado</th>\n",
              "      <th>População</th>\n",
              "      <th>Débito</th>\n",
              "    </tr>\n",
              "  </thead>\n",
              "  <tbody>\n",
              "    <tr>\n",
              "      <th>um</th>\n",
              "      <td>2002</td>\n",
              "      <td>Santa Catarina</td>\n",
              "      <td>1.5</td>\n",
              "      <td>NaN</td>\n",
              "    </tr>\n",
              "    <tr>\n",
              "      <th>dois</th>\n",
              "      <td>2003</td>\n",
              "      <td>Paraná</td>\n",
              "      <td>1.7</td>\n",
              "      <td>NaN</td>\n",
              "    </tr>\n",
              "    <tr>\n",
              "      <th>três</th>\n",
              "      <td>2004</td>\n",
              "      <td>Goiás</td>\n",
              "      <td>3.6</td>\n",
              "      <td>NaN</td>\n",
              "    </tr>\n",
              "    <tr>\n",
              "      <th>quatro</th>\n",
              "      <td>2005</td>\n",
              "      <td>Bahia</td>\n",
              "      <td>2.4</td>\n",
              "      <td>NaN</td>\n",
              "    </tr>\n",
              "    <tr>\n",
              "      <th>cinco</th>\n",
              "      <td>2006</td>\n",
              "      <td>Minas Gerais</td>\n",
              "      <td>2.9</td>\n",
              "      <td>NaN</td>\n",
              "    </tr>\n",
              "  </tbody>\n",
              "</table>\n",
              "</div>"
            ],
            "text/plain": [
              "         Ano          Estado  População Débito\n",
              "um      2002  Santa Catarina        1.5    NaN\n",
              "dois    2003          Paraná        1.7    NaN\n",
              "três    2004           Goiás        3.6    NaN\n",
              "quatro  2005           Bahia        2.4    NaN\n",
              "cinco   2006    Minas Gerais        2.9    NaN"
            ]
          },
          "metadata": {
            "tags": []
          },
          "execution_count": 35
        }
      ]
    },
    {
      "cell_type": "markdown",
      "metadata": {
        "id": "ssQ9-IQFVKTS",
        "colab_type": "text"
      },
      "source": [
        "Pegando os dados da coluna Estado"
      ]
    },
    {
      "cell_type": "code",
      "metadata": {
        "id": "yGXpEaCkUB6i",
        "colab_type": "code",
        "colab": {
          "base_uri": "https://localhost:8080/",
          "height": 117
        },
        "outputId": "d870e981-fb60-452b-ccc2-5c3093a32f48"
      },
      "source": [
        "frame2['Estado']"
      ],
      "execution_count": 36,
      "outputs": [
        {
          "output_type": "execute_result",
          "data": {
            "text/plain": [
              "um        Santa Catarina\n",
              "dois              Paraná\n",
              "três               Goiás\n",
              "quatro             Bahia\n",
              "cinco       Minas Gerais\n",
              "Name: Estado, dtype: object"
            ]
          },
          "metadata": {
            "tags": []
          },
          "execution_count": 36
        }
      ]
    },
    {
      "cell_type": "markdown",
      "metadata": {
        "id": "QrSO-IgCVQQH",
        "colab_type": "text"
      },
      "source": [
        "Verificando o tipo do DataFrame"
      ]
    },
    {
      "cell_type": "code",
      "metadata": {
        "id": "nohsIVkgUHjw",
        "colab_type": "code",
        "colab": {
          "base_uri": "https://localhost:8080/",
          "height": 33
        },
        "outputId": "c541ba1d-d99f-4263-b9d6-2153ca8d2f63"
      },
      "source": [
        "type(frame2)"
      ],
      "execution_count": 37,
      "outputs": [
        {
          "output_type": "execute_result",
          "data": {
            "text/plain": [
              "pandas.core.frame.DataFrame"
            ]
          },
          "metadata": {
            "tags": []
          },
          "execution_count": 37
        }
      ]
    },
    {
      "cell_type": "markdown",
      "metadata": {
        "id": "DLMJQZSiVTOh",
        "colab_type": "text"
      },
      "source": [
        "Verificando o Index"
      ]
    },
    {
      "cell_type": "code",
      "metadata": {
        "id": "UDHZ4rUKUN8o",
        "colab_type": "code",
        "colab": {
          "base_uri": "https://localhost:8080/",
          "height": 33
        },
        "outputId": "5dce0690-f172-4fbe-d51f-7877dbce8278"
      },
      "source": [
        "frame2.index"
      ],
      "execution_count": 38,
      "outputs": [
        {
          "output_type": "execute_result",
          "data": {
            "text/plain": [
              "Index(['um', 'dois', 'três', 'quatro', 'cinco'], dtype='object')"
            ]
          },
          "metadata": {
            "tags": []
          },
          "execution_count": 38
        }
      ]
    },
    {
      "cell_type": "markdown",
      "metadata": {
        "id": "ljavYWaTVVw4",
        "colab_type": "text"
      },
      "source": [
        "Verificando as Colunas"
      ]
    },
    {
      "cell_type": "code",
      "metadata": {
        "id": "Uzg3KVJWUS-i",
        "colab_type": "code",
        "colab": {
          "base_uri": "https://localhost:8080/",
          "height": 33
        },
        "outputId": "3e9e01a1-b9d5-4040-abd5-d628ecb82d50"
      },
      "source": [
        "frame2.columns"
      ],
      "execution_count": 39,
      "outputs": [
        {
          "output_type": "execute_result",
          "data": {
            "text/plain": [
              "Index(['Ano', 'Estado', 'População', 'Débito'], dtype='object')"
            ]
          },
          "metadata": {
            "tags": []
          },
          "execution_count": 39
        }
      ]
    },
    {
      "cell_type": "markdown",
      "metadata": {
        "id": "5AGo44VMVYE3",
        "colab_type": "text"
      },
      "source": [
        "Verificando os Valores"
      ]
    },
    {
      "cell_type": "code",
      "metadata": {
        "id": "8JJiECYZUWgV",
        "colab_type": "code",
        "colab": {
          "base_uri": "https://localhost:8080/",
          "height": 100
        },
        "outputId": "e84ed0e1-f949-4b13-959c-74be008815f6"
      },
      "source": [
        "frame2.values"
      ],
      "execution_count": 40,
      "outputs": [
        {
          "output_type": "execute_result",
          "data": {
            "text/plain": [
              "array([[2002, 'Santa Catarina', 1.5, nan],\n",
              "       [2003, 'Paraná', 1.7, nan],\n",
              "       [2004, 'Goiás', 3.6, nan],\n",
              "       [2005, 'Bahia', 2.4, nan],\n",
              "       [2006, 'Minas Gerais', 2.9, nan]], dtype=object)"
            ]
          },
          "metadata": {
            "tags": []
          },
          "execution_count": 40
        }
      ]
    },
    {
      "cell_type": "markdown",
      "metadata": {
        "id": "YEEEFV86VaM3",
        "colab_type": "text"
      },
      "source": [
        "Vendo os Tipos de dados de cada coluna"
      ]
    },
    {
      "cell_type": "code",
      "metadata": {
        "id": "hZaeJzitUa91",
        "colab_type": "code",
        "colab": {
          "base_uri": "https://localhost:8080/",
          "height": 84
        },
        "outputId": "06ec0e19-eb0d-4088-82f5-77fa6e5b7995"
      },
      "source": [
        "frame.dtypes"
      ],
      "execution_count": 41,
      "outputs": [
        {
          "output_type": "execute_result",
          "data": {
            "text/plain": [
              "Estado        object\n",
              "Ano            int64\n",
              "População    float64\n",
              "dtype: object"
            ]
          },
          "metadata": {
            "tags": []
          },
          "execution_count": 41
        }
      ]
    },
    {
      "cell_type": "markdown",
      "metadata": {
        "id": "_kM2QwsPVfEO",
        "colab_type": "text"
      },
      "source": [
        "Vendo apenas os dados da coluna Ano"
      ]
    },
    {
      "cell_type": "code",
      "metadata": {
        "id": "ynbM2Ke-UgNg",
        "colab_type": "code",
        "colab": {
          "base_uri": "https://localhost:8080/",
          "height": 117
        },
        "outputId": "8c29a30e-5fb7-4fbb-cb53-3c898df05efe"
      },
      "source": [
        "frame2['Ano']"
      ],
      "execution_count": 42,
      "outputs": [
        {
          "output_type": "execute_result",
          "data": {
            "text/plain": [
              "um        2002\n",
              "dois      2003\n",
              "três      2004\n",
              "quatro    2005\n",
              "cinco     2006\n",
              "Name: Ano, dtype: int64"
            ]
          },
          "metadata": {
            "tags": []
          },
          "execution_count": 42
        }
      ]
    },
    {
      "cell_type": "markdown",
      "metadata": {
        "id": "tU7otHBTVitn",
        "colab_type": "text"
      },
      "source": [
        "Vendo de outra forma"
      ]
    },
    {
      "cell_type": "code",
      "metadata": {
        "id": "jswxLx5bUiLB",
        "colab_type": "code",
        "colab": {
          "base_uri": "https://localhost:8080/",
          "height": 117
        },
        "outputId": "60e58de1-7c31-4de4-c631-2a9b4b0f38bf"
      },
      "source": [
        "frame2.Ano"
      ],
      "execution_count": 43,
      "outputs": [
        {
          "output_type": "execute_result",
          "data": {
            "text/plain": [
              "um        2002\n",
              "dois      2003\n",
              "três      2004\n",
              "quatro    2005\n",
              "cinco     2006\n",
              "Name: Ano, dtype: int64"
            ]
          },
          "metadata": {
            "tags": []
          },
          "execution_count": 43
        }
      ]
    },
    {
      "cell_type": "markdown",
      "metadata": {
        "id": "sQ9w1ynYVoK_",
        "colab_type": "text"
      },
      "source": [
        "Fazendo Slicing "
      ]
    },
    {
      "cell_type": "code",
      "metadata": {
        "id": "66b2eQbsUm7i",
        "colab_type": "code",
        "colab": {
          "base_uri": "https://localhost:8080/",
          "height": 107
        },
        "outputId": "6677ccff-0e32-4c7c-8630-3611e0297f38"
      },
      "source": [
        "frame2[:2]"
      ],
      "execution_count": 44,
      "outputs": [
        {
          "output_type": "execute_result",
          "data": {
            "text/html": [
              "<div>\n",
              "<style scoped>\n",
              "    .dataframe tbody tr th:only-of-type {\n",
              "        vertical-align: middle;\n",
              "    }\n",
              "\n",
              "    .dataframe tbody tr th {\n",
              "        vertical-align: top;\n",
              "    }\n",
              "\n",
              "    .dataframe thead th {\n",
              "        text-align: right;\n",
              "    }\n",
              "</style>\n",
              "<table border=\"1\" class=\"dataframe\">\n",
              "  <thead>\n",
              "    <tr style=\"text-align: right;\">\n",
              "      <th></th>\n",
              "      <th>Ano</th>\n",
              "      <th>Estado</th>\n",
              "      <th>População</th>\n",
              "      <th>Débito</th>\n",
              "    </tr>\n",
              "  </thead>\n",
              "  <tbody>\n",
              "    <tr>\n",
              "      <th>um</th>\n",
              "      <td>2002</td>\n",
              "      <td>Santa Catarina</td>\n",
              "      <td>1.5</td>\n",
              "      <td>NaN</td>\n",
              "    </tr>\n",
              "    <tr>\n",
              "      <th>dois</th>\n",
              "      <td>2003</td>\n",
              "      <td>Paraná</td>\n",
              "      <td>1.7</td>\n",
              "      <td>NaN</td>\n",
              "    </tr>\n",
              "  </tbody>\n",
              "</table>\n",
              "</div>"
            ],
            "text/plain": [
              "       Ano          Estado  População Débito\n",
              "um    2002  Santa Catarina        1.5    NaN\n",
              "dois  2003          Paraná        1.7    NaN"
            ]
          },
          "metadata": {
            "tags": []
          },
          "execution_count": 44
        }
      ]
    },
    {
      "cell_type": "code",
      "metadata": {
        "id": "o0s9Gqz9vQ79",
        "colab_type": "code",
        "colab": {}
      },
      "source": [
        "import numpy as np\n",
        "\n",
        "\n",
        "frame2['Débito']= np.arange(5.)"
      ],
      "execution_count": 48,
      "outputs": []
    },
    {
      "cell_type": "code",
      "metadata": {
        "id": "MmlltdmPvQOh",
        "colab_type": "code",
        "colab": {
          "base_uri": "https://localhost:8080/",
          "height": 196
        },
        "outputId": "bd1b5dd1-a2b2-4acc-cd49-6570e412231c"
      },
      "source": [
        "frame2"
      ],
      "execution_count": 51,
      "outputs": [
        {
          "output_type": "execute_result",
          "data": {
            "text/html": [
              "<div>\n",
              "<style scoped>\n",
              "    .dataframe tbody tr th:only-of-type {\n",
              "        vertical-align: middle;\n",
              "    }\n",
              "\n",
              "    .dataframe tbody tr th {\n",
              "        vertical-align: top;\n",
              "    }\n",
              "\n",
              "    .dataframe thead th {\n",
              "        text-align: right;\n",
              "    }\n",
              "</style>\n",
              "<table border=\"1\" class=\"dataframe\">\n",
              "  <thead>\n",
              "    <tr style=\"text-align: right;\">\n",
              "      <th></th>\n",
              "      <th>Ano</th>\n",
              "      <th>Estado</th>\n",
              "      <th>População</th>\n",
              "      <th>Débito</th>\n",
              "    </tr>\n",
              "  </thead>\n",
              "  <tbody>\n",
              "    <tr>\n",
              "      <th>um</th>\n",
              "      <td>2002</td>\n",
              "      <td>Santa Catarina</td>\n",
              "      <td>1.5</td>\n",
              "      <td>0.0</td>\n",
              "    </tr>\n",
              "    <tr>\n",
              "      <th>dois</th>\n",
              "      <td>2003</td>\n",
              "      <td>Paraná</td>\n",
              "      <td>1.7</td>\n",
              "      <td>1.0</td>\n",
              "    </tr>\n",
              "    <tr>\n",
              "      <th>três</th>\n",
              "      <td>2004</td>\n",
              "      <td>Goiás</td>\n",
              "      <td>3.6</td>\n",
              "      <td>2.0</td>\n",
              "    </tr>\n",
              "    <tr>\n",
              "      <th>quatro</th>\n",
              "      <td>2005</td>\n",
              "      <td>Bahia</td>\n",
              "      <td>2.4</td>\n",
              "      <td>3.0</td>\n",
              "    </tr>\n",
              "    <tr>\n",
              "      <th>cinco</th>\n",
              "      <td>2006</td>\n",
              "      <td>Minas Gerais</td>\n",
              "      <td>2.9</td>\n",
              "      <td>4.0</td>\n",
              "    </tr>\n",
              "  </tbody>\n",
              "</table>\n",
              "</div>"
            ],
            "text/plain": [
              "         Ano          Estado  População  Débito\n",
              "um      2002  Santa Catarina        1.5     0.0\n",
              "dois    2003          Paraná        1.7     1.0\n",
              "três    2004           Goiás        3.6     2.0\n",
              "quatro  2005           Bahia        2.4     3.0\n",
              "cinco   2006    Minas Gerais        2.9     4.0"
            ]
          },
          "metadata": {
            "tags": []
          },
          "execution_count": 51
        }
      ]
    },
    {
      "cell_type": "code",
      "metadata": {
        "id": "UybMMzQVvzqo",
        "colab_type": "code",
        "colab": {
          "base_uri": "https://localhost:8080/",
          "height": 100
        },
        "outputId": "63daf079-a65e-43c0-cce6-0bbb54f6f80f"
      },
      "source": [
        "frame2.values"
      ],
      "execution_count": 52,
      "outputs": [
        {
          "output_type": "execute_result",
          "data": {
            "text/plain": [
              "array([[2002, 'Santa Catarina', 1.5, 0.0],\n",
              "       [2003, 'Paraná', 1.7, 1.0],\n",
              "       [2004, 'Goiás', 3.6, 2.0],\n",
              "       [2005, 'Bahia', 2.4, 3.0],\n",
              "       [2006, 'Minas Gerais', 2.9, 4.0]], dtype=object)"
            ]
          },
          "metadata": {
            "tags": []
          },
          "execution_count": 52
        }
      ]
    },
    {
      "cell_type": "code",
      "metadata": {
        "id": "WzxoMCyNv3Yl",
        "colab_type": "code",
        "colab": {
          "base_uri": "https://localhost:8080/",
          "height": 286
        },
        "outputId": "e926770a-06d6-4802-bb34-ef5429baddc7"
      },
      "source": [
        "frame2.describe()\n",
        "\n",
        "#STD é o desvio Padrão"
      ],
      "execution_count": 58,
      "outputs": [
        {
          "output_type": "execute_result",
          "data": {
            "text/html": [
              "<div>\n",
              "<style scoped>\n",
              "    .dataframe tbody tr th:only-of-type {\n",
              "        vertical-align: middle;\n",
              "    }\n",
              "\n",
              "    .dataframe tbody tr th {\n",
              "        vertical-align: top;\n",
              "    }\n",
              "\n",
              "    .dataframe thead th {\n",
              "        text-align: right;\n",
              "    }\n",
              "</style>\n",
              "<table border=\"1\" class=\"dataframe\">\n",
              "  <thead>\n",
              "    <tr style=\"text-align: right;\">\n",
              "      <th></th>\n",
              "      <th>Ano</th>\n",
              "      <th>População</th>\n",
              "      <th>Débito</th>\n",
              "    </tr>\n",
              "  </thead>\n",
              "  <tbody>\n",
              "    <tr>\n",
              "      <th>count</th>\n",
              "      <td>5.000000</td>\n",
              "      <td>5.000000</td>\n",
              "      <td>5.000000</td>\n",
              "    </tr>\n",
              "    <tr>\n",
              "      <th>mean</th>\n",
              "      <td>2004.000000</td>\n",
              "      <td>2.420000</td>\n",
              "      <td>2.000000</td>\n",
              "    </tr>\n",
              "    <tr>\n",
              "      <th>std</th>\n",
              "      <td>1.581139</td>\n",
              "      <td>0.864292</td>\n",
              "      <td>1.581139</td>\n",
              "    </tr>\n",
              "    <tr>\n",
              "      <th>min</th>\n",
              "      <td>2002.000000</td>\n",
              "      <td>1.500000</td>\n",
              "      <td>0.000000</td>\n",
              "    </tr>\n",
              "    <tr>\n",
              "      <th>25%</th>\n",
              "      <td>2003.000000</td>\n",
              "      <td>1.700000</td>\n",
              "      <td>1.000000</td>\n",
              "    </tr>\n",
              "    <tr>\n",
              "      <th>50%</th>\n",
              "      <td>2004.000000</td>\n",
              "      <td>2.400000</td>\n",
              "      <td>2.000000</td>\n",
              "    </tr>\n",
              "    <tr>\n",
              "      <th>75%</th>\n",
              "      <td>2005.000000</td>\n",
              "      <td>2.900000</td>\n",
              "      <td>3.000000</td>\n",
              "    </tr>\n",
              "    <tr>\n",
              "      <th>max</th>\n",
              "      <td>2006.000000</td>\n",
              "      <td>3.600000</td>\n",
              "      <td>4.000000</td>\n",
              "    </tr>\n",
              "  </tbody>\n",
              "</table>\n",
              "</div>"
            ],
            "text/plain": [
              "               Ano  População    Débito\n",
              "count     5.000000   5.000000  5.000000\n",
              "mean   2004.000000   2.420000  2.000000\n",
              "std       1.581139   0.864292  1.581139\n",
              "min    2002.000000   1.500000  0.000000\n",
              "25%    2003.000000   1.700000  1.000000\n",
              "50%    2004.000000   2.400000  2.000000\n",
              "75%    2005.000000   2.900000  3.000000\n",
              "max    2006.000000   3.600000  4.000000"
            ]
          },
          "metadata": {
            "tags": []
          },
          "execution_count": 58
        }
      ]
    },
    {
      "cell_type": "markdown",
      "metadata": {
        "id": "a5Es5G9AwXkd",
        "colab_type": "text"
      },
      "source": [
        "Fazendo um Slicing"
      ]
    },
    {
      "cell_type": "code",
      "metadata": {
        "id": "fo6h3C3uv5wN",
        "colab_type": "code",
        "colab": {
          "base_uri": "https://localhost:8080/",
          "height": 137
        },
        "outputId": "6c071b32-f4e2-44fd-ef5e-80b4e89eaff7"
      },
      "source": [
        "frame2['dois':'quatro']"
      ],
      "execution_count": 55,
      "outputs": [
        {
          "output_type": "execute_result",
          "data": {
            "text/html": [
              "<div>\n",
              "<style scoped>\n",
              "    .dataframe tbody tr th:only-of-type {\n",
              "        vertical-align: middle;\n",
              "    }\n",
              "\n",
              "    .dataframe tbody tr th {\n",
              "        vertical-align: top;\n",
              "    }\n",
              "\n",
              "    .dataframe thead th {\n",
              "        text-align: right;\n",
              "    }\n",
              "</style>\n",
              "<table border=\"1\" class=\"dataframe\">\n",
              "  <thead>\n",
              "    <tr style=\"text-align: right;\">\n",
              "      <th></th>\n",
              "      <th>Ano</th>\n",
              "      <th>Estado</th>\n",
              "      <th>População</th>\n",
              "      <th>Débito</th>\n",
              "    </tr>\n",
              "  </thead>\n",
              "  <tbody>\n",
              "    <tr>\n",
              "      <th>dois</th>\n",
              "      <td>2003</td>\n",
              "      <td>Paraná</td>\n",
              "      <td>1.7</td>\n",
              "      <td>1.0</td>\n",
              "    </tr>\n",
              "    <tr>\n",
              "      <th>três</th>\n",
              "      <td>2004</td>\n",
              "      <td>Goiás</td>\n",
              "      <td>3.6</td>\n",
              "      <td>2.0</td>\n",
              "    </tr>\n",
              "    <tr>\n",
              "      <th>quatro</th>\n",
              "      <td>2005</td>\n",
              "      <td>Bahia</td>\n",
              "      <td>2.4</td>\n",
              "      <td>3.0</td>\n",
              "    </tr>\n",
              "  </tbody>\n",
              "</table>\n",
              "</div>"
            ],
            "text/plain": [
              "         Ano  Estado  População  Débito\n",
              "dois    2003  Paraná        1.7     1.0\n",
              "três    2004   Goiás        3.6     2.0\n",
              "quatro  2005   Bahia        2.4     3.0"
            ]
          },
          "metadata": {
            "tags": []
          },
          "execution_count": 55
        }
      ]
    },
    {
      "cell_type": "markdown",
      "metadata": {
        "id": "FAjipVUown_P",
        "colab_type": "text"
      },
      "source": [
        "Localizando Registros dentro do Dataframe\n"
      ]
    },
    {
      "cell_type": "code",
      "metadata": {
        "id": "0mD47tASwB1q",
        "colab_type": "code",
        "colab": {
          "base_uri": "https://localhost:8080/",
          "height": 100
        },
        "outputId": "cc86410c-8c06-415e-9429-28db0a32b1db"
      },
      "source": [
        "frame2.loc['quatro']"
      ],
      "execution_count": 60,
      "outputs": [
        {
          "output_type": "execute_result",
          "data": {
            "text/plain": [
              "Ano           2005\n",
              "Estado       Bahia\n",
              "População      2.4\n",
              "Débito           3\n",
              "Name: quatro, dtype: object"
            ]
          },
          "metadata": {
            "tags": []
          },
          "execution_count": 60
        }
      ]
    },
    {
      "cell_type": "markdown",
      "metadata": {
        "id": "0T9Vq200xg-w",
        "colab_type": "text"
      },
      "source": [
        "Localização pelo índice\n"
      ]
    },
    {
      "cell_type": "code",
      "metadata": {
        "id": "1Hyg5W_MwG1e",
        "colab_type": "code",
        "colab": {
          "base_uri": "https://localhost:8080/",
          "height": 100
        },
        "outputId": "7b2f2f52-f7e1-46f6-df39-1abd1a02a6e3"
      },
      "source": [
        "frame2.iloc[2]"
      ],
      "execution_count": 61,
      "outputs": [
        {
          "output_type": "execute_result",
          "data": {
            "text/plain": [
              "Ano           2004\n",
              "Estado       Goiás\n",
              "População      3.6\n",
              "Débito           2\n",
              "Name: três, dtype: object"
            ]
          },
          "metadata": {
            "tags": []
          },
          "execution_count": 61
        }
      ]
    },
    {
      "cell_type": "code",
      "metadata": {
        "id": "iDAZZWwxw71A",
        "colab_type": "code",
        "colab": {}
      },
      "source": [
        "#criando um dicionário\n",
        "web_stats = {'Dias':[1, 2, 3 , 4, 5, 6, 7],\n",
        "             'Visitantes':[45,23,67,78,23,12,14],\n",
        "             'Taxas':[11,22,23,44,55,66,77]}"
      ],
      "execution_count": 62,
      "outputs": []
    },
    {
      "cell_type": "code",
      "metadata": {
        "id": "D2VpGkZpxTbB",
        "colab_type": "code",
        "colab": {}
      },
      "source": [
        "df= pd.DataFrame(web_stats)"
      ],
      "execution_count": 63,
      "outputs": []
    },
    {
      "cell_type": "code",
      "metadata": {
        "id": "o8EUXDRVxXcV",
        "colab_type": "code",
        "colab": {
          "base_uri": "https://localhost:8080/",
          "height": 150
        },
        "outputId": "9edcc8dd-9cef-4682-cbff-8e70baf1a43c"
      },
      "source": [
        "print(df)"
      ],
      "execution_count": 64,
      "outputs": [
        {
          "output_type": "stream",
          "text": [
            "   Dias  Visitantes  Taxas\n",
            "0     1          45     11\n",
            "1     2          23     22\n",
            "2     3          67     23\n",
            "3     4          78     44\n",
            "4     5          23     55\n",
            "5     6          12     66\n",
            "6     7          14     77\n"
          ],
          "name": "stdout"
        }
      ]
    },
    {
      "cell_type": "markdown",
      "metadata": {
        "id": "Zcuf1nsXx85s",
        "colab_type": "text"
      },
      "source": [
        "Como a dias é uma sequência de números, vou deixa-lá como meu index. Para isso precisa usar a função set_index"
      ]
    },
    {
      "cell_type": "code",
      "metadata": {
        "id": "cIhzyOMlxYYz",
        "colab_type": "code",
        "colab": {
          "base_uri": "https://localhost:8080/",
          "height": 167
        },
        "outputId": "eae23834-f130-4768-880d-aafb22aa4c95"
      },
      "source": [
        "print(df.set_index('Dias'))"
      ],
      "execution_count": 66,
      "outputs": [
        {
          "output_type": "stream",
          "text": [
            "      Visitantes  Taxas\n",
            "Dias                   \n",
            "1             45     11\n",
            "2             23     22\n",
            "3             67     23\n",
            "4             78     44\n",
            "5             23     55\n",
            "6             12     66\n",
            "7             14     77\n"
          ],
          "name": "stdout"
        }
      ]
    },
    {
      "cell_type": "markdown",
      "metadata": {
        "id": "OvdLovI2yFhl",
        "colab_type": "text"
      },
      "source": [
        "Para visualizar apenas as primeiras linhas, utiliza-se a função head(), por default, a função head são 5 primeiras linhas, mas se você colocar um número poderá ser mais que 5"
      ]
    },
    {
      "cell_type": "code",
      "metadata": {
        "id": "jNaTaSB5yClZ",
        "colab_type": "code",
        "colab": {
          "base_uri": "https://localhost:8080/",
          "height": 196
        },
        "outputId": "03b7498f-b065-4ffe-9e9d-5906964907b7"
      },
      "source": [
        "df.head()"
      ],
      "execution_count": 67,
      "outputs": [
        {
          "output_type": "execute_result",
          "data": {
            "text/html": [
              "<div>\n",
              "<style scoped>\n",
              "    .dataframe tbody tr th:only-of-type {\n",
              "        vertical-align: middle;\n",
              "    }\n",
              "\n",
              "    .dataframe tbody tr th {\n",
              "        vertical-align: top;\n",
              "    }\n",
              "\n",
              "    .dataframe thead th {\n",
              "        text-align: right;\n",
              "    }\n",
              "</style>\n",
              "<table border=\"1\" class=\"dataframe\">\n",
              "  <thead>\n",
              "    <tr style=\"text-align: right;\">\n",
              "      <th></th>\n",
              "      <th>Dias</th>\n",
              "      <th>Visitantes</th>\n",
              "      <th>Taxas</th>\n",
              "    </tr>\n",
              "  </thead>\n",
              "  <tbody>\n",
              "    <tr>\n",
              "      <th>0</th>\n",
              "      <td>1</td>\n",
              "      <td>45</td>\n",
              "      <td>11</td>\n",
              "    </tr>\n",
              "    <tr>\n",
              "      <th>1</th>\n",
              "      <td>2</td>\n",
              "      <td>23</td>\n",
              "      <td>22</td>\n",
              "    </tr>\n",
              "    <tr>\n",
              "      <th>2</th>\n",
              "      <td>3</td>\n",
              "      <td>67</td>\n",
              "      <td>23</td>\n",
              "    </tr>\n",
              "    <tr>\n",
              "      <th>3</th>\n",
              "      <td>4</td>\n",
              "      <td>78</td>\n",
              "      <td>44</td>\n",
              "    </tr>\n",
              "    <tr>\n",
              "      <th>4</th>\n",
              "      <td>5</td>\n",
              "      <td>23</td>\n",
              "      <td>55</td>\n",
              "    </tr>\n",
              "  </tbody>\n",
              "</table>\n",
              "</div>"
            ],
            "text/plain": [
              "   Dias  Visitantes  Taxas\n",
              "0     1          45     11\n",
              "1     2          23     22\n",
              "2     3          67     23\n",
              "3     4          78     44\n",
              "4     5          23     55"
            ]
          },
          "metadata": {
            "tags": []
          },
          "execution_count": 67
        }
      ]
    },
    {
      "cell_type": "code",
      "metadata": {
        "id": "R5gnMbd5ydcR",
        "colab_type": "code",
        "colab": {
          "base_uri": "https://localhost:8080/",
          "height": 256
        },
        "outputId": "b6db62ee-3dfa-4943-f172-0a24bc075ac9"
      },
      "source": [
        "df.head(7)"
      ],
      "execution_count": 69,
      "outputs": [
        {
          "output_type": "execute_result",
          "data": {
            "text/html": [
              "<div>\n",
              "<style scoped>\n",
              "    .dataframe tbody tr th:only-of-type {\n",
              "        vertical-align: middle;\n",
              "    }\n",
              "\n",
              "    .dataframe tbody tr th {\n",
              "        vertical-align: top;\n",
              "    }\n",
              "\n",
              "    .dataframe thead th {\n",
              "        text-align: right;\n",
              "    }\n",
              "</style>\n",
              "<table border=\"1\" class=\"dataframe\">\n",
              "  <thead>\n",
              "    <tr style=\"text-align: right;\">\n",
              "      <th></th>\n",
              "      <th>Dias</th>\n",
              "      <th>Visitantes</th>\n",
              "      <th>Taxas</th>\n",
              "    </tr>\n",
              "  </thead>\n",
              "  <tbody>\n",
              "    <tr>\n",
              "      <th>0</th>\n",
              "      <td>1</td>\n",
              "      <td>45</td>\n",
              "      <td>11</td>\n",
              "    </tr>\n",
              "    <tr>\n",
              "      <th>1</th>\n",
              "      <td>2</td>\n",
              "      <td>23</td>\n",
              "      <td>22</td>\n",
              "    </tr>\n",
              "    <tr>\n",
              "      <th>2</th>\n",
              "      <td>3</td>\n",
              "      <td>67</td>\n",
              "      <td>23</td>\n",
              "    </tr>\n",
              "    <tr>\n",
              "      <th>3</th>\n",
              "      <td>4</td>\n",
              "      <td>78</td>\n",
              "      <td>44</td>\n",
              "    </tr>\n",
              "    <tr>\n",
              "      <th>4</th>\n",
              "      <td>5</td>\n",
              "      <td>23</td>\n",
              "      <td>55</td>\n",
              "    </tr>\n",
              "    <tr>\n",
              "      <th>5</th>\n",
              "      <td>6</td>\n",
              "      <td>12</td>\n",
              "      <td>66</td>\n",
              "    </tr>\n",
              "    <tr>\n",
              "      <th>6</th>\n",
              "      <td>7</td>\n",
              "      <td>14</td>\n",
              "      <td>77</td>\n",
              "    </tr>\n",
              "  </tbody>\n",
              "</table>\n",
              "</div>"
            ],
            "text/plain": [
              "   Dias  Visitantes  Taxas\n",
              "0     1          45     11\n",
              "1     2          23     22\n",
              "2     3          67     23\n",
              "3     4          78     44\n",
              "4     5          23     55\n",
              "5     6          12     66\n",
              "6     7          14     77"
            ]
          },
          "metadata": {
            "tags": []
          },
          "execution_count": 69
        }
      ]
    },
    {
      "cell_type": "code",
      "metadata": {
        "id": "g_wAZuEFygzP",
        "colab_type": "code",
        "colab": {
          "base_uri": "https://localhost:8080/",
          "height": 150
        },
        "outputId": "aead63b7-9381-4faa-9278-ad6fe3b473e9"
      },
      "source": [
        "print(df['Visitantes'])"
      ],
      "execution_count": 72,
      "outputs": [
        {
          "output_type": "stream",
          "text": [
            "0    45\n",
            "1    23\n",
            "2    67\n",
            "3    78\n",
            "4    23\n",
            "5    12\n",
            "6    14\n",
            "Name: Visitantes, dtype: int64\n"
          ],
          "name": "stdout"
        }
      ]
    },
    {
      "cell_type": "markdown",
      "metadata": {
        "id": "eaNlBuIPzUpt",
        "colab_type": "text"
      },
      "source": [
        "Visualizando apenas uma coluna\n"
      ]
    },
    {
      "cell_type": "code",
      "metadata": {
        "id": "ULeW6bxsyn37",
        "colab_type": "code",
        "colab": {
          "base_uri": "https://localhost:8080/",
          "height": 150
        },
        "outputId": "7ba3b72e-ba86-4c3c-b73e-c1d29575916d"
      },
      "source": [
        "df['Visitantes']"
      ],
      "execution_count": 73,
      "outputs": [
        {
          "output_type": "execute_result",
          "data": {
            "text/plain": [
              "0    45\n",
              "1    23\n",
              "2    67\n",
              "3    78\n",
              "4    23\n",
              "5    12\n",
              "6    14\n",
              "Name: Visitantes, dtype: int64"
            ]
          },
          "metadata": {
            "tags": []
          },
          "execution_count": 73
        }
      ]
    },
    {
      "cell_type": "markdown",
      "metadata": {
        "id": "cVyoaIU8zSiB",
        "colab_type": "text"
      },
      "source": [
        "Visualizando mais de uma coluna\n"
      ]
    },
    {
      "cell_type": "code",
      "metadata": {
        "id": "LmChZTDNyx8A",
        "colab_type": "code",
        "colab": {
          "base_uri": "https://localhost:8080/",
          "height": 256
        },
        "outputId": "ee7eadf7-d953-4d1c-9047-fe6e931df944"
      },
      "source": [
        "df[['Visitantes', 'Taxas']]"
      ],
      "execution_count": 77,
      "outputs": [
        {
          "output_type": "execute_result",
          "data": {
            "text/html": [
              "<div>\n",
              "<style scoped>\n",
              "    .dataframe tbody tr th:only-of-type {\n",
              "        vertical-align: middle;\n",
              "    }\n",
              "\n",
              "    .dataframe tbody tr th {\n",
              "        vertical-align: top;\n",
              "    }\n",
              "\n",
              "    .dataframe thead th {\n",
              "        text-align: right;\n",
              "    }\n",
              "</style>\n",
              "<table border=\"1\" class=\"dataframe\">\n",
              "  <thead>\n",
              "    <tr style=\"text-align: right;\">\n",
              "      <th></th>\n",
              "      <th>Visitantes</th>\n",
              "      <th>Taxas</th>\n",
              "    </tr>\n",
              "  </thead>\n",
              "  <tbody>\n",
              "    <tr>\n",
              "      <th>0</th>\n",
              "      <td>45</td>\n",
              "      <td>11</td>\n",
              "    </tr>\n",
              "    <tr>\n",
              "      <th>1</th>\n",
              "      <td>23</td>\n",
              "      <td>22</td>\n",
              "    </tr>\n",
              "    <tr>\n",
              "      <th>2</th>\n",
              "      <td>67</td>\n",
              "      <td>23</td>\n",
              "    </tr>\n",
              "    <tr>\n",
              "      <th>3</th>\n",
              "      <td>78</td>\n",
              "      <td>44</td>\n",
              "    </tr>\n",
              "    <tr>\n",
              "      <th>4</th>\n",
              "      <td>23</td>\n",
              "      <td>55</td>\n",
              "    </tr>\n",
              "    <tr>\n",
              "      <th>5</th>\n",
              "      <td>12</td>\n",
              "      <td>66</td>\n",
              "    </tr>\n",
              "    <tr>\n",
              "      <th>6</th>\n",
              "      <td>14</td>\n",
              "      <td>77</td>\n",
              "    </tr>\n",
              "  </tbody>\n",
              "</table>\n",
              "</div>"
            ],
            "text/plain": [
              "   Visitantes  Taxas\n",
              "0          45     11\n",
              "1          23     22\n",
              "2          67     23\n",
              "3          78     44\n",
              "4          23     55\n",
              "5          12     66\n",
              "6          14     77"
            ]
          },
          "metadata": {
            "tags": []
          },
          "execution_count": 77
        }
      ]
    },
    {
      "cell_type": "markdown",
      "metadata": {
        "id": "gglUr96LzO9g",
        "colab_type": "text"
      },
      "source": [
        "Mudando a ordem de visualização"
      ]
    },
    {
      "cell_type": "code",
      "metadata": {
        "id": "HjVe_mPby2cV",
        "colab_type": "code",
        "colab": {
          "base_uri": "https://localhost:8080/",
          "height": 256
        },
        "outputId": "e84e41f8-2284-430e-c890-5f9a6f8671b9"
      },
      "source": [
        "df[['Taxas','Visitantes']]"
      ],
      "execution_count": 78,
      "outputs": [
        {
          "output_type": "execute_result",
          "data": {
            "text/html": [
              "<div>\n",
              "<style scoped>\n",
              "    .dataframe tbody tr th:only-of-type {\n",
              "        vertical-align: middle;\n",
              "    }\n",
              "\n",
              "    .dataframe tbody tr th {\n",
              "        vertical-align: top;\n",
              "    }\n",
              "\n",
              "    .dataframe thead th {\n",
              "        text-align: right;\n",
              "    }\n",
              "</style>\n",
              "<table border=\"1\" class=\"dataframe\">\n",
              "  <thead>\n",
              "    <tr style=\"text-align: right;\">\n",
              "      <th></th>\n",
              "      <th>Taxas</th>\n",
              "      <th>Visitantes</th>\n",
              "    </tr>\n",
              "  </thead>\n",
              "  <tbody>\n",
              "    <tr>\n",
              "      <th>0</th>\n",
              "      <td>11</td>\n",
              "      <td>45</td>\n",
              "    </tr>\n",
              "    <tr>\n",
              "      <th>1</th>\n",
              "      <td>22</td>\n",
              "      <td>23</td>\n",
              "    </tr>\n",
              "    <tr>\n",
              "      <th>2</th>\n",
              "      <td>23</td>\n",
              "      <td>67</td>\n",
              "    </tr>\n",
              "    <tr>\n",
              "      <th>3</th>\n",
              "      <td>44</td>\n",
              "      <td>78</td>\n",
              "    </tr>\n",
              "    <tr>\n",
              "      <th>4</th>\n",
              "      <td>55</td>\n",
              "      <td>23</td>\n",
              "    </tr>\n",
              "    <tr>\n",
              "      <th>5</th>\n",
              "      <td>66</td>\n",
              "      <td>12</td>\n",
              "    </tr>\n",
              "    <tr>\n",
              "      <th>6</th>\n",
              "      <td>77</td>\n",
              "      <td>14</td>\n",
              "    </tr>\n",
              "  </tbody>\n",
              "</table>\n",
              "</div>"
            ],
            "text/plain": [
              "   Taxas  Visitantes\n",
              "0     11          45\n",
              "1     22          23\n",
              "2     23          67\n",
              "3     44          78\n",
              "4     55          23\n",
              "5     66          12\n",
              "6     77          14"
            ]
          },
          "metadata": {
            "tags": []
          },
          "execution_count": 78
        }
      ]
    },
    {
      "cell_type": "markdown",
      "metadata": {
        "id": "Pod3MOAb1lIP",
        "colab_type": "text"
      },
      "source": [
        "# Manipulando Arquivos\n"
      ]
    },
    {
      "cell_type": "markdown",
      "metadata": {
        "id": "loMDJRTZ2bEV",
        "colab_type": "text"
      },
      "source": [
        "Usuando função read_csv\n"
      ]
    },
    {
      "cell_type": "code",
      "metadata": {
        "id": "7iARPzBtzNXi",
        "colab_type": "code",
        "colab": {}
      },
      "source": [
        "df= pd.read_csv('https://raw.githubusercontent.com/dsacademybr/PythonFundamentos/master/Cap08/Notebooks/salarios.csv')"
      ],
      "execution_count": 80,
      "outputs": []
    },
    {
      "cell_type": "code",
      "metadata": {
        "id": "8Lu-VoOE2FLZ",
        "colab_type": "code",
        "colab": {
          "base_uri": "https://localhost:8080/",
          "height": 404
        },
        "outputId": "274f9a44-7bea-4717-97ba-9aa7e89338cb"
      },
      "source": [
        "df"
      ],
      "execution_count": 81,
      "outputs": [
        {
          "output_type": "execute_result",
          "data": {
            "text/html": [
              "<div>\n",
              "<style scoped>\n",
              "    .dataframe tbody tr th:only-of-type {\n",
              "        vertical-align: middle;\n",
              "    }\n",
              "\n",
              "    .dataframe tbody tr th {\n",
              "        vertical-align: top;\n",
              "    }\n",
              "\n",
              "    .dataframe thead th {\n",
              "        text-align: right;\n",
              "    }\n",
              "</style>\n",
              "<table border=\"1\" class=\"dataframe\">\n",
              "  <thead>\n",
              "    <tr style=\"text-align: right;\">\n",
              "      <th></th>\n",
              "      <th>Name</th>\n",
              "      <th>Position Title</th>\n",
              "      <th>Department</th>\n",
              "      <th>Employee Annual Salary</th>\n",
              "    </tr>\n",
              "  </thead>\n",
              "  <tbody>\n",
              "    <tr>\n",
              "      <th>0</th>\n",
              "      <td>AARON,  ELVIA J</td>\n",
              "      <td>WATER RATE TAKER</td>\n",
              "      <td>WATER MGMNT</td>\n",
              "      <td>$88965.00</td>\n",
              "    </tr>\n",
              "    <tr>\n",
              "      <th>1</th>\n",
              "      <td>AARON,  JEFFERY M</td>\n",
              "      <td>POLICE OFFICER</td>\n",
              "      <td>POLICE</td>\n",
              "      <td>$80778.00</td>\n",
              "    </tr>\n",
              "    <tr>\n",
              "      <th>2</th>\n",
              "      <td>AARON,  KARINA</td>\n",
              "      <td>POLICE OFFICER</td>\n",
              "      <td>POLICE</td>\n",
              "      <td>$80778.00</td>\n",
              "    </tr>\n",
              "    <tr>\n",
              "      <th>3</th>\n",
              "      <td>AARON,  KIMBERLEI R</td>\n",
              "      <td>CHIEF CONTRACT EXPEDITER</td>\n",
              "      <td>GENERAL SERVICES</td>\n",
              "      <td>$84780.00</td>\n",
              "    </tr>\n",
              "    <tr>\n",
              "      <th>4</th>\n",
              "      <td>ABAD JR,  VICENTE M</td>\n",
              "      <td>CIVIL ENGINEER IV</td>\n",
              "      <td>WATER MGMNT</td>\n",
              "      <td>$104736.00</td>\n",
              "    </tr>\n",
              "    <tr>\n",
              "      <th>...</th>\n",
              "      <td>...</td>\n",
              "      <td>...</td>\n",
              "      <td>...</td>\n",
              "      <td>...</td>\n",
              "    </tr>\n",
              "    <tr>\n",
              "      <th>32177</th>\n",
              "      <td>ZYGOWICZ,  PETER J</td>\n",
              "      <td>POLICE OFFICER</td>\n",
              "      <td>POLICE</td>\n",
              "      <td>$86520.00</td>\n",
              "    </tr>\n",
              "    <tr>\n",
              "      <th>32178</th>\n",
              "      <td>ZYMANTAS,  MARK E</td>\n",
              "      <td>POLICE OFFICER</td>\n",
              "      <td>POLICE</td>\n",
              "      <td>$83616.00</td>\n",
              "    </tr>\n",
              "    <tr>\n",
              "      <th>32179</th>\n",
              "      <td>ZYRKOWSKI,  CARLO E</td>\n",
              "      <td>POLICE OFFICER</td>\n",
              "      <td>POLICE</td>\n",
              "      <td>$86520.00</td>\n",
              "    </tr>\n",
              "    <tr>\n",
              "      <th>32180</th>\n",
              "      <td>ZYSKOWSKI,  DARIUSZ</td>\n",
              "      <td>CHIEF DATA BASE ANALYST</td>\n",
              "      <td>DoIT</td>\n",
              "      <td>$110352.00</td>\n",
              "    </tr>\n",
              "    <tr>\n",
              "      <th>32181</th>\n",
              "      <td>NaN</td>\n",
              "      <td>NaN</td>\n",
              "      <td>NaN</td>\n",
              "      <td>NaN</td>\n",
              "    </tr>\n",
              "  </tbody>\n",
              "</table>\n",
              "<p>32182 rows × 4 columns</p>\n",
              "</div>"
            ],
            "text/plain": [
              "                      Name  ... Employee Annual Salary\n",
              "0          AARON,  ELVIA J  ...              $88965.00\n",
              "1        AARON,  JEFFERY M  ...              $80778.00\n",
              "2           AARON,  KARINA  ...              $80778.00\n",
              "3      AARON,  KIMBERLEI R  ...              $84780.00\n",
              "4      ABAD JR,  VICENTE M  ...             $104736.00\n",
              "...                    ...  ...                    ...\n",
              "32177   ZYGOWICZ,  PETER J  ...              $86520.00\n",
              "32178    ZYMANTAS,  MARK E  ...              $83616.00\n",
              "32179  ZYRKOWSKI,  CARLO E  ...              $86520.00\n",
              "32180  ZYSKOWSKI,  DARIUSZ  ...             $110352.00\n",
              "32181                  NaN  ...                    NaN\n",
              "\n",
              "[32182 rows x 4 columns]"
            ]
          },
          "metadata": {
            "tags": []
          },
          "execution_count": 81
        }
      ]
    },
    {
      "cell_type": "markdown",
      "metadata": {
        "id": "ZKQ9WCmU2ZNg",
        "colab_type": "text"
      },
      "source": [
        "Usando read_table"
      ]
    },
    {
      "cell_type": "code",
      "metadata": {
        "id": "LC7LZEqA2F37",
        "colab_type": "code",
        "colab": {}
      },
      "source": [
        "df = pd.read_table('https://raw.githubusercontent.com/dsacademybr/PythonFundamentos/master/Cap08/Notebooks/salarios.csv', sep = ',')"
      ],
      "execution_count": 82,
      "outputs": []
    },
    {
      "cell_type": "code",
      "metadata": {
        "id": "8PsTPDQ32QtL",
        "colab_type": "code",
        "colab": {
          "base_uri": "https://localhost:8080/",
          "height": 404
        },
        "outputId": "6e0d0a5a-7b30-4c0a-ee34-1c6dc78a52bc"
      },
      "source": [
        "df"
      ],
      "execution_count": 83,
      "outputs": [
        {
          "output_type": "execute_result",
          "data": {
            "text/html": [
              "<div>\n",
              "<style scoped>\n",
              "    .dataframe tbody tr th:only-of-type {\n",
              "        vertical-align: middle;\n",
              "    }\n",
              "\n",
              "    .dataframe tbody tr th {\n",
              "        vertical-align: top;\n",
              "    }\n",
              "\n",
              "    .dataframe thead th {\n",
              "        text-align: right;\n",
              "    }\n",
              "</style>\n",
              "<table border=\"1\" class=\"dataframe\">\n",
              "  <thead>\n",
              "    <tr style=\"text-align: right;\">\n",
              "      <th></th>\n",
              "      <th>Name</th>\n",
              "      <th>Position Title</th>\n",
              "      <th>Department</th>\n",
              "      <th>Employee Annual Salary</th>\n",
              "    </tr>\n",
              "  </thead>\n",
              "  <tbody>\n",
              "    <tr>\n",
              "      <th>0</th>\n",
              "      <td>AARON,  ELVIA J</td>\n",
              "      <td>WATER RATE TAKER</td>\n",
              "      <td>WATER MGMNT</td>\n",
              "      <td>$88965.00</td>\n",
              "    </tr>\n",
              "    <tr>\n",
              "      <th>1</th>\n",
              "      <td>AARON,  JEFFERY M</td>\n",
              "      <td>POLICE OFFICER</td>\n",
              "      <td>POLICE</td>\n",
              "      <td>$80778.00</td>\n",
              "    </tr>\n",
              "    <tr>\n",
              "      <th>2</th>\n",
              "      <td>AARON,  KARINA</td>\n",
              "      <td>POLICE OFFICER</td>\n",
              "      <td>POLICE</td>\n",
              "      <td>$80778.00</td>\n",
              "    </tr>\n",
              "    <tr>\n",
              "      <th>3</th>\n",
              "      <td>AARON,  KIMBERLEI R</td>\n",
              "      <td>CHIEF CONTRACT EXPEDITER</td>\n",
              "      <td>GENERAL SERVICES</td>\n",
              "      <td>$84780.00</td>\n",
              "    </tr>\n",
              "    <tr>\n",
              "      <th>4</th>\n",
              "      <td>ABAD JR,  VICENTE M</td>\n",
              "      <td>CIVIL ENGINEER IV</td>\n",
              "      <td>WATER MGMNT</td>\n",
              "      <td>$104736.00</td>\n",
              "    </tr>\n",
              "    <tr>\n",
              "      <th>...</th>\n",
              "      <td>...</td>\n",
              "      <td>...</td>\n",
              "      <td>...</td>\n",
              "      <td>...</td>\n",
              "    </tr>\n",
              "    <tr>\n",
              "      <th>32177</th>\n",
              "      <td>ZYGOWICZ,  PETER J</td>\n",
              "      <td>POLICE OFFICER</td>\n",
              "      <td>POLICE</td>\n",
              "      <td>$86520.00</td>\n",
              "    </tr>\n",
              "    <tr>\n",
              "      <th>32178</th>\n",
              "      <td>ZYMANTAS,  MARK E</td>\n",
              "      <td>POLICE OFFICER</td>\n",
              "      <td>POLICE</td>\n",
              "      <td>$83616.00</td>\n",
              "    </tr>\n",
              "    <tr>\n",
              "      <th>32179</th>\n",
              "      <td>ZYRKOWSKI,  CARLO E</td>\n",
              "      <td>POLICE OFFICER</td>\n",
              "      <td>POLICE</td>\n",
              "      <td>$86520.00</td>\n",
              "    </tr>\n",
              "    <tr>\n",
              "      <th>32180</th>\n",
              "      <td>ZYSKOWSKI,  DARIUSZ</td>\n",
              "      <td>CHIEF DATA BASE ANALYST</td>\n",
              "      <td>DoIT</td>\n",
              "      <td>$110352.00</td>\n",
              "    </tr>\n",
              "    <tr>\n",
              "      <th>32181</th>\n",
              "      <td>NaN</td>\n",
              "      <td>NaN</td>\n",
              "      <td>NaN</td>\n",
              "      <td>NaN</td>\n",
              "    </tr>\n",
              "  </tbody>\n",
              "</table>\n",
              "<p>32182 rows × 4 columns</p>\n",
              "</div>"
            ],
            "text/plain": [
              "                      Name  ... Employee Annual Salary\n",
              "0          AARON,  ELVIA J  ...              $88965.00\n",
              "1        AARON,  JEFFERY M  ...              $80778.00\n",
              "2           AARON,  KARINA  ...              $80778.00\n",
              "3      AARON,  KIMBERLEI R  ...              $84780.00\n",
              "4      ABAD JR,  VICENTE M  ...             $104736.00\n",
              "...                    ...  ...                    ...\n",
              "32177   ZYGOWICZ,  PETER J  ...              $86520.00\n",
              "32178    ZYMANTAS,  MARK E  ...              $83616.00\n",
              "32179  ZYRKOWSKI,  CARLO E  ...              $86520.00\n",
              "32180  ZYSKOWSKI,  DARIUSZ  ...             $110352.00\n",
              "32181                  NaN  ...                    NaN\n",
              "\n",
              "[32182 rows x 4 columns]"
            ]
          },
          "metadata": {
            "tags": []
          },
          "execution_count": 83
        }
      ]
    },
    {
      "cell_type": "markdown",
      "metadata": {
        "id": "0RNitwd32mQF",
        "colab_type": "text"
      },
      "source": [
        "Para usar no Windons use !type e no Mac ou Linux use !head"
      ]
    },
    {
      "cell_type": "code",
      "metadata": {
        "id": "6RWcWvDr2Rea",
        "colab_type": "code",
        "colab": {
          "base_uri": "https://localhost:8080/",
          "height": 33
        },
        "outputId": "20ac658d-42f1-489b-ab00-c2f81ba4f031"
      },
      "source": [
        "!head salarios.csv"
      ],
      "execution_count": 84,
      "outputs": [
        {
          "output_type": "stream",
          "text": [
            "head: cannot open 'salarios.csv' for reading: No such file or directory\n"
          ],
          "name": "stdout"
        }
      ]
    },
    {
      "cell_type": "markdown",
      "metadata": {
        "id": "LUwNoZ6L26Qe",
        "colab_type": "text"
      },
      "source": [
        "Mudando os títulos das colunas\n"
      ]
    },
    {
      "cell_type": "code",
      "metadata": {
        "id": "pIQud1yZ2kQl",
        "colab_type": "code",
        "colab": {}
      },
      "source": [
        "df= pd.read_csv('https://raw.githubusercontent.com/dsacademybr/PythonFundamentos/master/Cap08/Notebooks/salarios.csv', names = ['a', 'b', 'c', 'd'])"
      ],
      "execution_count": 85,
      "outputs": []
    },
    {
      "cell_type": "code",
      "metadata": {
        "id": "NXDlpTqa3LDx",
        "colab_type": "code",
        "colab": {
          "base_uri": "https://localhost:8080/",
          "height": 196
        },
        "outputId": "b98b25b5-7c3a-41af-b293-b9999546a53b"
      },
      "source": [
        "df.head()"
      ],
      "execution_count": 87,
      "outputs": [
        {
          "output_type": "execute_result",
          "data": {
            "text/html": [
              "<div>\n",
              "<style scoped>\n",
              "    .dataframe tbody tr th:only-of-type {\n",
              "        vertical-align: middle;\n",
              "    }\n",
              "\n",
              "    .dataframe tbody tr th {\n",
              "        vertical-align: top;\n",
              "    }\n",
              "\n",
              "    .dataframe thead th {\n",
              "        text-align: right;\n",
              "    }\n",
              "</style>\n",
              "<table border=\"1\" class=\"dataframe\">\n",
              "  <thead>\n",
              "    <tr style=\"text-align: right;\">\n",
              "      <th></th>\n",
              "      <th>a</th>\n",
              "      <th>b</th>\n",
              "      <th>c</th>\n",
              "      <th>d</th>\n",
              "    </tr>\n",
              "  </thead>\n",
              "  <tbody>\n",
              "    <tr>\n",
              "      <th>0</th>\n",
              "      <td>Name</td>\n",
              "      <td>Position Title</td>\n",
              "      <td>Department</td>\n",
              "      <td>Employee Annual Salary</td>\n",
              "    </tr>\n",
              "    <tr>\n",
              "      <th>1</th>\n",
              "      <td>AARON,  ELVIA J</td>\n",
              "      <td>WATER RATE TAKER</td>\n",
              "      <td>WATER MGMNT</td>\n",
              "      <td>$88965.00</td>\n",
              "    </tr>\n",
              "    <tr>\n",
              "      <th>2</th>\n",
              "      <td>AARON,  JEFFERY M</td>\n",
              "      <td>POLICE OFFICER</td>\n",
              "      <td>POLICE</td>\n",
              "      <td>$80778.00</td>\n",
              "    </tr>\n",
              "    <tr>\n",
              "      <th>3</th>\n",
              "      <td>AARON,  KARINA</td>\n",
              "      <td>POLICE OFFICER</td>\n",
              "      <td>POLICE</td>\n",
              "      <td>$80778.00</td>\n",
              "    </tr>\n",
              "    <tr>\n",
              "      <th>4</th>\n",
              "      <td>AARON,  KIMBERLEI R</td>\n",
              "      <td>CHIEF CONTRACT EXPEDITER</td>\n",
              "      <td>GENERAL SERVICES</td>\n",
              "      <td>$84780.00</td>\n",
              "    </tr>\n",
              "  </tbody>\n",
              "</table>\n",
              "</div>"
            ],
            "text/plain": [
              "                     a  ...                       d\n",
              "0                 Name  ...  Employee Annual Salary\n",
              "1      AARON,  ELVIA J  ...               $88965.00\n",
              "2    AARON,  JEFFERY M  ...               $80778.00\n",
              "3       AARON,  KARINA  ...               $80778.00\n",
              "4  AARON,  KIMBERLEI R  ...               $84780.00\n",
              "\n",
              "[5 rows x 4 columns]"
            ]
          },
          "metadata": {
            "tags": []
          },
          "execution_count": 87
        }
      ]
    },
    {
      "cell_type": "code",
      "metadata": {
        "id": "tS5wCoSa3QcP",
        "colab_type": "code",
        "colab": {}
      },
      "source": [
        "import sys"
      ],
      "execution_count": 88,
      "outputs": []
    },
    {
      "cell_type": "markdown",
      "metadata": {
        "id": "UEhC-OWh4FQa",
        "colab_type": "text"
      },
      "source": [
        "Comando para salvar toda a manipulação em um arquivo CSV separados por pipeline"
      ]
    },
    {
      "cell_type": "code",
      "metadata": {
        "id": "swJjx89h3m5t",
        "colab_type": "code",
        "colab": {}
      },
      "source": [
        "data.to_csv(sys.stdout, sep ='|')"
      ],
      "execution_count": null,
      "outputs": []
    },
    {
      "cell_type": "markdown",
      "metadata": {
        "id": "89YT4Cih4vsp",
        "colab_type": "text"
      },
      "source": [
        "Criando um DataFrame com o index são as datas e com dados randomicos. "
      ]
    },
    {
      "cell_type": "code",
      "metadata": {
        "id": "EvLXyh8l4N5U",
        "colab_type": "code",
        "colab": {
          "base_uri": "https://localhost:8080/",
          "height": 345
        },
        "outputId": "bcc5c32f-2d33-4dad-8c0e-185d8c50597c"
      },
      "source": [
        "#Criando um DataFrame\n",
        "\n",
        "dates = pd.date_range('20200101', periods=10)\n",
        "#range de 10 datas iniciando com 20200101\n",
        "df = pd.DataFrame(np.random.randn(10,4), index = dates, columns=list('ABCD'))\n",
        "#gerando dados randomicos para popular a tabela, com indice sendo as datas e as colunas com títulos A,B,C,D\n",
        "df"
      ],
      "execution_count": 90,
      "outputs": [
        {
          "output_type": "execute_result",
          "data": {
            "text/html": [
              "<div>\n",
              "<style scoped>\n",
              "    .dataframe tbody tr th:only-of-type {\n",
              "        vertical-align: middle;\n",
              "    }\n",
              "\n",
              "    .dataframe tbody tr th {\n",
              "        vertical-align: top;\n",
              "    }\n",
              "\n",
              "    .dataframe thead th {\n",
              "        text-align: right;\n",
              "    }\n",
              "</style>\n",
              "<table border=\"1\" class=\"dataframe\">\n",
              "  <thead>\n",
              "    <tr style=\"text-align: right;\">\n",
              "      <th></th>\n",
              "      <th>A</th>\n",
              "      <th>B</th>\n",
              "      <th>C</th>\n",
              "      <th>D</th>\n",
              "    </tr>\n",
              "  </thead>\n",
              "  <tbody>\n",
              "    <tr>\n",
              "      <th>2020-01-01</th>\n",
              "      <td>-1.199450</td>\n",
              "      <td>0.546110</td>\n",
              "      <td>0.565547</td>\n",
              "      <td>1.650190</td>\n",
              "    </tr>\n",
              "    <tr>\n",
              "      <th>2020-01-02</th>\n",
              "      <td>0.860479</td>\n",
              "      <td>-0.760395</td>\n",
              "      <td>0.371678</td>\n",
              "      <td>-0.167800</td>\n",
              "    </tr>\n",
              "    <tr>\n",
              "      <th>2020-01-03</th>\n",
              "      <td>-0.538002</td>\n",
              "      <td>-1.030120</td>\n",
              "      <td>-2.993862</td>\n",
              "      <td>1.230291</td>\n",
              "    </tr>\n",
              "    <tr>\n",
              "      <th>2020-01-04</th>\n",
              "      <td>0.345409</td>\n",
              "      <td>0.060058</td>\n",
              "      <td>-0.423333</td>\n",
              "      <td>0.765457</td>\n",
              "    </tr>\n",
              "    <tr>\n",
              "      <th>2020-01-05</th>\n",
              "      <td>0.645649</td>\n",
              "      <td>-2.008271</td>\n",
              "      <td>0.321339</td>\n",
              "      <td>0.025149</td>\n",
              "    </tr>\n",
              "    <tr>\n",
              "      <th>2020-01-06</th>\n",
              "      <td>-0.472700</td>\n",
              "      <td>-0.340600</td>\n",
              "      <td>0.274690</td>\n",
              "      <td>-0.255787</td>\n",
              "    </tr>\n",
              "    <tr>\n",
              "      <th>2020-01-07</th>\n",
              "      <td>-0.900482</td>\n",
              "      <td>-1.031559</td>\n",
              "      <td>0.936371</td>\n",
              "      <td>0.487478</td>\n",
              "    </tr>\n",
              "    <tr>\n",
              "      <th>2020-01-08</th>\n",
              "      <td>-0.265991</td>\n",
              "      <td>0.142812</td>\n",
              "      <td>0.134106</td>\n",
              "      <td>-0.953731</td>\n",
              "    </tr>\n",
              "    <tr>\n",
              "      <th>2020-01-09</th>\n",
              "      <td>1.307839</td>\n",
              "      <td>-0.564258</td>\n",
              "      <td>1.072039</td>\n",
              "      <td>-0.660030</td>\n",
              "    </tr>\n",
              "    <tr>\n",
              "      <th>2020-01-10</th>\n",
              "      <td>-1.445053</td>\n",
              "      <td>-0.070487</td>\n",
              "      <td>1.065641</td>\n",
              "      <td>0.317379</td>\n",
              "    </tr>\n",
              "  </tbody>\n",
              "</table>\n",
              "</div>"
            ],
            "text/plain": [
              "                   A         B         C         D\n",
              "2020-01-01 -1.199450  0.546110  0.565547  1.650190\n",
              "2020-01-02  0.860479 -0.760395  0.371678 -0.167800\n",
              "2020-01-03 -0.538002 -1.030120 -2.993862  1.230291\n",
              "2020-01-04  0.345409  0.060058 -0.423333  0.765457\n",
              "2020-01-05  0.645649 -2.008271  0.321339  0.025149\n",
              "2020-01-06 -0.472700 -0.340600  0.274690 -0.255787\n",
              "2020-01-07 -0.900482 -1.031559  0.936371  0.487478\n",
              "2020-01-08 -0.265991  0.142812  0.134106 -0.953731\n",
              "2020-01-09  1.307839 -0.564258  1.072039 -0.660030\n",
              "2020-01-10 -1.445053 -0.070487  1.065641  0.317379"
            ]
          },
          "metadata": {
            "tags": []
          },
          "execution_count": 90
        }
      ]
    },
    {
      "cell_type": "markdown",
      "metadata": {
        "id": "07eO98zG4uA-",
        "colab_type": "text"
      },
      "source": [
        ""
      ]
    },
    {
      "cell_type": "markdown",
      "metadata": {
        "id": "Gs7sMHjS3Bl5",
        "colab_type": "text"
      },
      "source": [
        ""
      ]
    }
  ]
}