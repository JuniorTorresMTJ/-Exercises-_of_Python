{
  "nbformat": 4,
  "nbformat_minor": 0,
  "metadata": {
    "colab": {
      "name": "BaseCompletaEnem2019.ipynb",
      "provenance": [],
      "collapsed_sections": [],
      "include_colab_link": true
    },
    "kernelspec": {
      "name": "python3",
      "display_name": "Python 3"
    }
  },
  "cells": [
    {
      "cell_type": "markdown",
      "metadata": {
        "id": "view-in-github",
        "colab_type": "text"
      },
      "source": [
        "<a href=\"https://colab.research.google.com/github/JuniorTorresMTJ/-Exercises-_of_Python/blob/master/BaseCompletaEnem2019.ipynb\" target=\"_parent\"><img src=\"https://colab.research.google.com/assets/colab-badge.svg\" alt=\"Open In Colab\"/></a>"
      ]
    },
    {
      "cell_type": "markdown",
      "metadata": {
        "id": "BY6gLM-Bh4yV"
      },
      "source": [
        "# Base ENEM 2019\n",
        "\n",
        "Como a base do Enem é incrívelmente grande, fiz a quebra de acordo com o dicionário dos Microdados do ENEM 2019, assim, ao invés de criar um data frame com todas as colunas, você pode criar um data frame específico, somente com as colunas que deseja trabalhar e ainda, pode juntar os dados de mais de um data frame, pois todos eles tem a coluna NU_INSCRICAO que serve como chave.\n",
        "\n",
        "A função abaixo acessa os arquivos compartilhados no meu Google Drive e retorna o data frame. \n",
        "\n",
        "Para funcionar adequadamente, na primeira vez que rodar, a função vai pegar suas credenciais do google.colab e solicitar acesso. Depois o acesso for liberado, ele executará normalmente. "
      ]
    },
    {
      "cell_type": "code",
      "metadata": {
        "id": "SM8hHaU6h0Ab"
      },
      "source": [
        "import pandas as pd\n",
        "import io\n",
        "from googleapiclient.http import MediaIoBaseDownload\n",
        "from google.colab import auth\n",
        "from googleapiclient.discovery import build\n",
        "\n",
        "auth.authenticate_user()\n",
        "drive_service = build('drive', 'v3')\n",
        "\n",
        "def criaDataFrameEnem(nomeDataFrame):\n",
        "  '''Possíveis nomes de DataFrames:\\n\n",
        "  'AtendimentoEspecializado'\\n\n",
        "  'DadosEscola'\\n\n",
        "  'DadosParticipantes'\\n\n",
        "  'Prova'\\n\n",
        "  'SocioEconomico'\\n\n",
        "  'MunicipiosBrasilIBGE'\\n\n",
        "  '''\n",
        "  arquivosCompartilhados= {'AtendimentoEspecializado' : '1GI8eFwJrNeQsw8yhwGPvNj-ooW19rcJs','DadosEscola' : '1OrK2NptDQHnKocM4-A5e9Dw5c5pVCnMs','DadosParticipantes' : '1qy4iZzntPwsFF4C_Jh8xQMkaNtP3OWwq','ProvaDados' : '1I5fvOsfUC2krlTtR4DL6CZfohnKD04-h', 'ProvaGabaritoRespostas' : '1wb_yTKtYV-3Ix6fvLSQIyfQStT3aMHZ2', 'SocioEconomico' : '13G9_DC5qz_tgmPg3C-8BriCnfEv2-Akp','MunicipiosBrasilIBGE' : '1cMreS5-ExCHzIFpopliRUuKzQtKK-pVE'}\n",
        "  url= 'https://drive.google.com/uc?export=download&confirm=Z0Is&id={}'.format(arquivosCompartilhados[nomeDataFrame])\n",
        "  request = drive_service.files().get_media(fileId=arquivosCompartilhados[nomeDataFrame])\n",
        "  downloaded = io.BytesIO()\n",
        "  downloader = MediaIoBaseDownload(downloaded, request)\n",
        "  done = False\n",
        "  while done is False:\n",
        "    _, done = downloader.next_chunk()\n",
        "  downloaded.seek(0)\n",
        "  s=str(downloaded.read(),'utf-8')\n",
        "  data = io.StringIO(s)\n",
        "  return pd.read_csv(data)"
      ],
      "execution_count": null,
      "outputs": []
    },
    {
      "cell_type": "markdown",
      "metadata": {
        "id": "BICMV6ZclrRj"
      },
      "source": [
        "## Carregando os DataFrames:\n",
        "\n",
        "Os códigos abaixo mostram como carrergar o data frame escolhido em uma variável"
      ]
    },
    {
      "cell_type": "code",
      "metadata": {
        "id": "RGBbZPTTtEZz",
        "outputId": "a1fae298-21d7-49fd-c572-cfbb797c71cb",
        "colab": {
          "base_uri": "https://localhost:8080/",
          "height": 187
        }
      },
      "source": [
        "dfAtendimentoEspecializado = criaDataFrameEnem('AtendimentoEspecializado')\n",
        "print(type(dfAtendimentoEspecializado),dfAtendimentoEspecializado.shape,dfAtendimentoEspecializado.head(),sep='\\n')"
      ],
      "execution_count": null,
      "outputs": [
        {
          "output_type": "stream",
          "text": [
            "<class 'pandas.core.frame.DataFrame'>\n",
            "(5095270, 52)\n",
            "   NU_INSCRICAO  IN_ACESSO  ...  IN_TRANSCRICAO  IN_VISAO_MONOCULAR\n",
            "0  190001004627          0  ...               0                   0\n",
            "1  190001004628          0  ...               0                   0\n",
            "2  190001004629          0  ...               0                   0\n",
            "3  190001004630          0  ...               0                   0\n",
            "4  190001004631          0  ...               0                   0\n",
            "\n",
            "[5 rows x 52 columns]\n"
          ],
          "name": "stdout"
        }
      ]
    },
    {
      "cell_type": "code",
      "metadata": {
        "id": "5uyNs4CExVaT",
        "outputId": "a9e1fb28-4c9d-44fe-c045-684dfbb1e2d6",
        "colab": {
          "base_uri": "https://localhost:8080/",
          "height": 187
        }
      },
      "source": [
        "dfAtendimentoEspecializado = None\n",
        "dfDadosEscola = criaDataFrameEnem('DadosEscola')\n",
        "print(type(dfDadosEscola),dfDadosEscola.shape,dfDadosEscola.head(),sep='\\n')"
      ],
      "execution_count": null,
      "outputs": [
        {
          "output_type": "stream",
          "text": [
            "<class 'pandas.core.frame.DataFrame'>\n",
            "(5095270, 9)\n",
            "   NU_INSCRICAO   CO_ESCOLA  ...  TP_LOCALIZACAO_ESC  TP_SIT_FUNC_ESC\n",
            "0  190001004627         NaN  ...                 NaN              NaN\n",
            "1  190001004628         NaN  ...                 NaN              NaN\n",
            "2  190001004629  15230023.0  ...                 1.0              1.0\n",
            "3  190001004630  15027635.0  ...                 1.0              1.0\n",
            "4  190001004631         NaN  ...                 NaN              NaN\n",
            "\n",
            "[5 rows x 9 columns]\n"
          ],
          "name": "stdout"
        }
      ]
    },
    {
      "cell_type": "code",
      "metadata": {
        "id": "LMaNd0h7xkUT",
        "outputId": "073b43e4-4c52-4632-9b31-34394300e4e4",
        "colab": {
          "base_uri": "https://localhost:8080/",
          "height": 187
        }
      },
      "source": [
        "dfDadosEscola = None\n",
        "dfDadosParticipantes = criaDataFrameEnem('DadosParticipantes')\n",
        "print(type(dfDadosParticipantes),dfDadosParticipantes.shape,dfDadosParticipantes.head(),sep='\\n')"
      ],
      "execution_count": null,
      "outputs": [
        {
          "output_type": "stream",
          "text": [
            "<class 'pandas.core.frame.DataFrame'>\n",
            "(5095270, 20)\n",
            "   NU_INSCRICAO  CO_MUNICIPIO_NASCIMENTO  ...  TP_SEXO  TP_ST_CONCLUSAO\n",
            "0  190001004627                      NaN  ...        M                1\n",
            "1  190001004628                1505502.0  ...        F                3\n",
            "2  190001004629                1505502.0  ...        F                2\n",
            "3  190001004630                1501402.0  ...        M                2\n",
            "4  190001004631                1503903.0  ...        M                1\n",
            "\n",
            "[5 rows x 20 columns]\n"
          ],
          "name": "stdout"
        }
      ]
    },
    {
      "cell_type": "code",
      "metadata": {
        "id": "xk_yDtYfxkgV",
        "outputId": "78011562-0f53-4934-bd0b-bb6567382fae",
        "colab": {
          "base_uri": "https://localhost:8080/",
          "height": 187
        }
      },
      "source": [
        "dfDadosParticipantes = None\n",
        "dfProvaDados = criaDataFrameEnem('ProvaDados')\n",
        "print(type(dfProvaDados),dfProvaDados.shape,dfProvaDados.head(),sep='\\n')"
      ],
      "execution_count": null,
      "outputs": [
        {
          "output_type": "stream",
          "text": [
            "<class 'pandas.core.frame.DataFrame'>\n",
            "(5095270, 25)\n",
            "   NU_INSCRICAO  CO_MUNICIPIO_PROVA  ...  TP_PRESENCA_MT  TP_STATUS_REDACAO\n",
            "0  190001004627             1506807  ...               1                1.0\n",
            "1  190001004628             1504059  ...               1                1.0\n",
            "2  190001004629             1505502  ...               1                1.0\n",
            "3  190001004630             1507706  ...               0                NaN\n",
            "4  190001004631             1503903  ...               0                NaN\n",
            "\n",
            "[5 rows x 25 columns]\n"
          ],
          "name": "stdout"
        }
      ]
    },
    {
      "cell_type": "code",
      "metadata": {
        "id": "h6fAEsqNABck",
        "outputId": "91ff5add-fc03-4560-992f-92fe5a521600",
        "colab": {
          "base_uri": "https://localhost:8080/",
          "height": 187
        }
      },
      "source": [
        "dfProvaDados = None\n",
        "dfProvaGabaritoRespostas = criaDataFrameEnem('ProvaGabaritoRespostas')\n",
        "print(type(dfProvaGabaritoRespostas),dfProvaGabaritoRespostas.shape,dfProvaGabaritoRespostas.head(),sep='\\n')"
      ],
      "execution_count": null,
      "outputs": [
        {
          "output_type": "stream",
          "text": [
            "<class 'pandas.core.frame.DataFrame'>\n",
            "(5095270, 9)\n",
            "   NU_INSCRICAO  ...                                TX_RESPOSTAS_MT\n",
            "0  190001004627  ...  ADBBDEDCABCEDCACBECDCCEBCCDBEBDCEDDBCDBCCDECC\n",
            "1  190001004628  ...  DACCCBDCCCBACCCCEEEBBBEACCAABDBACDCAECABCCDBE\n",
            "2  190001004629  ...  DECCABCBCDBBBEAECBDBBCDDAADEBCBCACBBEDADDEEAC\n",
            "3  190001004630  ...                                            NaN\n",
            "4  190001004631  ...                                            NaN\n",
            "\n",
            "[5 rows x 9 columns]\n"
          ],
          "name": "stdout"
        }
      ]
    },
    {
      "cell_type": "code",
      "metadata": {
        "id": "EYLY8hgyxkrK",
        "outputId": "0d09105d-b1c5-4ea4-e48e-8632204dcbaa",
        "colab": {
          "base_uri": "https://localhost:8080/",
          "height": 187
        }
      },
      "source": [
        "dfProvaGabaritoRespostas = None\n",
        "dfSocioEconomico = criaDataFrameEnem('SocioEconomico')\n",
        "print(type(dfSocioEconomico),dfSocioEconomico.shape,dfSocioEconomico.head(),sep='\\n')"
      ],
      "execution_count": null,
      "outputs": [
        {
          "output_type": "stream",
          "text": [
            "<class 'pandas.core.frame.DataFrame'>\n",
            "(5095270, 26)\n",
            "   NU_INSCRICAO Q001 Q002 Q003 Q004  Q005  ... Q020 Q021 Q022 Q023 Q024 Q025\n",
            "0  190001004627    D    E    A    A     7  ...    B    A    D    A    B    A\n",
            "1  190001004628    D    E    A    A     5  ...    B    A    B    A    A    A\n",
            "2  190001004629    H    E    A    D     3  ...    B    B    D    A    C    B\n",
            "3  190001004630    D    D    A    B     3  ...    A    A    D    A    A    A\n",
            "4  190001004631    B    C    A    A     5  ...    A    A    D    A    A    A\n",
            "\n",
            "[5 rows x 26 columns]\n"
          ],
          "name": "stdout"
        }
      ]
    },
    {
      "cell_type": "code",
      "metadata": {
        "id": "T6-xANMNxkz8",
        "outputId": "46415aa3-09a4-49cb-d551-2996147ccbdc",
        "colab": {
          "base_uri": "https://localhost:8080/",
          "height": 187
        }
      },
      "source": [
        "dfSocioEconomico = None\n",
        "dfMunicipiosBrasilIBGE = criaDataFrameEnem('MunicipiosBrasilIBGE')\n",
        "print(type(dfMunicipiosBrasilIBGE),dfMunicipiosBrasilIBGE.shape,dfMunicipiosBrasilIBGE.head(),sep='\\n')"
      ],
      "execution_count": null,
      "outputs": [
        {
          "output_type": "stream",
          "text": [
            "<class 'pandas.core.frame.DataFrame'>\n",
            "(5570, 9)\n",
            "   Código Município Completo   Nome_UF  ... Sigla Região\n",
            "0                    1100015  Rondônia  ...    RO  Norte\n",
            "1                    1100379  Rondônia  ...    RO  Norte\n",
            "2                    1100403  Rondônia  ...    RO  Norte\n",
            "3                    1100346  Rondônia  ...    RO  Norte\n",
            "4                    1100023  Rondônia  ...    RO  Norte\n",
            "\n",
            "[5 rows x 9 columns]\n"
          ],
          "name": "stdout"
        }
      ]
    },
    {
      "cell_type": "code",
      "metadata": {
        "id": "4km3M1TqA4Dw"
      },
      "source": [
        "## Juntando as Informações:\n",
        "\n",
        "Caso você queria informações que estejam em 2 ou mais data frames diferentes, pode fazer um merge dos data frames desta forma"
      ],
      "execution_count": null,
      "outputs": []
    },
    {
      "cell_type": "code",
      "metadata": {
        "id": "NzuGCo2XBDpV",
        "outputId": "f901eb37-d7ca-4d99-f423-8888d542365f",
        "colab": {
          "base_uri": "https://localhost:8080/",
          "height": 187
        }
      },
      "source": [
        "dfDadosEscola = criaDataFrameEnem('DadosEscola')\n",
        "dfDadosParticipantes = criaDataFrameEnem('DadosParticipantes')\n",
        "dfParticipantesEEscola = pd.merge(dfDadosParticipantes, dfDadosEscola,on = 'NU_INSCRICAO')\n",
        "print(type(dfParticipantesEEscola),dfParticipantesEEscola.shape,dfParticipantesEEscola.head(),sep='\\n')"
      ],
      "execution_count": null,
      "outputs": [
        {
          "output_type": "stream",
          "text": [
            "<class 'pandas.core.frame.DataFrame'>\n",
            "(5095270, 28)\n",
            "   NU_INSCRICAO  CO_MUNICIPIO_NASCIMENTO  ...  TP_LOCALIZACAO_ESC  TP_SIT_FUNC_ESC\n",
            "0  190001004627                      NaN  ...                 NaN              NaN\n",
            "1  190001004628                1505502.0  ...                 NaN              NaN\n",
            "2  190001004629                1505502.0  ...                 1.0              1.0\n",
            "3  190001004630                1501402.0  ...                 1.0              1.0\n",
            "4  190001004631                1503903.0  ...                 NaN              NaN\n",
            "\n",
            "[5 rows x 28 columns]\n"
          ],
          "name": "stdout"
        }
      ]
    }
  ]
}