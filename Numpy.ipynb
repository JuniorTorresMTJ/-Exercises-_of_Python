{
  "nbformat": 4,
  "nbformat_minor": 0,
  "metadata": {
    "colab": {
      "name": "Numpy.ipynb",
      "provenance": [],
      "authorship_tag": "ABX9TyNl/re0n68ihyj6x5Z5WJNb",
      "include_colab_link": true
    },
    "kernelspec": {
      "name": "python3",
      "display_name": "Python 3"
    }
  },
  "cells": [
    {
      "cell_type": "markdown",
      "metadata": {
        "id": "view-in-github",
        "colab_type": "text"
      },
      "source": [
        "<a href=\"https://colab.research.google.com/github/JuniorTorresMTJ/-Exercises-_of_Python/blob/master/Numpy.ipynb\" target=\"_parent\"><img src=\"https://colab.research.google.com/assets/colab-badge.svg\" alt=\"Open In Colab\"/></a>"
      ]
    },
    {
      "cell_type": "markdown",
      "metadata": {
        "id": "FgECrW7JBCt-",
        "colab_type": "text"
      },
      "source": [
        "#Conhecendo numpy e suas funções"
      ]
    },
    {
      "cell_type": "code",
      "metadata": {
        "id": "zAmLodzX-kr8",
        "colab_type": "code",
        "colab": {}
      },
      "source": [
        "import pandas as pd\n",
        "import numpy as np"
      ],
      "execution_count": 1,
      "outputs": []
    },
    {
      "cell_type": "markdown",
      "metadata": {
        "id": "GVb8_cPGAWmy",
        "colab_type": "text"
      },
      "source": [
        "Criando um Array "
      ]
    },
    {
      "cell_type": "code",
      "metadata": {
        "id": "bYTdcl8Q-s54",
        "colab_type": "code",
        "colab": {}
      },
      "source": [
        "a = np.array([1,2,3])"
      ],
      "execution_count": 2,
      "outputs": []
    },
    {
      "cell_type": "markdown",
      "metadata": {
        "id": "U6cQarRqAhPQ",
        "colab_type": "text"
      },
      "source": [
        "Somando 1,5 em todos os elementos do Array"
      ]
    },
    {
      "cell_type": "code",
      "metadata": {
        "id": "GGuIP9lH-0iR",
        "colab_type": "code",
        "colab": {
          "base_uri": "https://localhost:8080/",
          "height": 33
        },
        "outputId": "30c7057d-74df-4f5a-efe7-a0f5e378729d"
      },
      "source": [
        "b =a + 1.5\n",
        "b"
      ],
      "execution_count": 15,
      "outputs": [
        {
          "output_type": "execute_result",
          "data": {
            "text/plain": [
              "array([2.5, 3.5, 4.5])"
            ]
          },
          "metadata": {
            "tags": []
          },
          "execution_count": 15
        }
      ]
    },
    {
      "cell_type": "markdown",
      "metadata": {
        "id": "cBvvBDwvAizF",
        "colab_type": "text"
      },
      "source": [
        "Arredondando todos os elementos"
      ]
    },
    {
      "cell_type": "code",
      "metadata": {
        "id": "nlWubokN-2Yy",
        "colab_type": "code",
        "colab": {}
      },
      "source": [
        "c = np.around(b)"
      ],
      "execution_count": 16,
      "outputs": []
    },
    {
      "cell_type": "code",
      "metadata": {
        "id": "MG4bWqTo_BsK",
        "colab_type": "code",
        "colab": {
          "base_uri": "https://localhost:8080/",
          "height": 33
        },
        "outputId": "33c1adcc-0b45-4cb7-bcd1-95c24503d388"
      },
      "source": [
        "c"
      ],
      "execution_count": 17,
      "outputs": [
        {
          "output_type": "execute_result",
          "data": {
            "text/plain": [
              "array([2., 4., 4.])"
            ]
          },
          "metadata": {
            "tags": []
          },
          "execution_count": 17
        }
      ]
    },
    {
      "cell_type": "markdown",
      "metadata": {
        "id": "GfqqV0XuAoDl",
        "colab_type": "text"
      },
      "source": [
        "Copiar o Array com a função Flatten (Array C é igual ao Array D)"
      ]
    },
    {
      "cell_type": "code",
      "metadata": {
        "id": "0LVjUiqD_AbJ",
        "colab_type": "code",
        "colab": {}
      },
      "source": [
        "d = c.flatten()"
      ],
      "execution_count": 18,
      "outputs": []
    },
    {
      "cell_type": "code",
      "metadata": {
        "id": "srZn3jo4_ryw",
        "colab_type": "code",
        "colab": {
          "base_uri": "https://localhost:8080/",
          "height": 33
        },
        "outputId": "0e2324a5-8427-424a-ac2b-1fa4fea136e7"
      },
      "source": [
        "d"
      ],
      "execution_count": 19,
      "outputs": [
        {
          "output_type": "execute_result",
          "data": {
            "text/plain": [
              "array([2., 4., 4.])"
            ]
          },
          "metadata": {
            "tags": []
          },
          "execution_count": 19
        }
      ]
    },
    {
      "cell_type": "markdown",
      "metadata": {
        "id": "XB-EcwscAyZ_",
        "colab_type": "text"
      },
      "source": [
        "Repetindo cada elemento do Array"
      ]
    },
    {
      "cell_type": "code",
      "metadata": {
        "id": "RtWaCqjt_sTm",
        "colab_type": "code",
        "colab": {}
      },
      "source": [
        "r= np.repeat(a,3)"
      ],
      "execution_count": 20,
      "outputs": []
    },
    {
      "cell_type": "code",
      "metadata": {
        "id": "re4-pj_Z_9Qp",
        "colab_type": "code",
        "colab": {
          "base_uri": "https://localhost:8080/",
          "height": 33
        },
        "outputId": "7c365971-1b77-4889-97fa-f21fa7aaf9c5"
      },
      "source": [
        "r"
      ],
      "execution_count": 21,
      "outputs": [
        {
          "output_type": "execute_result",
          "data": {
            "text/plain": [
              "array([1, 1, 1, 2, 2, 2, 3, 3, 3])"
            ]
          },
          "metadata": {
            "tags": []
          },
          "execution_count": 21
        }
      ]
    },
    {
      "cell_type": "markdown",
      "metadata": {
        "id": "JQA0bD7fA5S2",
        "colab_type": "text"
      },
      "source": [
        "Repetindo todos os elementos do  Array"
      ]
    },
    {
      "cell_type": "code",
      "metadata": {
        "id": "FzaqoUsY_96I",
        "colab_type": "code",
        "colab": {
          "base_uri": "https://localhost:8080/",
          "height": 33
        },
        "outputId": "a310367a-e8c9-4119-e15e-b64d7f7566e8"
      },
      "source": [
        "t =  np.tile(a,3)\n",
        "t"
      ],
      "execution_count": 23,
      "outputs": [
        {
          "output_type": "execute_result",
          "data": {
            "text/plain": [
              "array([1, 2, 3, 1, 2, 3, 1, 2, 3])"
            ]
          },
          "metadata": {
            "tags": []
          },
          "execution_count": 23
        }
      ]
    },
    {
      "cell_type": "markdown",
      "metadata": {
        "id": "-1jUCrHvA9RF",
        "colab_type": "text"
      },
      "source": [
        "FIM\n"
      ]
    }
  ]
}